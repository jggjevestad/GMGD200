{
 "cells": [
  {
   "cell_type": "markdown",
   "id": "c5201946-eaae-4a19-b597-8f1ed441a772",
   "metadata": {},
   "source": [
    "# Oppgave 1 {-}\n",
    "\n",
    "## Hvor stor er jorden? {-}\n",
    "\n",
    "Erathostenes (276-194 f.Kr.) bestemte jordradiusen ved å gjøre målinger mellom byene Alexandria og Syrene.\n",
    "$$\n",
    "\\alpha = \\frac{b}{R} \\Rightarrow R = \\frac{b}{\\alpha}\n",
    "$$\n",
    "\n",
    "Erathostenes sine målinger:\n",
    "$$\n",
    "\\alpha = 7.2 \\, \\text{grader} , \\: b = 4210 \\, \\text{stadier} \\: (1 \\, \\text{stadie} \\approx 190 m)\n",
    "$$"
   ]
  },
  {
   "cell_type": "code",
   "execution_count": 1,
   "id": "6d0636c7-625e-4e0c-b952-58602ef2124d",
   "metadata": {},
   "outputs": [
    {
     "name": "stdout",
     "output_type": "stream",
     "text": [
      "Jordradius er: 6365 km\n"
     ]
    }
   ],
   "source": [
    "# Import\n",
    "from numpy import pi\n",
    "\n",
    "# Målinger\n",
    "alpha = 7.2       # Grader\n",
    "b = 4210          # Stadier\n",
    "\n",
    "# Beregner jordradius\n",
    "R = (b*190)/(alpha*(pi/180))\n",
    "\n",
    "print(f\"Jordradius er: {R/1e3:.0f} km\")"
   ]
  }
 ],
 "metadata": {
  "kernelspec": {
   "display_name": "Python 3 (ipykernel)",
   "language": "python",
   "name": "python3"
  },
  "language_info": {
   "codemirror_mode": {
    "name": "ipython",
    "version": 3
   },
   "file_extension": ".py",
   "mimetype": "text/x-python",
   "name": "python",
   "nbconvert_exporter": "python",
   "pygments_lexer": "ipython3",
   "version": "3.11.9"
  }
 },
 "nbformat": 4,
 "nbformat_minor": 5
}
