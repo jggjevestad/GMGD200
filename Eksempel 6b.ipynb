{
 "cells": [
  {
   "cell_type": "code",
   "execution_count": 1,
   "id": "113f2ebe-073f-4cd8-b04e-d21c08651d29",
   "metadata": {},
   "outputs": [
    {
     "name": "stdout",
     "output_type": "stream",
     "text": [
      "[[3160948.7]\n",
      " [ 601715.1]\n",
      " [5498891. ]] 6371142.7299999995\n"
     ]
    }
   ],
   "source": [
    "from numpy import array, sqrt, sin, cos, arctan, pi, set_printoptions\n",
    "from numpy.linalg import norm\n",
    "from geodesy import dms2rad, geod2ECEF, rad2deg\n",
    "\n",
    "set_printoptions(precision=1, suppress=True)\n",
    "\n",
    "# Jordradius\n",
    "R = 6371e3     # meter\n",
    "\n",
    "# Geodeetiske koordinater FLOY\n",
    "lat1 = dms2rad(59, 39, 56.51989)  # radianer\n",
    "lon1 = dms2rad(10, 46, 40.14889)  # radianer\n",
    "h1 = 142.730                      # meter\n",
    "\n",
    "# Beregner ECEF koordinater FLOY\n",
    "X1, Y1, Z1 = geod2ECEF(R, R, lat1, lon1, h1)\n",
    "\n",
    "FLOY = array([[X1],\n",
    "              [Y1],\n",
    "              [Z1]])\n",
    "print(FLOY, norm(FLOY))"
   ]
  },
  {
   "cell_type": "code",
   "execution_count": 2,
   "id": "97bc3f92-7f62-46ee-a808-709e0aec0bf1",
   "metadata": {},
   "outputs": [
    {
     "name": "stdout",
     "output_type": "stream",
     "text": [
      "[[3160909.2]\n",
      " [ 601672.1]\n",
      " [5498910.6]] 6371136.039\n"
     ]
    }
   ],
   "source": [
    "# Geodeetiske koordinater SSIR\n",
    "lat2 = dms2rad(59, 39, 58.14943)  # radianer\n",
    "lon2 = dms2rad(10, 46, 37.91682)  # radianer\n",
    "h2 = 136.039                      # meter\n",
    "\n",
    "# Beregner ECEF koordinater SSIR\n",
    "X2, Y2, Z2 = geod2ECEF(R, R, lat2, lon2, h2)\n",
    "\n",
    "SSIR = array([[X2],\n",
    "              [Y2],\n",
    "              [Z2]])\n",
    "print(SSIR, norm(SSIR))"
   ]
  },
  {
   "cell_type": "code",
   "execution_count": 3,
   "id": "01cc17af-c072-41a4-9b12-4500c24aff26",
   "metadata": {},
   "outputs": [
    {
     "name": "stdout",
     "output_type": "stream",
     "text": [
      "[[-39.5]\n",
      " [-43. ]\n",
      " [ 19.6]]\n",
      "Lengde =  61.6 m\n"
     ]
    }
   ],
   "source": [
    "# Baselinje mellom FLOY og SSIR\n",
    "dX = SSIR - FLOY\n",
    "print(dX)\n",
    "print(f\"Lengde = {norm(dX):5.1f} m\")"
   ]
  },
  {
   "cell_type": "code",
   "execution_count": 4,
   "id": "c8c52643-7c8b-420b-90b3-a07160154fea",
   "metadata": {},
   "outputs": [
    {
     "name": "stdout",
     "output_type": "stream",
     "text": [
      "[[-34.8]\n",
      " [ 50.3]\n",
      " [ -6.7]]\n",
      "Lengde =  61.6 m\n"
     ]
    }
   ],
   "source": [
    "# Transformasjon til toposentrisk system (e, n ,u)\n",
    "Ce_g = array([[-sin(lon1), cos(lon1), 0],\n",
    "              [-sin(lat1)*cos(lon1), -sin(lat1)*sin(lon1), cos(lat1)],\n",
    "              [cos(lat1)*cos(lon1), cos(lat1)*sin(lon1), sin(lat1)]])\n",
    "\n",
    "dX_enu = Ce_g@dX\n",
    "print(dX_enu)\n",
    "print(f\"Lengde = {norm(dX):5.1f} m\")"
   ]
  },
  {
   "cell_type": "code",
   "execution_count": 5,
   "id": "5daf9dda-9aa1-466d-af12-47914d633e1c",
   "metadata": {},
   "outputs": [
    {
     "name": "stdout",
     "output_type": "stream",
     "text": [
      "Asimut  = 325.3 grader\n",
      "Avstand =  61.6 m\n"
     ]
    }
   ],
   "source": [
    "# Beregner vinkel og avstand mellom FLOY og SSIR\n",
    "alpha = arctan(dX_enu[0, 0]/dX_enu[1, 0])\n",
    "\n",
    "# Beregner asimut (heading)\n",
    "heading = rad2deg(alpha + 2*pi)\n",
    "\n",
    "print(f\"Asimut  = {heading:5.1f} grader\")\n",
    "print(f\"Avstand = {norm(dX_enu):5.1f} m\")"
   ]
  }
 ],
 "metadata": {
  "kernelspec": {
   "display_name": "Python 3 (ipykernel)",
   "language": "python",
   "name": "python3"
  },
  "language_info": {
   "codemirror_mode": {
    "name": "ipython",
    "version": 3
   },
   "file_extension": ".py",
   "mimetype": "text/x-python",
   "name": "python",
   "nbconvert_exporter": "python",
   "pygments_lexer": "ipython3",
   "version": "3.12.2"
  }
 },
 "nbformat": 4,
 "nbformat_minor": 5
}
