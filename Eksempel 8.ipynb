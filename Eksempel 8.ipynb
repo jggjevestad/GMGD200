{
 "cells": [
  {
   "cell_type": "code",
   "execution_count": 1,
   "id": "3411bbcd-19a3-4b7b-be36-2f4c9ab4e60e",
   "metadata": {},
   "outputs": [],
   "source": [
    "# Import\n",
    "from numpy import array, mean\n",
    "from numpy.linalg import inv\n",
    "\n",
    "# Punkt A (KIRKE)\n",
    "\n",
    "# EUREF89\n",
    "NA = 6616156.845   # meter\n",
    "EA = 599609.151    # meter\n",
    "\n",
    "# NGO1948\n",
    "xA = 186085.461    # meter\n",
    "yA = 2836.307      # meter\n",
    "\n",
    "\n",
    "# Punkt B (FLOY)\n",
    "\n",
    "# EUREF89\n",
    "NB = 6615523.164   # meter\n",
    "EB = 600153.486    # meter\n",
    "\n",
    "# NGO1948\n",
    "xB = 185437.725    # meter\n",
    "yB = 3364.166      # meter\n",
    "\n",
    "\n",
    "# Punkt C (GPS1)\n",
    "\n",
    "# EUREF89\n",
    "NC = 6614931.501   # meter\n",
    "EC = 600389.145    # meter\n",
    "\n",
    "# NGO1948\n",
    "xC = 184839.971    # meter\n",
    "yC = 3584.454      # meter"
   ]
  },
  {
   "cell_type": "code",
   "execution_count": 2,
   "id": "fa1465fe-28ec-43fb-a27a-c8381fa2f283",
   "metadata": {},
   "outputs": [
    {
     "name": "stdout",
     "output_type": "stream",
     "text": [
      "[[6430071.384]\n",
      " [ 596772.844]]\n",
      "[[6430085.439]\n",
      " [ 596789.32 ]]\n",
      "[[6430078.4115]\n",
      " [ 596781.082 ]]\n"
     ]
    }
   ],
   "source": [
    "# Beregner transformasjonsparametre (P2 = T + P1)\n",
    "P1 = array([[xA],\n",
    "            [yA]])\n",
    "\n",
    "P2 = array([[NA],\n",
    "            [EA]])\n",
    "\n",
    "# Translasjon bestemt fra punkt A\n",
    "TA = P2 - P1\n",
    "print(TA)\n",
    "\n",
    "P1 = array([[xB],\n",
    "            [yB]])\n",
    "\n",
    "P2 = array([[NB],\n",
    "            [EB]])\n",
    "\n",
    "# Translasjon bestemt fra punkt B\n",
    "TB = P2 - P1\n",
    "print(TB)\n",
    "\n",
    "# Gjennomsnittlig translasjon\n",
    "T = mean([TA, TB], axis=0)\n",
    "print(T)"
   ]
  },
  {
   "cell_type": "code",
   "execution_count": 3,
   "id": "f4045707-0e44-44fc-acd7-7444f5be10ff",
   "metadata": {},
   "outputs": [
    {
     "name": "stdout",
     "output_type": "stream",
     "text": [
      "[[6614918.3825]\n",
      " [ 600365.536 ]]\n",
      "[[13.1185]\n",
      " [23.609 ]]\n"
     ]
    }
   ],
   "source": [
    "# Transformerer ukjent punkt\n",
    "P1 = array([[xC],\n",
    "            [yC]])\n",
    "\n",
    "# Transformasjon (kun translasjon)\n",
    "P2 = T + P1\n",
    "print(P2)\n",
    "\n",
    "# Kjente koordinater\n",
    "P2kjent = array([[NC],\n",
    "                 [EC]])\n",
    "\n",
    "# Avvik fra kjente koordinater\n",
    "print(P2kjent - P2)"
   ]
  },
  {
   "cell_type": "code",
   "execution_count": 4,
   "id": "7a5d1c00-72c4-4bb2-957d-e6b32fe462d6",
   "metadata": {},
   "outputs": [
    {
     "name": "stdout",
     "output_type": "stream",
     "text": [
      "tx =  6430106.346m\n",
      "ty =   601596.204m\n",
      "a =      0.99942\n",
      "b =      0.02591\n"
     ]
    }
   ],
   "source": [
    "# Beregner transformasjonsparametre (P2 = T + m@R@P1)\n",
    "\n",
    "y = array([[NA],\n",
    "           [EA],\n",
    "           [NB],\n",
    "           [EB]])\n",
    "\n",
    "A = array([[1, 0, xA, yA],\n",
    "           [0, 1, yA, -xA],\n",
    "           [1, 0, xB, yB],\n",
    "           [0, 1, yB, -xB]])\n",
    "\n",
    "x = inv(A)@y\n",
    "tx, ty, a, b = x.flatten()\n",
    "print(f\"tx = {tx:12.3f}m\")\n",
    "print(f\"ty = {ty:12.3f}m\")\n",
    "print(f\"a = {a:12.5f}\")\n",
    "print(f\"b = {b:12.5f}\")"
   ]
  },
  {
   "cell_type": "code",
   "execution_count": 5,
   "id": "0454ecfe-ff19-48fc-9493-08dc52270cdc",
   "metadata": {},
   "outputs": [
    {
     "name": "stdout",
     "output_type": "stream",
     "text": [
      "[[6614931.46632098]\n",
      " [ 600389.13416341]]\n",
      "[[0.03467902]\n",
      " [0.01083659]]\n"
     ]
    }
   ],
   "source": [
    "# Transformerer ukjent punkt\n",
    "P1 = array([[xC],\n",
    "            [yC]])\n",
    "\n",
    "T = array([[tx],\n",
    "           [ty]])\n",
    "\n",
    "mR = array([[a, b],\n",
    "            [-b, a]])\n",
    "\n",
    "# Transformasjon (Helmert)\n",
    "P2 = T + mR@P1\n",
    "print(P2)\n",
    "\n",
    "# Kjente koordinater\n",
    "P2kjent = array([[NC],\n",
    "                 [EC]])\n",
    "\n",
    "# Avvik fra kjente koordinater\n",
    "print(P2kjent - P2)"
   ]
  }
 ],
 "metadata": {
  "kernelspec": {
   "display_name": "Python 3 (ipykernel)",
   "language": "python",
   "name": "python3"
  },
  "language_info": {
   "codemirror_mode": {
    "name": "ipython",
    "version": 3
   },
   "file_extension": ".py",
   "mimetype": "text/x-python",
   "name": "python",
   "nbconvert_exporter": "python",
   "pygments_lexer": "ipython3",
   "version": "3.11.9"
  }
 },
 "nbformat": 4,
 "nbformat_minor": 5
}
