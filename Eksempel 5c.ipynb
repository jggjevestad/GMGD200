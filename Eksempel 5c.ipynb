{
 "cells": [
  {
   "cell_type": "code",
   "execution_count": 1,
   "id": "a8d7dba0-1e19-4815-93f0-a8ef57a2d466",
   "metadata": {},
   "outputs": [
    {
     "data": {
      "text/latex": [
       "$\\displaystyle \\left[\\begin{matrix}t_{x} + x_{1}\\\\t_{y} + y_{1}\\\\t_{z} + z_{1}\\end{matrix}\\right]$"
      ],
      "text/plain": [
       "Matrix([\n",
       "[t_x + x1],\n",
       "[t_y + y1],\n",
       "[t_z + z1]])"
      ]
     },
     "metadata": {},
     "output_type": "display_data"
    }
   ],
   "source": [
    "from sympy import Matrix, symbols, sin, cos, diag\n",
    "\n",
    "x1, y1, z1, x2, y2, z2, tx, ty, tz, sx, sy, sz, alpha, beta, gamma = symbols('x1 y1 z1 x2 y2 z2 t_x t_y t_z s_x s_y s_z alpha beta gamma')\n",
    "\n",
    "# Punkt\n",
    "P1 = Matrix([[x1],\n",
    "             [y1],\n",
    "             [z1]])\n",
    "\n",
    "# Translasjon\n",
    "T = Matrix([[tx],      \n",
    "            [ty],\n",
    "            [tz]])\n",
    "P2 = T + P1\n",
    "display(P2)"
   ]
  },
  {
   "cell_type": "code",
   "execution_count": 2,
   "id": "2c26ff99-6a19-4272-a043-9fad88f764e8",
   "metadata": {},
   "outputs": [
    {
     "data": {
      "text/latex": [
       "$\\displaystyle \\left[\\begin{matrix}s_{x} x_{1}\\\\s_{y} y_{1}\\\\s_{z} z_{1}\\end{matrix}\\right]$"
      ],
      "text/plain": [
       "Matrix([\n",
       "[s_x*x1],\n",
       "[s_y*y1],\n",
       "[s_z*z1]])"
      ]
     },
     "metadata": {},
     "output_type": "display_data"
    }
   ],
   "source": [
    "# Skalering\n",
    "S = Matrix([[sx, 0, 0],\n",
    "            [0, sy, 0],\n",
    "            [0, 0, sz]])\n",
    "\n",
    "# Alternativt\n",
    "S = diag(sx, sy, sz)\n",
    "\n",
    "P2 = S@P1\n",
    "display(P2)"
   ]
  },
  {
   "cell_type": "code",
   "execution_count": 3,
   "id": "6055d28c-4205-48b0-9112-36bd36c66c2a",
   "metadata": {},
   "outputs": [
    {
     "data": {
      "text/latex": [
       "$\\displaystyle \\left[\\begin{matrix}\\cos{\\left(\\beta \\right)} \\cos{\\left(\\gamma \\right)} & \\sin{\\left(\\alpha \\right)} \\sin{\\left(\\beta \\right)} \\cos{\\left(\\gamma \\right)} + \\sin{\\left(\\gamma \\right)} \\cos{\\left(\\alpha \\right)} & \\sin{\\left(\\alpha \\right)} \\sin{\\left(\\gamma \\right)} - \\sin{\\left(\\beta \\right)} \\cos{\\left(\\alpha \\right)} \\cos{\\left(\\gamma \\right)}\\\\- \\sin{\\left(\\gamma \\right)} \\cos{\\left(\\beta \\right)} & - \\sin{\\left(\\alpha \\right)} \\sin{\\left(\\beta \\right)} \\sin{\\left(\\gamma \\right)} + \\cos{\\left(\\alpha \\right)} \\cos{\\left(\\gamma \\right)} & \\sin{\\left(\\alpha \\right)} \\cos{\\left(\\gamma \\right)} + \\sin{\\left(\\beta \\right)} \\sin{\\left(\\gamma \\right)} \\cos{\\left(\\alpha \\right)}\\\\\\sin{\\left(\\beta \\right)} & - \\sin{\\left(\\alpha \\right)} \\cos{\\left(\\beta \\right)} & \\cos{\\left(\\alpha \\right)} \\cos{\\left(\\beta \\right)}\\end{matrix}\\right]$"
      ],
      "text/plain": [
       "Matrix([\n",
       "[ cos(beta)*cos(gamma),  sin(alpha)*sin(beta)*cos(gamma) + sin(gamma)*cos(alpha), sin(alpha)*sin(gamma) - sin(beta)*cos(alpha)*cos(gamma)],\n",
       "[-sin(gamma)*cos(beta), -sin(alpha)*sin(beta)*sin(gamma) + cos(alpha)*cos(gamma), sin(alpha)*cos(gamma) + sin(beta)*sin(gamma)*cos(alpha)],\n",
       "[            sin(beta),                                    -sin(alpha)*cos(beta),                                    cos(alpha)*cos(beta)]])"
      ]
     },
     "metadata": {},
     "output_type": "display_data"
    },
    {
     "data": {
      "text/latex": [
       "$\\displaystyle \\left[\\begin{matrix}x_{1} \\cos{\\left(\\beta \\right)} \\cos{\\left(\\gamma \\right)} + y_{1} \\left(\\sin{\\left(\\alpha \\right)} \\sin{\\left(\\beta \\right)} \\cos{\\left(\\gamma \\right)} + \\sin{\\left(\\gamma \\right)} \\cos{\\left(\\alpha \\right)}\\right) + z_{1} \\left(\\sin{\\left(\\alpha \\right)} \\sin{\\left(\\gamma \\right)} - \\sin{\\left(\\beta \\right)} \\cos{\\left(\\alpha \\right)} \\cos{\\left(\\gamma \\right)}\\right)\\\\- x_{1} \\sin{\\left(\\gamma \\right)} \\cos{\\left(\\beta \\right)} + y_{1} \\left(- \\sin{\\left(\\alpha \\right)} \\sin{\\left(\\beta \\right)} \\sin{\\left(\\gamma \\right)} + \\cos{\\left(\\alpha \\right)} \\cos{\\left(\\gamma \\right)}\\right) + z_{1} \\left(\\sin{\\left(\\alpha \\right)} \\cos{\\left(\\gamma \\right)} + \\sin{\\left(\\beta \\right)} \\sin{\\left(\\gamma \\right)} \\cos{\\left(\\alpha \\right)}\\right)\\\\x_{1} \\sin{\\left(\\beta \\right)} - y_{1} \\sin{\\left(\\alpha \\right)} \\cos{\\left(\\beta \\right)} + z_{1} \\cos{\\left(\\alpha \\right)} \\cos{\\left(\\beta \\right)}\\end{matrix}\\right]$"
      ],
      "text/plain": [
       "Matrix([\n",
       "[  x1*cos(beta)*cos(gamma) + y1*(sin(alpha)*sin(beta)*cos(gamma) + sin(gamma)*cos(alpha)) + z1*(sin(alpha)*sin(gamma) - sin(beta)*cos(alpha)*cos(gamma))],\n",
       "[-x1*sin(gamma)*cos(beta) + y1*(-sin(alpha)*sin(beta)*sin(gamma) + cos(alpha)*cos(gamma)) + z1*(sin(alpha)*cos(gamma) + sin(beta)*sin(gamma)*cos(alpha))],\n",
       "[                                                                                       x1*sin(beta) - y1*sin(alpha)*cos(beta) + z1*cos(alpha)*cos(beta)]])"
      ]
     },
     "metadata": {},
     "output_type": "display_data"
    }
   ],
   "source": [
    "# Rotasjon om x-aksen\n",
    "Rx = Matrix([[1, 0 ,0],\n",
    "             [0, cos(alpha), sin(alpha)],\n",
    "             [0, -sin(alpha), cos(alpha)]])\n",
    "\n",
    "# Rotasjon om y-aksen\n",
    "Ry = Matrix([[cos(beta), 0, -sin(beta)],\n",
    "             [0, 1, 0],\n",
    "             [sin(beta), 0, cos(beta)]])\n",
    "\n",
    "# Rotasjon om z-aksen\n",
    "Rz = Matrix([[cos(gamma), sin(gamma), 0],\n",
    "             [-sin(gamma), cos(gamma), 0],\n",
    "             [0, 0, 1]])\n",
    "\n",
    "R = Rz@Ry@Rx\n",
    "display(R)\n",
    "\n",
    "P2 = R@P1\n",
    "display(P2)"
   ]
  },
  {
   "cell_type": "code",
   "execution_count": 4,
   "id": "d98a5278-0738-43bf-8354-bfa2765d09a6",
   "metadata": {},
   "outputs": [
    {
     "data": {
      "text/latex": [
       "$\\displaystyle \\left[\\begin{matrix}t_{x} + x_{1}\\\\t_{y} + y_{1}\\\\t_{z} + z_{1}\\\\1\\end{matrix}\\right]$"
      ],
      "text/plain": [
       "Matrix([\n",
       "[t_x + x1],\n",
       "[t_y + y1],\n",
       "[t_z + z1],\n",
       "[       1]])"
      ]
     },
     "metadata": {},
     "output_type": "display_data"
    }
   ],
   "source": [
    "# Homogene koordinater\n",
    "\n",
    "# Punkt\n",
    "P1 = Matrix([[x1],\n",
    "             [y1],\n",
    "             [z1],\n",
    "             [1]])\n",
    "\n",
    "# Translasjon\n",
    "T = Matrix([[1, 0, 0, tx],\n",
    "            [0, 1, 0, ty],\n",
    "            [0, 0, 1, tz],\n",
    "            [0, 0, 0, 1]])\n",
    "P2 = T@P1\n",
    "display(P2)"
   ]
  },
  {
   "cell_type": "code",
   "execution_count": 5,
   "id": "e227b869-f0f4-465c-bc4c-3e1c68881d1e",
   "metadata": {},
   "outputs": [
    {
     "data": {
      "text/latex": [
       "$\\displaystyle \\left[\\begin{matrix}s_{x} x_{1}\\\\s_{y} y_{1}\\\\s_{z} z_{1}\\\\1\\end{matrix}\\right]$"
      ],
      "text/plain": [
       "Matrix([\n",
       "[s_x*x1],\n",
       "[s_y*y1],\n",
       "[s_z*z1],\n",
       "[     1]])"
      ]
     },
     "metadata": {},
     "output_type": "display_data"
    }
   ],
   "source": [
    "# Skalering\n",
    "S = Matrix([[sx, 0, 0, 0],\n",
    "            [0, sy, 0, 0],\n",
    "            [0, 0, sz, 0],\n",
    "            [0, 0, 0, 1]])\n",
    "P2 = S@P1\n",
    "display(P2)"
   ]
  },
  {
   "cell_type": "code",
   "execution_count": 6,
   "id": "4252d65e-71b1-4177-93c0-e3bfb087c287",
   "metadata": {},
   "outputs": [
    {
     "data": {
      "text/latex": [
       "$\\displaystyle \\left[\\begin{matrix}1 & 0 & 0 & 0\\\\0 & \\cos{\\left(\\alpha \\right)} & \\sin{\\left(\\alpha \\right)} & 0\\\\0 & - \\sin{\\left(\\alpha \\right)} & \\cos{\\left(\\alpha \\right)} & 0\\\\0 & 0 & 0 & 1\\end{matrix}\\right]$"
      ],
      "text/plain": [
       "Matrix([\n",
       "[1,           0,          0, 0],\n",
       "[0,  cos(alpha), sin(alpha), 0],\n",
       "[0, -sin(alpha), cos(alpha), 0],\n",
       "[0,           0,          0, 1]])"
      ]
     },
     "metadata": {},
     "output_type": "display_data"
    },
    {
     "data": {
      "text/latex": [
       "$\\displaystyle \\left[\\begin{matrix}\\cos{\\left(\\beta \\right)} & 0 & - \\sin{\\left(\\beta \\right)} & 0\\\\0 & 1 & 0 & 0\\\\\\sin{\\left(\\beta \\right)} & 0 & \\cos{\\left(\\beta \\right)} & 0\\\\0 & 0 & 0 & 1\\end{matrix}\\right]$"
      ],
      "text/plain": [
       "Matrix([\n",
       "[cos(beta), 0, -sin(beta), 0],\n",
       "[        0, 1,          0, 0],\n",
       "[sin(beta), 0,  cos(beta), 0],\n",
       "[        0, 0,          0, 1]])"
      ]
     },
     "metadata": {},
     "output_type": "display_data"
    },
    {
     "data": {
      "text/latex": [
       "$\\displaystyle \\left[\\begin{matrix}\\cos{\\left(\\gamma \\right)} & \\sin{\\left(\\gamma \\right)} & 0 & 0\\\\- \\sin{\\left(\\gamma \\right)} & \\cos{\\left(\\gamma \\right)} & 0 & 0\\\\0 & 0 & 1 & 0\\\\0 & 0 & 0 & 1\\end{matrix}\\right]$"
      ],
      "text/plain": [
       "Matrix([\n",
       "[ cos(gamma), sin(gamma), 0, 0],\n",
       "[-sin(gamma), cos(gamma), 0, 0],\n",
       "[          0,          0, 1, 0],\n",
       "[          0,          0, 0, 1]])"
      ]
     },
     "metadata": {},
     "output_type": "display_data"
    },
    {
     "data": {
      "text/latex": [
       "$\\displaystyle \\left[\\begin{matrix}\\cos{\\left(\\beta \\right)} \\cos{\\left(\\gamma \\right)} & \\sin{\\left(\\alpha \\right)} \\sin{\\left(\\beta \\right)} \\cos{\\left(\\gamma \\right)} + \\sin{\\left(\\gamma \\right)} \\cos{\\left(\\alpha \\right)} & \\sin{\\left(\\alpha \\right)} \\sin{\\left(\\gamma \\right)} - \\sin{\\left(\\beta \\right)} \\cos{\\left(\\alpha \\right)} \\cos{\\left(\\gamma \\right)} & 0\\\\- \\sin{\\left(\\gamma \\right)} \\cos{\\left(\\beta \\right)} & - \\sin{\\left(\\alpha \\right)} \\sin{\\left(\\beta \\right)} \\sin{\\left(\\gamma \\right)} + \\cos{\\left(\\alpha \\right)} \\cos{\\left(\\gamma \\right)} & \\sin{\\left(\\alpha \\right)} \\cos{\\left(\\gamma \\right)} + \\sin{\\left(\\beta \\right)} \\sin{\\left(\\gamma \\right)} \\cos{\\left(\\alpha \\right)} & 0\\\\\\sin{\\left(\\beta \\right)} & - \\sin{\\left(\\alpha \\right)} \\cos{\\left(\\beta \\right)} & \\cos{\\left(\\alpha \\right)} \\cos{\\left(\\beta \\right)} & 0\\\\0 & 0 & 0 & 1\\end{matrix}\\right]$"
      ],
      "text/plain": [
       "Matrix([\n",
       "[ cos(beta)*cos(gamma),  sin(alpha)*sin(beta)*cos(gamma) + sin(gamma)*cos(alpha), sin(alpha)*sin(gamma) - sin(beta)*cos(alpha)*cos(gamma), 0],\n",
       "[-sin(gamma)*cos(beta), -sin(alpha)*sin(beta)*sin(gamma) + cos(alpha)*cos(gamma), sin(alpha)*cos(gamma) + sin(beta)*sin(gamma)*cos(alpha), 0],\n",
       "[            sin(beta),                                    -sin(alpha)*cos(beta),                                    cos(alpha)*cos(beta), 0],\n",
       "[                    0,                                                        0,                                                       0, 1]])"
      ]
     },
     "metadata": {},
     "output_type": "display_data"
    },
    {
     "data": {
      "text/latex": [
       "$\\displaystyle \\left[\\begin{matrix}x_{1} \\cos{\\left(\\beta \\right)} \\cos{\\left(\\gamma \\right)} + y_{1} \\left(\\sin{\\left(\\alpha \\right)} \\sin{\\left(\\beta \\right)} \\cos{\\left(\\gamma \\right)} + \\sin{\\left(\\gamma \\right)} \\cos{\\left(\\alpha \\right)}\\right) + z_{1} \\left(\\sin{\\left(\\alpha \\right)} \\sin{\\left(\\gamma \\right)} - \\sin{\\left(\\beta \\right)} \\cos{\\left(\\alpha \\right)} \\cos{\\left(\\gamma \\right)}\\right)\\\\- x_{1} \\sin{\\left(\\gamma \\right)} \\cos{\\left(\\beta \\right)} + y_{1} \\left(- \\sin{\\left(\\alpha \\right)} \\sin{\\left(\\beta \\right)} \\sin{\\left(\\gamma \\right)} + \\cos{\\left(\\alpha \\right)} \\cos{\\left(\\gamma \\right)}\\right) + z_{1} \\left(\\sin{\\left(\\alpha \\right)} \\cos{\\left(\\gamma \\right)} + \\sin{\\left(\\beta \\right)} \\sin{\\left(\\gamma \\right)} \\cos{\\left(\\alpha \\right)}\\right)\\\\x_{1} \\sin{\\left(\\beta \\right)} - y_{1} \\sin{\\left(\\alpha \\right)} \\cos{\\left(\\beta \\right)} + z_{1} \\cos{\\left(\\alpha \\right)} \\cos{\\left(\\beta \\right)}\\\\1\\end{matrix}\\right]$"
      ],
      "text/plain": [
       "Matrix([\n",
       "[  x1*cos(beta)*cos(gamma) + y1*(sin(alpha)*sin(beta)*cos(gamma) + sin(gamma)*cos(alpha)) + z1*(sin(alpha)*sin(gamma) - sin(beta)*cos(alpha)*cos(gamma))],\n",
       "[-x1*sin(gamma)*cos(beta) + y1*(-sin(alpha)*sin(beta)*sin(gamma) + cos(alpha)*cos(gamma)) + z1*(sin(alpha)*cos(gamma) + sin(beta)*sin(gamma)*cos(alpha))],\n",
       "[                                                                                       x1*sin(beta) - y1*sin(alpha)*cos(beta) + z1*cos(alpha)*cos(beta)],\n",
       "[                                                                                                                                                      1]])"
      ]
     },
     "metadata": {},
     "output_type": "display_data"
    }
   ],
   "source": [
    "# Rotasjon\n",
    "Rx = Matrix([[1, 0, 0],\n",
    "             [0, cos(alpha), sin(alpha)],\n",
    "             [0, -sin(alpha), cos(alpha)]])\n",
    "Rx = diag(Rx, 1)\n",
    "display(Rx)\n",
    "\n",
    "Ry = Matrix([[cos(beta), 0, -sin(beta)],\n",
    "             [0, 1, 0],\n",
    "             [sin(beta), 0, cos(beta)]])\n",
    "Ry = diag(Ry, 1)\n",
    "display(Ry)\n",
    "\n",
    "Rz = Matrix([[cos(gamma), sin(gamma), 0],\n",
    "             [-sin(gamma), cos(gamma), 0],\n",
    "             [0, 0, 1]])\n",
    "Rz = diag(Rz, 1)\n",
    "display(Rz)\n",
    "\n",
    "R = Rz@Ry@Rx\n",
    "display(R)\n",
    "\n",
    "P2 = R@P1\n",
    "display(P2)"
   ]
  }
 ],
 "metadata": {
  "kernelspec": {
   "display_name": "Python 3 (ipykernel)",
   "language": "python",
   "name": "python3"
  },
  "language_info": {
   "codemirror_mode": {
    "name": "ipython",
    "version": 3
   },
   "file_extension": ".py",
   "mimetype": "text/x-python",
   "name": "python",
   "nbconvert_exporter": "python",
   "pygments_lexer": "ipython3",
   "version": "3.12.2"
  }
 },
 "nbformat": 4,
 "nbformat_minor": 5
}
