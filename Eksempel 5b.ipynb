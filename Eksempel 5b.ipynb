{
 "cells": [
  {
   "cell_type": "code",
   "execution_count": 1,
   "id": "6b3aaaea-4819-4d70-b82c-81c8fe979faa",
   "metadata": {},
   "outputs": [
    {
     "name": "stdout",
     "output_type": "stream",
     "text": [
      "[[4]\n",
      " [1]]\n"
     ]
    }
   ],
   "source": [
    "from numpy import array, sin, cos\n",
    "from geodesy import deg2rad\n",
    "\n",
    "# Punkt\n",
    "P1 = array([[1],\n",
    "            [2]])\n",
    "\n",
    "# Translasjon\n",
    "T = array([[3],\n",
    "           [-1]])\n",
    "P2 = T + P1\n",
    "print(P2)"
   ]
  },
  {
   "cell_type": "code",
   "execution_count": 2,
   "id": "bc7c1479-5ea9-4893-aa33-4d573d29b137",
   "metadata": {},
   "outputs": [
    {
     "name": "stdout",
     "output_type": "stream",
     "text": [
      "[[2]\n",
      " [2]]\n"
     ]
    }
   ],
   "source": [
    "# Skalering\n",
    "S = array([[2, 0],\n",
    "           [0, 1]])\n",
    "P2 = S@P1\n",
    "print(P2)"
   ]
  },
  {
   "cell_type": "code",
   "execution_count": 3,
   "id": "1bc2f755-5923-4308-b8a4-27a2c5708315",
   "metadata": {},
   "outputs": [
    {
     "name": "stdout",
     "output_type": "stream",
     "text": [
      "[[1.8660254 ]\n",
      " [1.23205081]]\n"
     ]
    }
   ],
   "source": [
    "# Rotasjon\n",
    "alpha = deg2rad(30)\n",
    "\n",
    "R = array([[cos(alpha), sin(alpha)],\n",
    "           [-sin(alpha), cos(alpha)]])\n",
    "P2 = R@P1\n",
    "print(P2)"
   ]
  },
  {
   "cell_type": "code",
   "execution_count": 4,
   "id": "b93a6732-b1ec-462c-baa9-eab7d0d7f883",
   "metadata": {},
   "outputs": [
    {
     "name": "stdout",
     "output_type": "stream",
     "text": [
      "[[1 2]\n",
      " [3 4]]\n"
     ]
    }
   ],
   "source": [
    "# Eksempel\n",
    "A = array([[1, 2],\n",
    "           [3, 4]])\n",
    "print(A)"
   ]
  },
  {
   "cell_type": "code",
   "execution_count": 5,
   "id": "e91dc813-69a5-4711-8913-9bfcdd4178dd",
   "metadata": {},
   "outputs": [
    {
     "name": "stdout",
     "output_type": "stream",
     "text": [
      "[[5 6]\n",
      " [7 8]]\n"
     ]
    }
   ],
   "source": [
    "B = array([[5, 6],\n",
    "           [7, 8]])\n",
    "print(B)"
   ]
  },
  {
   "cell_type": "code",
   "execution_count": 6,
   "id": "168c4e24-6bd6-45d8-a802-0611315e158a",
   "metadata": {},
   "outputs": [
    {
     "name": "stdout",
     "output_type": "stream",
     "text": [
      "[[19 22]\n",
      " [43 50]]\n"
     ]
    }
   ],
   "source": [
    "# Matrisemultiplikasjon\n",
    "print(A@B)"
   ]
  },
  {
   "cell_type": "code",
   "execution_count": 7,
   "id": "0a46052c-9e16-4817-baeb-5a29099f7933",
   "metadata": {},
   "outputs": [
    {
     "name": "stdout",
     "output_type": "stream",
     "text": [
      "[[ 5 12]\n",
      " [21 32]]\n"
     ]
    }
   ],
   "source": [
    "# Elementvis multiplikasjon\n",
    "print(A*B)"
   ]
  }
 ],
 "metadata": {
  "kernelspec": {
   "display_name": "Python 3 (ipykernel)",
   "language": "python",
   "name": "python3"
  },
  "language_info": {
   "codemirror_mode": {
    "name": "ipython",
    "version": 3
   },
   "file_extension": ".py",
   "mimetype": "text/x-python",
   "name": "python",
   "nbconvert_exporter": "python",
   "pygments_lexer": "ipython3",
   "version": "3.12.2"
  }
 },
 "nbformat": 4,
 "nbformat_minor": 5
}
