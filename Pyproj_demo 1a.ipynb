{
 "cells": [
  {
   "cell_type": "code",
   "execution_count": 1,
   "id": "b09aeb5b-68b7-4428-9bc1-ddac0a8b2e3b",
   "metadata": {},
   "outputs": [],
   "source": [
    "# Install (ex. Anaconda)\n",
    "# conda install pyproj\n",
    "# conda install proj-data"
   ]
  },
  {
   "cell_type": "code",
   "execution_count": 17,
   "id": "1c7e2086-90f6-4201-824f-c09378246350",
   "metadata": {},
   "outputs": [],
   "source": [
    "#from pyproj import CRS, Transformer\n",
    "from geodesy import dms2deg, deg2dms, dms2rad, geod2ECEF"
   ]
  },
  {
   "cell_type": "code",
   "execution_count": 3,
   "id": "b00115c7-4b52-4b75-9482-a053ebe71e63",
   "metadata": {},
   "outputs": [
    {
     "data": {
      "text/plain": [
       "<Compound CRS: EPSG:5972>\n",
       "Name: ETRS89 / UTM zone 32N + NN2000 height\n",
       "Axis Info [cartesian|vertical]:\n",
       "- E[east]: Easting (metre)\n",
       "- N[north]: Northing (metre)\n",
       "- H[up]: Gravity-related height (metre)\n",
       "Area of Use:\n",
       "- name: Norway - onshore - between 6°E and 12°E.\n",
       "- bounds: (6.0, 57.9, 12.01, 67.58)\n",
       "Datum: European Terrestrial Reference System 1989 ensemble\n",
       "- Ellipsoid: GRS 1980\n",
       "- Prime Meridian: Greenwich\n",
       "Sub CRS:\n",
       "- ETRS89 / UTM zone 32N\n",
       "- NN2000 height"
      ]
     },
     "execution_count": 3,
     "metadata": {},
     "output_type": "execute_result"
    }
   ],
   "source": [
    "# ETRS89 UTM zone 32N\n",
    "crs_5972 = CRS.from_epsg(5972)\n",
    "crs_5972"
   ]
  },
  {
   "cell_type": "code",
   "execution_count": 4,
   "id": "23966c50-d2e2-45eb-b5ac-fe4a216fed7e",
   "metadata": {},
   "outputs": [
    {
     "data": {
      "text/plain": [
       "<Projected CRS: EPSG:27393>\n",
       "Name: NGO 1948 (Oslo) / NGO zone III\n",
       "Axis Info [cartesian]:\n",
       "- x[north]: Northing (metre)\n",
       "- y[east]: Easting (metre)\n",
       "Area of Use:\n",
       "- name: Norway - between 1°10'W and 1°15'E of Oslo (9°33'22.5\"E and 11°58'22.5\"E of Greenwich).\n",
       "- bounds: (9.55, 58.78, 11.98, 67.58)\n",
       "Coordinate Operation:\n",
       "- name: NGO zone III\n",
       "- method: Transverse Mercator\n",
       "Datum: NGO 1948 (Oslo)\n",
       "- Ellipsoid: Bessel Modified\n",
       "- Prime Meridian: Oslo"
      ]
     },
     "execution_count": 4,
     "metadata": {},
     "output_type": "execute_result"
    }
   ],
   "source": [
    "# NGO 1948 (Oslo) / NGO zone III\n",
    "crs_27393 = CRS.from_epsg(27393)\n",
    "crs_27393"
   ]
  },
  {
   "cell_type": "code",
   "execution_count": 5,
   "id": "6776d0d4-5b36-4976-a292-040a380496fd",
   "metadata": {},
   "outputs": [
    {
     "name": "stdout",
     "output_type": "stream",
     "text": [
      "x =   184839.945m\n",
      "y =     3584.446m\n"
     ]
    }
   ],
   "source": [
    "# ETRS89 UTM zone 32N (N, E) -> NGO 1948 (Oslo) / NGO zone III (x, y)\n",
    "N = 6614931.501  # meter\n",
    "E = 600389.145   # meter\n",
    "\n",
    "transformer = Transformer.from_crs(crs_5972, crs_27393, always_xy=True)\n",
    "y, x = transformer.transform(E, N)\n",
    "\n",
    "print(f\"x = {x:12.3f}m\")\n",
    "print(f\"y = {y:12.3f}m\")"
   ]
  },
  {
   "cell_type": "code",
   "execution_count": 6,
   "id": "1b39d1eb-7eff-4339-a98d-5f62de1399be",
   "metadata": {},
   "outputs": [
    {
     "data": {
      "text/plain": [
       "<Geographic 2D CRS: EPSG:4258>\n",
       "Name: ETRS89\n",
       "Axis Info [ellipsoidal]:\n",
       "- Lat[north]: Geodetic latitude (degree)\n",
       "- Lon[east]: Geodetic longitude (degree)\n",
       "Area of Use:\n",
       "- name: Europe - onshore and offshore: Albania; Andorra; Austria; Belgium; Bosnia and Herzegovina; Bulgaria; Croatia; Cyprus; Czechia; Denmark; Estonia; Faroe Islands; Finland; France; Germany; Gibraltar; Greece; Hungary; Ireland; Italy; Kosovo; Latvia; Liechtenstein; Lithuania; Luxembourg; Malta; Moldova; Monaco; Montenegro; Netherlands; North Macedonia; Norway including Svalbard and Jan Mayen; Poland; Portugal; Romania; San Marino; Serbia; Slovakia; Slovenia; Spain; Sweden; Switzerland; United Kingdom (UK) including Channel Islands and Isle of Man; Vatican City State.\n",
       "- bounds: (-16.1, 32.88, 40.18, 84.73)\n",
       "Datum: European Terrestrial Reference System 1989 ensemble\n",
       "- Ellipsoid: GRS 1980\n",
       "- Prime Meridian: Greenwich"
      ]
     },
     "execution_count": 6,
     "metadata": {},
     "output_type": "execute_result"
    }
   ],
   "source": [
    "# ETRS89 (Geodetic)\n",
    "crs_4258 = CRS.from_epsg(4258)\n",
    "crs_4258"
   ]
  },
  {
   "cell_type": "code",
   "execution_count": 7,
   "id": "145e36ca-66e6-40dd-8304-a45c99f6b079",
   "metadata": {},
   "outputs": [
    {
     "name": "stdout",
     "output_type": "stream",
     "text": [
      "x =   184839.945m\n",
      "y =     3584.446m\n"
     ]
    }
   ],
   "source": [
    "lat = dms2deg(59, 39, 37.19822)  # desimalgrader\n",
    "lon = dms2deg(10, 46, 54.18533)  # desimalgrader\n",
    "\n",
    "# ETRS89 (lat, lon) -> NGO48 (x, y)\n",
    "transformer = Transformer.from_crs(crs_4258, crs_27393, always_xy=True)\n",
    "y, x = transformer.transform(lon, lat)\n",
    "\n",
    "print(f\"x = {x:12.3f}m\")\n",
    "print(f\"y = {y:12.3f}m\")"
   ]
  },
  {
   "cell_type": "code",
   "execution_count": 8,
   "id": "cdef1a1f-bdc7-4f95-96ca-cba038ecd45e",
   "metadata": {},
   "outputs": [
    {
     "data": {
      "text/plain": [
       "<Geocentric CRS: EPSG:4936>\n",
       "Name: ETRS89\n",
       "Axis Info [cartesian]:\n",
       "- X[geocentricX]: Geocentric X (metre)\n",
       "- Y[geocentricY]: Geocentric Y (metre)\n",
       "- Z[geocentricZ]: Geocentric Z (metre)\n",
       "Area of Use:\n",
       "- name: Europe - onshore and offshore: Albania; Andorra; Austria; Belgium; Bosnia and Herzegovina; Bulgaria; Croatia; Cyprus; Czechia; Denmark; Estonia; Faroe Islands; Finland; France; Germany; Gibraltar; Greece; Hungary; Ireland; Italy; Kosovo; Latvia; Liechtenstein; Lithuania; Luxembourg; Malta; Moldova; Monaco; Montenegro; Netherlands; North Macedonia; Norway including Svalbard and Jan Mayen; Poland; Portugal; Romania; San Marino; Serbia; Slovakia; Slovenia; Spain; Sweden; Switzerland; United Kingdom (UK) including Channel Islands and Isle of Man; Vatican City State.\n",
       "- bounds: (-16.1, 32.88, 40.18, 84.73)\n",
       "Datum: European Terrestrial Reference System 1989 ensemble\n",
       "- Ellipsoid: GRS 1980\n",
       "- Prime Meridian: Greenwich"
      ]
     },
     "execution_count": 8,
     "metadata": {},
     "output_type": "execute_result"
    }
   ],
   "source": [
    "# ETRS89 (ECEF)\n",
    "crs_4936 = CRS.from_epsg(4936)\n",
    "crs_4936"
   ]
  },
  {
   "cell_type": "code",
   "execution_count": 9,
   "id": "b424439e-378e-4be1-97a9-f234caa51ef5",
   "metadata": {},
   "outputs": [
    {
     "name": "stdout",
     "output_type": "stream",
     "text": [
      "X =  3172870.692m\n",
      "Y =   604208.283m\n",
      "Z =  5481574.195m\n"
     ]
    }
   ],
   "source": [
    "a = 6378137\n",
    "f = 1/298.257222101\n",
    "b = a*(1 - f)\n",
    "\n",
    "lat = dms2rad(59, 39, 37.19822)\n",
    "lon = dms2rad(10, 46, 54.18533)\n",
    "h = 133.420\n",
    "\n",
    "[X, Y, Z] = geod2ECEF(a, b, lat, lon, h)\n",
    "\n",
    "print(f\"X = {X:12.3f}m\")\n",
    "print(f\"Y = {Y:12.3f}m\")\n",
    "print(f\"Z = {Z:12.3f}m\")"
   ]
  },
  {
   "cell_type": "code",
   "execution_count": 10,
   "id": "04a0c8f3-f963-439e-a418-cf1250a92461",
   "metadata": {},
   "outputs": [
    {
     "name": "stdout",
     "output_type": "stream",
     "text": [
      "x =   184839.945m\n",
      "y =     3584.446m\n",
      "h =      133.420m\n"
     ]
    }
   ],
   "source": [
    "# ETRS89 (X, Y, Z) -> NGO48 (x, y)\n",
    "transformer = Transformer.from_crs(crs_4936, crs_27393, always_xy=True)\n",
    "[y, x, h] = transformer.transform(X, Y, Z)\n",
    "\n",
    "print(f\"x = {x:12.3f}m\")\n",
    "print(f\"y = {y:12.3f}m\")\n",
    "print(f\"h = {h:12.3f}m\")"
   ]
  },
  {
   "cell_type": "code",
   "execution_count": 11,
   "id": "a9bb8945",
   "metadata": {},
   "outputs": [
    {
     "data": {
      "text/plain": [
       "<Geographic 3D CRS: EPSG:4937>\n",
       "Name: ETRS89\n",
       "Axis Info [ellipsoidal]:\n",
       "- Lat[north]: Geodetic latitude (degree)\n",
       "- Lon[east]: Geodetic longitude (degree)\n",
       "- h[up]: Ellipsoidal height (metre)\n",
       "Area of Use:\n",
       "- name: Europe - onshore and offshore: Albania; Andorra; Austria; Belgium; Bosnia and Herzegovina; Bulgaria; Croatia; Cyprus; Czechia; Denmark; Estonia; Faroe Islands; Finland; France; Germany; Gibraltar; Greece; Hungary; Ireland; Italy; Kosovo; Latvia; Liechtenstein; Lithuania; Luxembourg; Malta; Moldova; Monaco; Montenegro; Netherlands; North Macedonia; Norway including Svalbard and Jan Mayen; Poland; Portugal; Romania; San Marino; Serbia; Slovakia; Slovenia; Spain; Sweden; Switzerland; United Kingdom (UK) including Channel Islands and Isle of Man; Vatican City State.\n",
       "- bounds: (-16.1, 32.88, 40.18, 84.73)\n",
       "Datum: European Terrestrial Reference System 1989 ensemble\n",
       "- Ellipsoid: GRS 1980\n",
       "- Prime Meridian: Greenwich"
      ]
     },
     "execution_count": 11,
     "metadata": {},
     "output_type": "execute_result"
    }
   ],
   "source": [
    "# ETRS89 3D\n",
    "crs_4937 = CRS.from_epsg(4937)\n",
    "crs_4937"
   ]
  },
  {
   "cell_type": "code",
   "execution_count": 12,
   "id": "59315aff",
   "metadata": {},
   "outputs": [
    {
     "data": {
      "text/plain": [
       "<Vertical CRS: EPSG:5941>\n",
       "Name: NN2000 height\n",
       "Axis Info [vertical]:\n",
       "- H[up]: Gravity-related height (metre)\n",
       "Area of Use:\n",
       "- name: Norway - onshore.\n",
       "- bounds: (4.39, 57.9, 31.32, 71.24)\n",
       "Datum: Norway Normal Null 2000\n",
       "- Ellipsoid: undefined\n",
       "- Prime Meridian: undefined"
      ]
     },
     "execution_count": 12,
     "metadata": {},
     "output_type": "execute_result"
    }
   ],
   "source": [
    "# NN2000\n",
    "crs_5941 = CRS.from_epsg(5941)\n",
    "crs_5941"
   ]
  },
  {
   "cell_type": "code",
   "execution_count": 13,
   "id": "87ae6eb2",
   "metadata": {},
   "outputs": [
    {
     "name": "stdout",
     "output_type": "stream",
     "text": [
      "lat:  59° 39' 37.19822\"\n",
      "lon:  10° 46' 54.18533\"\n",
      "H  :    94.532m\n"
     ]
    }
   ],
   "source": [
    "# ETRS89 (lat, lon, h) -> ETRS89 (lat, lon, H) NN2000\n",
    "transformer = Transformer.from_crs(crs_4937, crs_5941)\n",
    "\n",
    "lat = dms2deg(59, 39, 37.19822)  # desimalgrader\n",
    "lon = dms2deg(10, 46, 54.18533)  # desimalgrader\n",
    "h = 133.420                      # meter\n",
    "\n",
    "# Perform the transformation\n",
    "lat, lon, H = transformer.transform(lat, lon, h)\n",
    "\n",
    "d, m, s = deg2dms(lat)\n",
    "print(f\"lat: {d:3d}° {m:02d}' {s:08.5f}\\\"\")\n",
    "\n",
    "d, m, s = deg2dms(lon)\n",
    "print(f\"lon: {d:3d}° {m:02d}' {s:08.5f}\\\"\")\n",
    "\n",
    "print(f\"H  : {H:9.3f}m\")\n",
    "\n"
   ]
  },
  {
   "cell_type": "code",
   "execution_count": 14,
   "id": "ab596d60",
   "metadata": {},
   "outputs": [
    {
     "data": {
      "text/plain": [
       "<Vertical CRS: EPSG:5776>\n",
       "Name: NN54 height\n",
       "Axis Info [vertical]:\n",
       "- H[up]: Gravity-related height (metre)\n",
       "Area of Use:\n",
       "- name: Norway - onshore.\n",
       "- bounds: (4.39, 57.9, 31.32, 71.24)\n",
       "Datum: Norway Normal Null 1954\n",
       "- Ellipsoid: undefined\n",
       "- Prime Meridian: undefined"
      ]
     },
     "execution_count": 14,
     "metadata": {},
     "output_type": "execute_result"
    }
   ],
   "source": [
    "# NN54\n",
    "crs_5776 = CRS.from_epsg(5776)\n",
    "crs_5776"
   ]
  },
  {
   "cell_type": "code",
   "execution_count": 15,
   "id": "9a56873c",
   "metadata": {},
   "outputs": [
    {
     "name": "stdout",
     "output_type": "stream",
     "text": [
      "lat:  59° 39' 37.19822\"\n",
      "lon:  10° 46' 54.18533\"\n",
      "H  :    94.403m\n"
     ]
    }
   ],
   "source": [
    "# ETRS89 (lat, lon, h) -> ETRS89 (lat, lon, H) NN54\n",
    "transformer = Transformer.from_crs(crs_4937, crs_5776)\n",
    "\n",
    "lat = dms2deg(59, 39, 37.19822)  # desimalgrader\n",
    "lon = dms2deg(10, 46, 54.18533)  # desimalgrader\n",
    "h = 133.420                      # meter\n",
    "\n",
    "# Perform the transformation\n",
    "lat, lon, H = transformer.transform(lat, lon, h)\n",
    "\n",
    "d, m, s = deg2dms(lat)\n",
    "print(f\"lat: {d:3d}° {m:02d}' {s:08.5f}\\\"\")\n",
    "\n",
    "d, m, s = deg2dms(lon)\n",
    "print(f\"lon: {d:3d}° {m:02d}' {s:08.5f}\\\"\")\n",
    "\n",
    "print(f\"H  : {H:9.3f}m\")\n"
   ]
  },
  {
   "cell_type": "code",
   "execution_count": 16,
   "id": "eb32953a-a332-4763-8121-bfbe16f15de4",
   "metadata": {},
   "outputs": [],
   "source": [
    "# projinfo --list-crs --area epsg:1352\n",
    "# \n",
    "# EPSG:2391 \"KKJ / Finland zone 1\"\n",
    "# EPSG:2392 \"KKJ / Finland zone 2\"\n",
    "# EPSG:2393 \"KKJ / Finland Uniform Coordinate System\"\n",
    "# EPSG:3011 \"SWEREF99 18 00\"\n",
    "# EPSG:3012 \"SWEREF99 14 15\"\n",
    "# EPSG:3013 \"SWEREF99 15 45\"\n",
    "# EPSG:3014 \"SWEREF99 17 15\"\n",
    "# EPSG:3016 \"SWEREF99 20 15\"\n",
    "# EPSG:3017 \"SWEREF99 21 45\"\n",
    "# EPSG:3018 \"SWEREF99 23 15\"\n",
    "# EPSG:3023 \"RT90 2.5 gon O\"\n",
    "# EPSG:3024 \"RT90 5 gon O\"\n",
    "# EPSG:3029 \"RT38 2.5 gon O\"\n",
    "# EPSG:3030 \"RT38 5 gon O\"\n",
    "# EPSG:3126 \"ETRS89 / ETRS-GK19FIN\"\n",
    "# EPSG:3127 \"ETRS89 / ETRS-GK20FIN\"\n",
    "# EPSG:3128 \"ETRS89 / ETRS-GK21FIN\"\n",
    "# EPSG:3129 \"ETRS89 / ETRS-GK22FIN\"\n",
    "# EPSG:3130 \"ETRS89 / ETRS-GK23FIN\"\n",
    "# EPSG:3131 \"ETRS89 / ETRS-GK24FIN\"\n",
    "# EPSG:3132 \"ETRS89 / ETRS-GK25FIN\"\n",
    "# EPSG:3133 \"ETRS89 / ETRS-GK26FIN\"\n",
    "# EPSG:3134 \"ETRS89 / ETRS-GK27FIN\"\n",
    "# EPSG:3135 \"ETRS89 / ETRS-GK28FIN\"\n",
    "# EPSG:3136 \"ETRS89 / ETRS-GK29FIN\"\n",
    "# EPSG:3137 \"ETRS89 / ETRS-GK30FIN\"\n",
    "# EPSG:3152 \"ST74\"\n",
    "# EPSG:3386 \"KKJ / Finland zone 0\"\n",
    "# EPSG:3849 \"SWEREF99 / RT90 2.5 gon O emulation\"\n",
    "# EPSG:3850 \"SWEREF99 / RT90 5 gon O emulation\"\n",
    "# EPSG:3854 \"County ST74\"\n",
    "# EPSG:3873 \"ETRS89 / GK19FIN\"\n",
    "# EPSG:3874 \"ETRS89 / GK20FIN\"\n",
    "# EPSG:3875 \"ETRS89 / GK21FIN\"\n",
    "# EPSG:3876 \"ETRS89 / GK22FIN\"\n",
    "# EPSG:3877 \"ETRS89 / GK23FIN\"\n",
    "# EPSG:3878 \"ETRS89 / GK24FIN\"\n",
    "# EPSG:3879 \"ETRS89 / GK25FIN\"\n",
    "# EPSG:3880 \"ETRS89 / GK26FIN\"\n",
    "# EPSG:3881 \"ETRS89 / GK27FIN\"\n",
    "# EPSG:3882 \"ETRS89 / GK28FIN\"\n",
    "# EPSG:3883 \"ETRS89 / GK29FIN\"\n",
    "# EPSG:3884 \"ETRS89 / GK30FIN\"\n",
    "# EPSG:4273 \"NGO 1948\"\n",
    "# EPSG:4817 \"NGO 1948 (Oslo)\"\n",
    "# EPSG:5105 \"ETRS89 / NTM zone 5\"\n",
    "# EPSG:5106 \"ETRS89 / NTM zone 6\"\n",
    "# EPSG:5107 \"ETRS89 / NTM zone 7\"\n",
    "# EPSG:5108 \"ETRS89 / NTM zone 8\"\n",
    "# EPSG:5109 \"ETRS89 / NTM zone 9\"\n",
    "# EPSG:5110 \"ETRS89 / NTM zone 10\"\n",
    "# EPSG:5111 \"ETRS89 / NTM zone 11\"\n",
    "# EPSG:5112 \"ETRS89 / NTM zone 12\"\n",
    "# EPSG:5113 \"ETRS89 / NTM zone 13\"\n",
    "# EPSG:5114 \"ETRS89 / NTM zone 14\"\n",
    "# EPSG:5115 \"ETRS89 / NTM zone 15\"\n",
    "# EPSG:5116 \"ETRS89 / NTM zone 16\"\n",
    "# EPSG:5117 \"ETRS89 / NTM zone 17\"\n",
    "# EPSG:5118 \"ETRS89 / NTM zone 18\"\n",
    "# EPSG:5119 \"ETRS89 / NTM zone 19\"\n",
    "# EPSG:5120 \"ETRS89 / NTM zone 20\"\n",
    "# EPSG:5121 \"ETRS89 / NTM zone 21\"\n",
    "# EPSG:5122 \"ETRS89 / NTM zone 22\"\n",
    "# EPSG:5123 \"ETRS89 / NTM zone 23\"\n",
    "# EPSG:5124 \"ETRS89 / NTM zone 24\"\n",
    "# EPSG:5125 \"ETRS89 / NTM zone 25\"\n",
    "# EPSG:5126 \"ETRS89 / NTM zone 26\"\n",
    "# EPSG:5127 \"ETRS89 / NTM zone 27\"\n",
    "# EPSG:5128 \"ETRS89 / NTM zone 28\"\n",
    "# EPSG:5129 \"ETRS89 / NTM zone 29\"\n",
    "# EPSG:5130 \"ETRS89 / NTM zone 30\"\n",
    "# EPSG:5776 \"NN54 height\"\n",
    "# EPSG:5850 \"SWEREF99 18 00 + RH2000 height\"\n",
    "# EPSG:5851 \"SWEREF99 14 15 + RH2000 height\"\n",
    "# EPSG:5852 \"SWEREF99 15 45 + RH2000 height\"\n",
    "# EPSG:5853 \"SWEREF99 17 15 + RH2000 height\"\n",
    "# EPSG:5855 \"SWEREF99 20 15 + RH2000 height\"\n",
    "# EPSG:5856 \"SWEREF99 21 45 + RH2000 height\"\n",
    "# EPSG:5857 \"SWEREF99 23 15 + RH2000 height\"\n",
    "# EPSG:5941 \"NN2000 height\"\n",
    "# EPSG:5942 \"ETRS89 + NN2000 height\"\n",
    "# EPSG:5945 \"ETRS89 / NTM zone 5 + NN2000 height\"\n",
    "# EPSG:5946 \"ETRS89 / NTM zone 6 + NN2000 height\"\n",
    "# EPSG:5947 \"ETRS89 / NTM zone 7 + NN2000 height\"\n",
    "# EPSG:5948 \"ETRS89 / NTM zone 8 + NN2000 height\"\n",
    "# EPSG:5949 \"ETRS89 / NTM zone 9 + NN2000 height\"\n",
    "# EPSG:5950 \"ETRS89 / NTM zone 10 + NN2000 height\"\n",
    "# EPSG:5951 \"ETRS89 / NTM zone 11 + NN2000 height\"\n",
    "# EPSG:5952 \"ETRS89 / NTM zone 12 + NN2000 height\"\n",
    "# EPSG:5953 \"ETRS89 / NTM zone 13 + NN2000 height\"\n",
    "# EPSG:5954 \"ETRS89 / NTM zone 14 + NN2000 height\"\n",
    "# EPSG:5955 \"ETRS89 / NTM zone 15 + NN2000 height\"\n",
    "# EPSG:5956 \"ETRS89 / NTM zone 16 + NN2000 height\"\n",
    "# EPSG:5957 \"ETRS89 / NTM zone 17 + NN2000 height\"\n",
    "# EPSG:5958 \"ETRS89 / NTM zone 18 + NN2000 height\"\n",
    "# EPSG:5959 \"ETRS89 / NTM zone 19 + NN2000 height\"\n",
    "# EPSG:5960 \"ETRS89 / NTM zone 20 + NN2000 height\"\n",
    "# EPSG:5961 \"ETRS89 / NTM zone 21 + NN2000 height\"\n",
    "# EPSG:5962 \"ETRS89 / NTM zone 22 + NN2000 height\"\n",
    "# EPSG:5963 \"ETRS89 / NTM zone 23 + NN2000 height\"\n",
    "# EPSG:5964 \"ETRS89 / NTM zone 24 + NN2000 height\"\n",
    "# EPSG:5965 \"ETRS89 / NTM zone 25 + NN2000 height\"\n",
    "# EPSG:5966 \"ETRS89 / NTM zone 26 + NN2000 height\"\n",
    "# EPSG:5967 \"ETRS89 / NTM zone 27 + NN2000 height\"\n",
    "# EPSG:5968 \"ETRS89 / NTM zone 28 + NN2000 height\"\n",
    "# EPSG:5969 \"ETRS89 / NTM zone 29 + NN2000 height\"\n",
    "# EPSG:5970 \"ETRS89 / NTM zone 30 + NN2000 height\"\n",
    "# EPSG:5971 \"ETRS89 / UTM zone 31N + NN2000 height\"\n",
    "# EPSG:5972 \"ETRS89 / UTM zone 32N + NN2000 height\"\n",
    "# EPSG:5973 \"ETRS89 / UTM zone 33N + NN2000 height\"\n",
    "# EPSG:5974 \"ETRS89 / UTM zone 34N + NN2000 height\"\n",
    "# EPSG:5975 \"ETRS89 / UTM zone 35N + NN2000 height\"\n",
    "# EPSG:5976 \"ETRS89 / UTM zone 36N + NN2000 height\"\n",
    "# EPSG:6144 \"ETRS89 + NN54 height\"\n",
    "# EPSG:6145 \"ETRS89 / NTM zone 5 + NN54 height\"\n",
    "# EPSG:6146 \"ETRS89 / NTM zone 6 + NN54 height\"\n",
    "# EPSG:6147 \"ETRS89 / NTM zone 7 + NN54 height\"\n",
    "# EPSG:6148 \"ETRS89 / NTM zone 8 + NN54 height\"\n",
    "# EPSG:6149 \"ETRS89 / NTM zone 9 + NN54 height\"\n",
    "# EPSG:6150 \"ETRS89 / NTM zone 10 + NN54 height\"\n",
    "# EPSG:6151 \"ETRS89 / NTM zone 11 + NN54 height\"\n",
    "# EPSG:6152 \"ETRS89 / NTM zone 12 + NN54 height\"\n",
    "# EPSG:6153 \"ETRS89 / NTM zone 13 + NN54 height\"\n",
    "# EPSG:6154 \"ETRS89 / NTM zone 14 + NN54 height\"\n",
    "# EPSG:6155 \"ETRS89 / NTM zone 15 + NN54 height\"\n",
    "# EPSG:6156 \"ETRS89 / NTM zone 16 + NN54 height\"\n",
    "# EPSG:6157 \"ETRS89 / NTM zone 17 + NN54 height\"\n",
    "# EPSG:6158 \"ETRS89 / NTM zone 18 + NN54 height\"\n",
    "# EPSG:6159 \"ETRS89 / NTM zone 19 + NN54 height\"\n",
    "# EPSG:6160 \"ETRS89 / NTM zone 20 + NN54 height\"\n",
    "# EPSG:6161 \"ETRS89 / NTM zone 21 + NN54 height\"\n",
    "# EPSG:6162 \"ETRS89 / NTM zone 22 + NN54 height\"\n",
    "# EPSG:6163 \"ETRS89 / NTM zone 23 + NN54 height\"\n",
    "# EPSG:6164 \"ETRS89 / NTM zone 24 + NN54 height\"\n",
    "# EPSG:6165 \"ETRS89 / NTM zone 25 + NN54 height\"\n",
    "# EPSG:6166 \"ETRS89 / NTM zone 26 + NN54 height\"\n",
    "# EPSG:6167 \"ETRS89 / NTM zone 27 + NN54 height\"\n",
    "# EPSG:6168 \"ETRS89 / NTM zone 28 + NN54 height\"\n",
    "# EPSG:6169 \"ETRS89 / NTM zone 29 + NN54 height\"\n",
    "# EPSG:6170 \"ETRS89 / NTM zone 30 + NN54 height\"\n",
    "# EPSG:6171 \"ETRS89 / UTM zone 31N + NN54 height\"\n",
    "# EPSG:6172 \"ETRS89 / UTM zone 32N + NN54 height\"\n",
    "# EPSG:6173 \"ETRS89 / UTM zone 33N + NN54 height\"\n",
    "# EPSG:6174 \"ETRS89 / UTM zone 34N + NN54 height\"\n",
    "# EPSG:6175 \"ETRS89 / UTM zone 35N + NN54 height\"\n",
    "# EPSG:6176 \"ETRS89 / UTM zone 36N + NN54 height\"\n",
    "# EPSG:27391 \"NGO 1948 (Oslo) / NGO zone I\"\n",
    "# EPSG:27392 \"NGO 1948 (Oslo) / NGO zone II\"\n",
    "# EPSG:27393 \"NGO 1948 (Oslo) / NGO zone III\"\n",
    "# EPSG:27394 \"NGO 1948 (Oslo) / NGO zone IV\"\n",
    "# EPSG:27395 \"NGO 1948 (Oslo) / NGO zone V\"\n",
    "# EPSG:27396 \"NGO 1948 (Oslo) / NGO zone VI\"\n",
    "# EPSG:27397 \"NGO 1948 (Oslo) / NGO zone VII\"\n",
    "# EPSG:27398 \"NGO 1948 (Oslo) / NGO zone VIII\"\n",
    "# ESRI:102101 \"NGO_1948_Norway_Zone_1\"\n",
    "# ESRI:102102 \"NGO_1948_Norway_Zone_2\"\n",
    "# ESRI:102103 \"NGO_1948_Norway_Zone_3\"\n",
    "# ESRI:102104 \"NGO_1948_Norway_Zone_4\"\n",
    "# ESRI:102105 \"NGO_1948_Norway_Zone_5\"\n",
    "# ESRI:102106 \"NGO_1948_Norway_Zone_6\"\n",
    "# ESRI:102107 \"NGO_1948_Norway_Zone_7\"\n",
    "# ESRI:102108 \"NGO_1948_Norway_Zone_8\"\n",
    "# ESRI:102136 \"NGO_1948_Baerum_Kommune\"\n",
    "# ESRI:102137 \"NGO_1948_Bergenhalvoen\"\n",
    "# ESRI:102138 \"NGO_1948_Oslo_Kommune\"\n",
    "# ESRI:102450 \"NGO_1948_Oslo_Baerum_Kommune\"\n",
    "# ESRI:102451 \"NGO_1948_Oslo_Bergenhalvoen\"\n",
    "# ESRI:102452 \"NGO_1948_Oslo_Oslo_Kommune\"\n",
    "# "
   ]
  }
 ],
 "metadata": {
  "kernelspec": {
   "display_name": "Python 3 (ipykernel)",
   "language": "python",
   "name": "python3"
  },
  "language_info": {
   "codemirror_mode": {
    "name": "ipython",
    "version": 3
   },
   "file_extension": ".py",
   "mimetype": "text/x-python",
   "name": "python",
   "nbconvert_exporter": "python",
   "pygments_lexer": "ipython3",
   "version": "3.11.9"
  }
 },
 "nbformat": 4,
 "nbformat_minor": 5
}
