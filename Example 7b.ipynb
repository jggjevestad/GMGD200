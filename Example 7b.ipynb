{
 "cells": [
  {
   "cell_type": "code",
   "execution_count": 1,
   "id": "a407bcfe-b7c9-4502-ae75-6428cc8d5ede",
   "metadata": {},
   "outputs": [
    {
     "name": "stdout",
     "output_type": "stream",
     "text": [
      "[[0.866 0.500 0.000]\n",
      " [-0.500 0.866 0.000]\n",
      " [0.000 0.000 1.000]]\n"
     ]
    }
   ],
   "source": [
    "from numpy import array, sin, cos, set_printoptions\n",
    "from geodesy import deg2rad\n",
    "\n",
    "set_printoptions(formatter={'float': lambda x: \"{0:0.3f}\".format(x)})\n",
    "\n",
    "P1 = array([[1],\n",
    "            [2],\n",
    "            [1]]) # Homogeneous coordinates\n",
    "\n",
    "# Translation\n",
    "T = array([[1, 0, 2],\n",
    "           [0, 1, 3],\n",
    "           [0, 0, 1]])\n",
    "\n",
    "# Scale\n",
    "S = array([[0.5, 0, 0],\n",
    "           [0, 2, 0],\n",
    "           [0, 0, 1]])\n",
    "\n",
    "# Rotation\n",
    "alpha = deg2rad(30)\n",
    "R = array([[cos(alpha), sin(alpha), 0],\n",
    "           [-sin(alpha), cos(alpha), 0],\n",
    "           [0, 0, 1]])\n",
    "print(R)"
   ]
  },
  {
   "cell_type": "code",
   "execution_count": 2,
   "id": "27f61863-31d9-4abc-9f81-c2a6bd734cb6",
   "metadata": {},
   "outputs": [
    {
     "name": "stdout",
     "output_type": "stream",
     "text": [
      "[[3]\n",
      " [5]\n",
      " [1]]\n"
     ]
    }
   ],
   "source": [
    "# Translation\n",
    "P2 = T@P1\n",
    "print(P2)"
   ]
  },
  {
   "cell_type": "code",
   "execution_count": 3,
   "id": "86680fb1-670d-4d9f-92ed-8e7871bcfd29",
   "metadata": {},
   "outputs": [
    {
     "name": "stdout",
     "output_type": "stream",
     "text": [
      "[[0.500]\n",
      " [4.000]\n",
      " [1.000]]\n"
     ]
    }
   ],
   "source": [
    "# Scale\n",
    "P2 = S@P1\n",
    "print(P2)"
   ]
  },
  {
   "cell_type": "code",
   "execution_count": 4,
   "id": "5936dbbd-563f-4645-a7d3-02d2a549bb11",
   "metadata": {},
   "outputs": [
    {
     "name": "stdout",
     "output_type": "stream",
     "text": [
      "[[1.866]\n",
      " [1.232]\n",
      " [1.000]]\n"
     ]
    }
   ],
   "source": [
    "# Rotation\n",
    "P2 = R@P1\n",
    "print(P2)"
   ]
  },
  {
   "cell_type": "code",
   "execution_count": 5,
   "id": "711487a7-11d4-444e-9d7d-10e6917dec3d",
   "metadata": {},
   "outputs": [
    {
     "name": "stdout",
     "output_type": "stream",
     "text": [
      "[[6.299]\n",
      " [7.910]\n",
      " [1.000]]\n"
     ]
    }
   ],
   "source": [
    "# Combined transformations\n",
    "P2 = R@S@(T@P1)\n",
    "print(P2)"
   ]
  }
 ],
 "metadata": {
  "kernelspec": {
   "display_name": "Python 3 (ipykernel)",
   "language": "python",
   "name": "python3"
  },
  "language_info": {
   "codemirror_mode": {
    "name": "ipython",
    "version": 3
   },
   "file_extension": ".py",
   "mimetype": "text/x-python",
   "name": "python",
   "nbconvert_exporter": "python",
   "pygments_lexer": "ipython3",
   "version": "3.10.8"
  }
 },
 "nbformat": 4,
 "nbformat_minor": 5
}
