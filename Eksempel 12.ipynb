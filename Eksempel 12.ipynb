{
 "cells": [
  {
   "cell_type": "code",
   "execution_count": 1,
   "id": "0600768f-21d7-42c9-861d-d134bc6f0b4e",
   "metadata": {},
   "outputs": [],
   "source": [
    "from numpy import pi, sin, cos, arccos, arctan2\n",
    "from geodesy import dms2rad, rad2deg\n",
    "\n",
    "R = 6371    # kilometer\n",
    "\n",
    "\n",
    "latL = -dms2rad(6, 44, 0)    # S\n",
    "lonL = dms2rad(147, 0, 0)\n",
    "\n",
    "latH = dms2rad(0, 48, 0)\n",
    "lonH = -dms2rad(176, 36, 0)  # W\n",
    "\n",
    "a = pi/2 - latH\n",
    "b = pi/2 - latL\n",
    "C = 2*pi + (lonH - lonL)"
   ]
  },
  {
   "cell_type": "code",
   "execution_count": 2,
   "id": "8ac22a27-e879-4693-bc96-dd070b26ac88",
   "metadata": {},
   "outputs": [
    {
     "name": "stdout",
     "output_type": "stream",
     "text": [
      "Avstand d_L_H: 4125 km\n"
     ]
    }
   ],
   "source": [
    "c = arccos(cos(a)*cos(b) + sin(a)*sin(b)*cos(C))\n",
    "d_L_H = c*R\n",
    "print(f\"Avstand d_L_H: {d_L_H:.0f} km\")"
   ]
  },
  {
   "cell_type": "code",
   "execution_count": 3,
   "id": "fdf4664d-20b5-45bb-bc5a-91315cd3209d",
   "metadata": {},
   "outputs": [
    {
     "name": "stdout",
     "output_type": "stream",
     "text": [
      "Asimut az_L:  79.7°\n"
     ]
    }
   ],
   "source": [
    "A = arctan2(sin(C)*sin(a)*sin(b), (cos(a) - cos(b)*cos(c)))\n",
    "az_L = A\n",
    "print(f\"Asimut az_L: {rad2deg(az_L):5.1f}°\")"
   ]
  },
  {
   "cell_type": "code",
   "execution_count": 4,
   "id": "1a6119aa-7c9b-4446-97d7-d8e95c3ede1e",
   "metadata": {},
   "outputs": [
    {
     "name": "stdout",
     "output_type": "stream",
     "text": [
      "Asimut az_H:  77.7°\n"
     ]
    }
   ],
   "source": [
    "B = arctan2(sin(C)*sin(b)*sin(a), (cos(b) - cos(a)*cos(c)))\n",
    "az_H = pi - B\n",
    "print(f\"Asimut az_H: {rad2deg(az_H):5.1f}°\")"
   ]
  }
 ],
 "metadata": {
  "kernelspec": {
   "display_name": "Python 3 (ipykernel)",
   "language": "python",
   "name": "python3"
  },
  "language_info": {
   "codemirror_mode": {
    "name": "ipython",
    "version": 3
   },
   "file_extension": ".py",
   "mimetype": "text/x-python",
   "name": "python",
   "nbconvert_exporter": "python",
   "pygments_lexer": "ipython3",
   "version": "3.11.9"
  }
 },
 "nbformat": 4,
 "nbformat_minor": 5
}
