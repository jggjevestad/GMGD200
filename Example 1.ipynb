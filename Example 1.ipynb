{
 "cells": [
  {
   "cell_type": "markdown",
   "id": "bbb7e270-78ee-4297-8d6c-0acbce328945",
   "metadata": {},
   "source": [
    "# Eksempel 1 {-}\n",
    "\n",
    "## Hvor stor er jorden? {-}\n",
    "Erathostenes (276-194 f.kr.) gjorde målinger mellom byene Syrene og Alexandria."
   ]
  },
  {
   "cell_type": "code",
   "execution_count": 1,
   "id": "04646c5d-15a9-426c-ab32-5990fb11ea56",
   "metadata": {},
   "outputs": [
    {
     "name": "stdout",
     "output_type": "stream",
     "text": [
      "Radius: 6365402 m\n"
     ]
    }
   ],
   "source": [
    "from numpy import pi\n",
    "\n",
    "def deg2rad(deg):\n",
    "    rad = deg*(pi/180)\n",
    "    return rad\n",
    "\n",
    "alpha = 7.2           # degree\n",
    "b = 4210*190          # meter\n",
    "\n",
    "R = b/deg2rad(alpha)\n",
    "print(f\"Radius: {R:.0f} m\")"
   ]
  },
  {
   "cell_type": "markdown",
   "id": "e1eac005-3fef-4af6-b12b-a50206089dd0",
   "metadata": {},
   "source": [
    "# Eksempel 2 {-}\n",
    "\n",
    "## Hvor stor er jordkrumningen? {-}\n",
    "Hvor stort tårn må man bygge i Minnesund for at det skal være mulig å se tårnet fra Lillehammer? Anta at lengden på Mjøsa er 100km, og at jordradiusen er 6371km\n",
    "\n",
    "$$\n",
    "R + h = \\sqrt{R^2 + a^2}\n",
    "$$"
   ]
  },
  {
   "cell_type": "code",
   "execution_count": 2,
   "id": "abf2cfa7-c006-4ee3-8d16-db14d76df01f",
   "metadata": {},
   "outputs": [
    {
     "name": "stdout",
     "output_type": "stream",
     "text": [
      "Height: 785 m\n"
     ]
    }
   ],
   "source": [
    "from numpy import sqrt\n",
    "\n",
    "# Earth radius\n",
    "R = 6371e3        # meter\n",
    "a = 100e3         # meter\n",
    "\n",
    "# Height of tower\n",
    "h = sqrt(R**2 + a**2) - R\n",
    "print(f\"Height: {h:.0f} m\")"
   ]
  }
 ],
 "metadata": {
  "kernelspec": {
   "display_name": "Python 3 (ipykernel)",
   "language": "python",
   "name": "python3"
  },
  "language_info": {
   "codemirror_mode": {
    "name": "ipython",
    "version": 3
   },
   "file_extension": ".py",
   "mimetype": "text/x-python",
   "name": "python",
   "nbconvert_exporter": "python",
   "pygments_lexer": "ipython3",
   "version": "3.10.8"
  }
 },
 "nbformat": 4,
 "nbformat_minor": 5
}
