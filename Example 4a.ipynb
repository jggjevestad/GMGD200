{
 "cells": [
  {
   "cell_type": "code",
   "execution_count": 1,
   "id": "f415785d-ad7f-4184-aeef-031721575037",
   "metadata": {},
   "outputs": [
    {
     "name": "stdout",
     "output_type": "stream",
     "text": [
      "6356752.314245179\n"
     ]
    }
   ],
   "source": [
    "from numpy import sin, cos, sqrt, arctan\n",
    "from geodesy import dms2rad, Nrad, rad2deg, rad2dms\n",
    "\n",
    "\n",
    "lat = dms2rad([59, 40, 1.10173])    # rad\n",
    "lon = dms2rad([10, 46, 37.81978])   # rad\n",
    "h = 156.228                         # meter\n",
    "\n",
    "# Ellipsoide\n",
    "a = 6378137                         # meter\n",
    "f = 1/298.257223563\n",
    "b = a*(1 - f)                       # meter\n",
    "print(b)"
   ]
  },
  {
   "cell_type": "code",
   "execution_count": 2,
   "id": "f1db77fd-343e-4580-8acd-6286c8dd1575",
   "metadata": {},
   "outputs": [
    {
     "name": "stdout",
     "output_type": "stream",
     "text": [
      "6394100.537498923\n"
     ]
    }
   ],
   "source": [
    "N = Nrad(a, b, lat)\n",
    "print(N)"
   ]
  },
  {
   "cell_type": "code",
   "execution_count": 3,
   "id": "bb7ef2cb-8cdf-4258-8745-0a5c1bd22ed1",
   "metadata": {},
   "outputs": [
    {
     "name": "stdout",
     "output_type": "stream",
     "text": [
      "3172302.7464711634 603839.3079580292 5481967.5050733015\n"
     ]
    }
   ],
   "source": [
    "# geod2ECEF\n",
    "X = (N + h)*cos(lat)*cos(lon)\n",
    "Y = (N + h)*cos(lat)*sin(lon)\n",
    "Z = (b**2/a**2*N + h)*sin(lat)\n",
    "\n",
    "print(X, Y, Z)"
   ]
  },
  {
   "cell_type": "code",
   "execution_count": 4,
   "id": "eefc4205-fb47-4b03-9cc1-bc3f7ac44ae5",
   "metadata": {},
   "outputs": [
    {
     "name": "stdout",
     "output_type": "stream",
     "text": [
      "[59, 29, 56.218817751130814]\n"
     ]
    },
    {
     "data": {
      "text/plain": [
       "[59, 40, 1.10173]"
      ]
     },
     "execution_count": 4,
     "metadata": {},
     "output_type": "execute_result"
    }
   ],
   "source": [
    "# ECEF2geod\n",
    "ro = sqrt(X**2 + Y**2)\n",
    "\n",
    "# k=0\n",
    "lat1 = arctan(Z/ro)\n",
    "print(rad2dms(lat1))\n",
    "\n",
    "[59, 40, 1.10173]"
   ]
  },
  {
   "cell_type": "code",
   "execution_count": 5,
   "id": "66b0674f-6ccf-45db-9206-2e5cbc325862",
   "metadata": {},
   "outputs": [
    {
     "name": "stdout",
     "output_type": "stream",
     "text": [
      "[59, 40, 0.06120407378773507]\n"
     ]
    },
    {
     "data": {
      "text/plain": [
       "[59, 40, 1.10173]"
      ]
     },
     "execution_count": 5,
     "metadata": {},
     "output_type": "execute_result"
    }
   ],
   "source": [
    "e2 = (a**2 - b**2)/a**2\n",
    "N1 = Nrad(a, b, lat1)\n",
    "\n",
    "# k=1\n",
    "lat2 = arctan(Z/ro + N1*e2*sin(lat1)/ro)\n",
    "print(rad2dms(lat2))\n",
    "\n",
    "[59, 40, 1.10173]"
   ]
  },
  {
   "cell_type": "code",
   "execution_count": 6,
   "id": "9340a010-151c-4449-a2ae-078e9544b863",
   "metadata": {},
   "outputs": [
    {
     "name": "stdout",
     "output_type": "stream",
     "text": [
      "[59, 40, 1.0999445326575596]\n"
     ]
    },
    {
     "data": {
      "text/plain": [
       "[59, 40, 1.10173]"
      ]
     },
     "execution_count": 6,
     "metadata": {},
     "output_type": "execute_result"
    }
   ],
   "source": [
    "N2 = Nrad(a, b, lat2)\n",
    "\n",
    "# k=2\n",
    "lat3 = arctan(Z/ro + N2*e2*sin(lat2)/ro)\n",
    "print(rad2dms(lat3))\n",
    "\n",
    "[59, 40, 1.10173]"
   ]
  },
  {
   "cell_type": "code",
   "execution_count": 7,
   "id": "0b812a25-ec22-4e4f-a5b0-cf1a4885474f",
   "metadata": {},
   "outputs": [
    {
     "name": "stdout",
     "output_type": "stream",
     "text": [
      "[59, 40, 1.1017269362582738]\n"
     ]
    },
    {
     "data": {
      "text/plain": [
       "[59, 40, 1.10173]"
      ]
     },
     "execution_count": 7,
     "metadata": {},
     "output_type": "execute_result"
    }
   ],
   "source": [
    "N3 = Nrad(a, b, lat3)\n",
    "\n",
    "# k=3\n",
    "lat4 = arctan(Z/ro + N3*e2*sin(lat3)/ro)\n",
    "print(rad2dms(lat4))\n",
    "\n",
    "[59, 40, 1.10173]"
   ]
  },
  {
   "cell_type": "code",
   "execution_count": 8,
   "id": "f61c7009-d7ce-4f28-9727-74b2113a56a2",
   "metadata": {},
   "outputs": [
    {
     "name": "stdout",
     "output_type": "stream",
     "text": [
      "[59, 40, 1.1017299947525316]\n"
     ]
    },
    {
     "data": {
      "text/plain": [
       "[59, 40, 1.10173]"
      ]
     },
     "execution_count": 8,
     "metadata": {},
     "output_type": "execute_result"
    }
   ],
   "source": [
    "N4 = Nrad(a, b, lat4)\n",
    "\n",
    "# k=4\n",
    "lat5 = arctan(Z/ro + N4*e2*sin(lat4)/ro)\n",
    "print(rad2dms(lat5))\n",
    "\n",
    "[59, 40, 1.10173]"
   ]
  },
  {
   "cell_type": "code",
   "execution_count": 9,
   "id": "1b9b999d-9c85-4998-92bd-97521338a40b",
   "metadata": {},
   "outputs": [
    {
     "name": "stdout",
     "output_type": "stream",
     "text": [
      "[59, 40, 1.1017299947525316]\n",
      "[10, 46, 37.819779999997536]\n",
      "156.2280000001192\n"
     ]
    }
   ],
   "source": [
    "lat = lat5\n",
    "lon = arctan(Y/X)\n",
    "h = ro*cos(lat) + Z*sin(lat) - Nrad(a, b, lat)*(1 - e2*sin(lat)**2)\n",
    "\n",
    "print(rad2dms(lat))\n",
    "print(rad2dms(lon))\n",
    "print(h)"
   ]
  }
 ],
 "metadata": {
  "kernelspec": {
   "display_name": "Python 3 (ipykernel)",
   "language": "python",
   "name": "python3"
  },
  "language_info": {
   "codemirror_mode": {
    "name": "ipython",
    "version": 3
   },
   "file_extension": ".py",
   "mimetype": "text/x-python",
   "name": "python",
   "nbconvert_exporter": "python",
   "pygments_lexer": "ipython3",
   "version": "3.10.8"
  }
 },
 "nbformat": 4,
 "nbformat_minor": 5
}
