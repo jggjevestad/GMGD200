{
 "cells": [
  {
   "cell_type": "code",
   "execution_count": 1,
   "id": "a119df18-bd82-48a7-b326-fb06a17e1e0a",
   "metadata": {},
   "outputs": [
    {
     "name": "stdout",
     "output_type": "stream",
     "text": [
      "6356752.314245179\n"
     ]
    }
   ],
   "source": [
    "from geodesy import dms2rad, rad2dms, geod2ECEF, ECEF2geod\n",
    "\n",
    "lat = dms2rad([59, 40, 1.10173])    # rad\n",
    "lon = dms2rad([10, 46, 37.81978])   # rad\n",
    "h = 156.228                         # meter\n",
    "\n",
    "# Ellipsoide\n",
    "a = 6378137                         # meter\n",
    "f = 1/298.257223563\n",
    "b = a*(1 - f)                       # meter\n",
    "print(b)"
   ]
  },
  {
   "cell_type": "code",
   "execution_count": 2,
   "id": "2e8cad65-3f10-4542-8b4e-841e9bea7d27",
   "metadata": {},
   "outputs": [
    {
     "name": "stdout",
     "output_type": "stream",
     "text": [
      "3172302.7464711634 603839.3079580292 5481967.5050733015\n"
     ]
    }
   ],
   "source": [
    "X, Y, Z = geod2ECEF(a, b, lat, lon, h)\n",
    "print(X, Y, Z)"
   ]
  },
  {
   "cell_type": "code",
   "execution_count": 3,
   "id": "9ddc7e9c-ae33-4e9c-a541-853afde96000",
   "metadata": {},
   "outputs": [
    {
     "name": "stdout",
     "output_type": "stream",
     "text": [
      "[59, 40, 1.1017299947525316]\n",
      "[10, 46, 37.819779999997536]\n",
      "156.228000276722\n"
     ]
    }
   ],
   "source": [
    "lat0, lon0, h0 = ECEF2geod(a, b, X, Y, Z)\n",
    "print(rad2dms(lat0))\n",
    "print(rad2dms(lon0))\n",
    "print(h0)"
   ]
  }
 ],
 "metadata": {
  "kernelspec": {
   "display_name": "Python 3 (ipykernel)",
   "language": "python",
   "name": "python3"
  },
  "language_info": {
   "codemirror_mode": {
    "name": "ipython",
    "version": 3
   },
   "file_extension": ".py",
   "mimetype": "text/x-python",
   "name": "python",
   "nbconvert_exporter": "python",
   "pygments_lexer": "ipython3",
   "version": "3.10.8"
  }
 },
 "nbformat": 4,
 "nbformat_minor": 5
}
