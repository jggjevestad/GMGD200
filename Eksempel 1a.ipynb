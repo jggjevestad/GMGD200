{
 "cells": [
  {
   "cell_type": "markdown",
   "id": "c5201946-eaae-4a19-b597-8f1ed441a772",
   "metadata": {},
   "source": [
    "# Oppgave 1 {-}\n",
    "\n",
    "### Hvor stor er jorden? {-}\n",
    "\n",
    "Erathostenes (276-194 f.Kr.) bestemte jordradiusen ved å gjøre målinger mellom byene Alexandria og Syrene.\n",
    "$$\n",
    "\\alpha = \\frac{b}{R} \\Rightarrow R = \\frac{b}{\\alpha}\n",
    "$$\n",
    "\n",
    "Erathostenes sine målinger:\n",
    "$$\n",
    "\\alpha = 7.2 \\, \\text{grader} , \\: b = 4210 \\, \\text{stadier} \\: (1 \\, \\text{stadie} \\approx 190 m)\n",
    "$$"
   ]
  },
  {
   "cell_type": "code",
   "execution_count": 1,
   "id": "6d0636c7-625e-4e0c-b952-58602ef2124d",
   "metadata": {},
   "outputs": [
    {
     "name": "stdout",
     "output_type": "stream",
     "text": [
      "Jordradius er: 6365 km\n"
     ]
    }
   ],
   "source": [
    "# Import\n",
    "from numpy import pi\n",
    "\n",
    "# Målinger\n",
    "alpha = 7.2       # Grader\n",
    "b = 4210          # Stadier\n",
    "\n",
    "# Beregner jordradius\n",
    "R = (b*190)/(alpha*(pi/180))\n",
    "\n",
    "print(f\"Jordradius er: {R/1e3:.0f} km\")"
   ]
  },
  {
   "cell_type": "markdown",
   "id": "90054b2f-b824-4fcf-8074-8c8bcea4dde3",
   "metadata": {},
   "source": [
    "### Hvor stor er jordkrumningen? {-}\n",
    "\n",
    "Hvor stort tårn må man bygge i Minnesund for at det skal være mulig å se tårnet fra Lillehammer?\n",
    "\n",
    "\\begin{align*}\n",
    "  h =& \\sqrt{R^2 + d^2} - R \\\\\n",
    "  h \\approx& \\frac{d^2}{2R} \\\\\n",
    "  h \\approx& \\frac{R}{\\cos (\\frac{d}{R})} - R \\\\\n",
    "\\end{align*}\n",
    "\n",
    "Kjente verdier:\n",
    "$$\n",
    "d = 100 \\, \\text{km} \\: , \\: R = 6371 \\, \\text{km}\n",
    "$$"
   ]
  },
  {
   "cell_type": "code",
   "execution_count": 2,
   "id": "86b3d3d6-267d-4fd1-acd2-5a5e2ff1e57f",
   "metadata": {},
   "outputs": [
    {
     "name": "stdout",
     "output_type": "stream",
     "text": [
      "Høyde: 785 m\n"
     ]
    }
   ],
   "source": [
    "# Import\n",
    "from numpy import sqrt\n",
    "\n",
    "# Kjente verdier\n",
    "d = 100e3       # meter\n",
    "R = 6371e3      # meter\n",
    "\n",
    "# Beregner høyden (metode 1)\n",
    "h = sqrt(R**2 + d**2) - R\n",
    "print(f\"Høyde: {h:.0f} m\")"
   ]
  },
  {
   "cell_type": "code",
   "execution_count": 3,
   "id": "fdb48c13-56ca-4557-a952-9b77da62634a",
   "metadata": {},
   "outputs": [
    {
     "name": "stdout",
     "output_type": "stream",
     "text": [
      "Høyde: 785 m\n"
     ]
    }
   ],
   "source": [
    "# Beregner høyden (metode 2)\n",
    "h = d**2/(2*R)\n",
    "print(f\"Høyde: {h:.0f} m\")"
   ]
  },
  {
   "cell_type": "code",
   "execution_count": 4,
   "id": "4678f7c7-8b33-4cea-8392-a2f763a39d63",
   "metadata": {},
   "outputs": [
    {
     "name": "stdout",
     "output_type": "stream",
     "text": [
      "Høyde: 785 m\n"
     ]
    }
   ],
   "source": [
    "# Import\n",
    "from numpy import cos\n",
    "\n",
    "# Beregner høyden (metode 3)\n",
    "h = R/cos(d/R) - R\n",
    "print(f\"Høyde: {h:.0f} m\")"
   ]
  }
 ],
 "metadata": {
  "kernelspec": {
   "display_name": "Python 3 (ipykernel)",
   "language": "python",
   "name": "python3"
  },
  "language_info": {
   "codemirror_mode": {
    "name": "ipython",
    "version": 3
   },
   "file_extension": ".py",
   "mimetype": "text/x-python",
   "name": "python",
   "nbconvert_exporter": "python",
   "pygments_lexer": "ipython3",
   "version": "3.12.2"
  }
 },
 "nbformat": 4,
 "nbformat_minor": 5
}
