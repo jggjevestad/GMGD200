{
 "cells": [
  {
   "cell_type": "code",
   "execution_count": 1,
   "id": "fb2c75c3-583d-49ad-9f41-20c8dbee0ef1",
   "metadata": {},
   "outputs": [],
   "source": [
    "from numpy import array, sin, cos, set_printoptions\n",
    "from geodesy import deg2rad\n",
    "\n",
    "set_printoptions(formatter={'float': lambda x: \"{0:0.3f}\".format(x)})\n",
    "\n",
    "P1 = array([[1],\n",
    "            [2]])\n",
    "\n",
    "# Translation\n",
    "T = array([[2],\n",
    "           [3]])\n",
    "\n",
    "# Scale\n",
    "S = array([[0.5, 0],\n",
    "           [0, 2]])\n",
    "\n",
    "# Rotation\n",
    "alpha = deg2rad(30)\n",
    "R = array([[cos(alpha), sin(alpha)],\n",
    "           [-sin(alpha), cos(alpha)]])"
   ]
  },
  {
   "cell_type": "code",
   "execution_count": 2,
   "id": "e1a4d4de-a719-4d98-b8f3-4781b2c360c1",
   "metadata": {},
   "outputs": [
    {
     "name": "stdout",
     "output_type": "stream",
     "text": [
      "[[3]\n",
      " [5]]\n"
     ]
    }
   ],
   "source": [
    "# Translation\n",
    "P2 = T + P1\n",
    "print(P2)"
   ]
  },
  {
   "cell_type": "code",
   "execution_count": 3,
   "id": "4e743ba2-d2d4-45cf-8546-6d9a58ccfadf",
   "metadata": {},
   "outputs": [
    {
     "name": "stdout",
     "output_type": "stream",
     "text": [
      "[[0.500]\n",
      " [4.000]]\n"
     ]
    }
   ],
   "source": [
    "# Scale\n",
    "P2 = S@P1\n",
    "print(P2)"
   ]
  },
  {
   "cell_type": "code",
   "execution_count": 4,
   "id": "17ff814d-5911-4a0c-9991-7bc79d2aecc5",
   "metadata": {},
   "outputs": [
    {
     "name": "stdout",
     "output_type": "stream",
     "text": [
      "[[1.866]\n",
      " [1.232]]\n"
     ]
    }
   ],
   "source": [
    "# Rotation\n",
    "P2 = R@P1\n",
    "print(P2)"
   ]
  },
  {
   "cell_type": "code",
   "execution_count": 5,
   "id": "b89d88fe-da96-4a09-9b38-437ee8d49d81",
   "metadata": {},
   "outputs": [
    {
     "name": "stdout",
     "output_type": "stream",
     "text": [
      "[[6.299]\n",
      " [7.910]]\n"
     ]
    }
   ],
   "source": [
    "# Combined transformation\n",
    "P2 = R@S@(T + P1)\n",
    "print(P2)"
   ]
  }
 ],
 "metadata": {
  "kernelspec": {
   "display_name": "Python 3 (ipykernel)",
   "language": "python",
   "name": "python3"
  },
  "language_info": {
   "codemirror_mode": {
    "name": "ipython",
    "version": 3
   },
   "file_extension": ".py",
   "mimetype": "text/x-python",
   "name": "python",
   "nbconvert_exporter": "python",
   "pygments_lexer": "ipython3",
   "version": "3.10.8"
  }
 },
 "nbformat": 4,
 "nbformat_minor": 5
}
