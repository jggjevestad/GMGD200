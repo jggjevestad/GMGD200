{
 "cells": [
  {
   "cell_type": "markdown",
   "id": "88258693-4086-41c1-bfee-db1a4fbf3296",
   "metadata": {},
   "source": [
    "## SAS Arctic Route {-}"
   ]
  },
  {
   "cell_type": "code",
   "execution_count": 1,
   "id": "6df376f2-8443-4e9c-b56a-bd4cb2fd099f",
   "metadata": {},
   "outputs": [],
   "source": [
    "from geodesy import dms2rad, rad2dms, rad2deg\n",
    "from numpy import pi, sin, cos, arcsin, arccos\n",
    "\n",
    "R = 6371e3   # meter\n",
    "\n",
    "latCo = dms2rad([55, 41, 0])\n",
    "lonCo = dms2rad([12, 34, 0])\n",
    "\n",
    "latAn = dms2rad([61, 12, 0])\n",
    "lonAn = -dms2rad([149, 53, 0])\n",
    "\n",
    "a = pi/2 - latCo\n",
    "b = pi/2 - latAn\n",
    "C = abs(lonAn - lonCo)"
   ]
  },
  {
   "cell_type": "code",
   "execution_count": 2,
   "id": "75b4df61-4c1c-4210-a2a5-40c47c53db3c",
   "metadata": {},
   "outputs": [
    {
     "name": "stdout",
     "output_type": "stream",
     "text": [
      "Distance (direct): 6928 km\n"
     ]
    }
   ],
   "source": [
    "c = arccos(cos(a)*cos(b) + sin(a)*sin(b)*cos(C))\n",
    "d_Co_An = c*R\n",
    "print(f\"Distance (direct): {d_Co_An/1e3:.0f} km\")"
   ]
  },
  {
   "cell_type": "code",
   "execution_count": 3,
   "id": "d4979767-b9fb-4ff4-8109-fb10cd2ba786",
   "metadata": {},
   "outputs": [
    {
     "name": "stdout",
     "output_type": "stream",
     "text": [
      "Distance (via Northpole): 7018 km\n"
     ]
    }
   ],
   "source": [
    "d_Co_N_An = (a + b)*R\n",
    "print(f\"Distance (via Northpole): {d_Co_N_An/1e3:.0f} km\")"
   ]
  },
  {
   "cell_type": "code",
   "execution_count": 4,
   "id": "4eb3d21a-7f07-4d1a-a4aa-630f2b1295a4",
   "metadata": {},
   "outputs": [
    {
     "name": "stdout",
     "output_type": "stream",
     "text": [
      "Azimut: 350.6 deg\n"
     ]
    }
   ],
   "source": [
    "B = arcsin(sin(C)*sin(b)/sin(c))\n",
    "az_Co_An = rad2deg(2*pi - B)\n",
    "print(f\"Azimut: {az_Co_An:.1f} deg\")"
   ]
  },
  {
   "cell_type": "code",
   "execution_count": 5,
   "id": "b23b3baf-4177-4fc8-a7e8-5db4c45f11ae",
   "metadata": {},
   "outputs": [
    {
     "name": "stdout",
     "output_type": "stream",
     "text": [
      "Azimut: 191.1 deg\n"
     ]
    }
   ],
   "source": [
    "A = arcsin(sin(C)*sin(a)/sin(c))\n",
    "az_An = rad2deg(A + pi)\n",
    "print(f\"Azimut: {az_An:.1f} deg\")"
   ]
  },
  {
   "cell_type": "code",
   "execution_count": 6,
   "id": "0fa76544-8706-4220-b828-c6f9cada90bb",
   "metadata": {},
   "outputs": [
    {
     "name": "stdout",
     "output_type": "stream",
     "text": [
      "Distance to Northpole: 590 km\n"
     ]
    }
   ],
   "source": [
    "x = arcsin(sin(a)*sin(B))\n",
    "d_N = x*R\n",
    "print(f\"Distance to Northpole: {d_N/1e3:.0f} km\")"
   ]
  },
  {
   "cell_type": "code",
   "execution_count": 7,
   "id": "142adfe3-e5eb-419c-8a63-caba640a761b",
   "metadata": {},
   "outputs": [
    {
     "name": "stdout",
     "output_type": "stream",
     "text": [
      "Maximum latitude: 84 41 deg\n"
     ]
    }
   ],
   "source": [
    "latx = pi/2 - x\n",
    "dms = rad2dms(latx)\n",
    "print(f\"Maximum latitude: {dms[0]:.0f} {dms[1]:.0f} deg\")"
   ]
  }
 ],
 "metadata": {
  "kernelspec": {
   "display_name": "Python 3 (ipykernel)",
   "language": "python",
   "name": "python3"
  },
  "language_info": {
   "codemirror_mode": {
    "name": "ipython",
    "version": 3
   },
   "file_extension": ".py",
   "mimetype": "text/x-python",
   "name": "python",
   "nbconvert_exporter": "python",
   "pygments_lexer": "ipython3",
   "version": "3.10.8"
  }
 },
 "nbformat": 4,
 "nbformat_minor": 5
}
