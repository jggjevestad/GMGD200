{
 "cells": [
  {
   "cell_type": "code",
   "execution_count": 1,
   "id": "a8d7dba0-1e19-4815-93f0-a8ef57a2d466",
   "metadata": {},
   "outputs": [
    {
     "data": {
      "text/latex": [
       "$\\displaystyle \\left[\\begin{matrix}t_{x} + x_{1}\\\\t_{y} + y_{1}\\end{matrix}\\right]$"
      ],
      "text/plain": [
       "Matrix([\n",
       "[t_x + x1],\n",
       "[t_y + y1]])"
      ]
     },
     "metadata": {},
     "output_type": "display_data"
    }
   ],
   "source": [
    "from sympy import Matrix, symbols, sin, cos\n",
    "\n",
    "x1, y1, x2, y2, tx, ty, sx, sy, alpha = symbols('x1 y1 x2 y2 t_x t_y s_x s_y alpha')\n",
    "\n",
    "# Punkt\n",
    "P1 = Matrix([[x1],\n",
    "             [y1]])\n",
    "\n",
    "\n",
    "# Translasjon\n",
    "T = Matrix([[tx],\n",
    "            [ty]])\n",
    "P2 = T + P1\n",
    "display(P2)"
   ]
  },
  {
   "cell_type": "code",
   "execution_count": 2,
   "id": "2c26ff99-6a19-4272-a043-9fad88f764e8",
   "metadata": {},
   "outputs": [
    {
     "data": {
      "text/latex": [
       "$\\displaystyle \\left[\\begin{matrix}s_{x} x_{1}\\\\s_{y} y_{1}\\end{matrix}\\right]$"
      ],
      "text/plain": [
       "Matrix([\n",
       "[s_x*x1],\n",
       "[s_y*y1]])"
      ]
     },
     "metadata": {},
     "output_type": "display_data"
    }
   ],
   "source": [
    "# Skalering\n",
    "S = Matrix([[sx, 0],\n",
    "            [0, sy]])\n",
    "P2 = S@P1\n",
    "display(P2)"
   ]
  },
  {
   "cell_type": "code",
   "execution_count": 4,
   "id": "fc4c8987-d6e0-4b09-ae10-015411fe3f7c",
   "metadata": {},
   "outputs": [
    {
     "data": {
      "text/latex": [
       "$\\displaystyle \\left[\\begin{matrix}x_{1} \\cos{\\left(\\alpha \\right)} + y_{1} \\sin{\\left(\\alpha \\right)}\\\\- x_{1} \\sin{\\left(\\alpha \\right)} + y_{1} \\cos{\\left(\\alpha \\right)}\\end{matrix}\\right]$"
      ],
      "text/plain": [
       "Matrix([\n",
       "[ x1*cos(alpha) + y1*sin(alpha)],\n",
       "[-x1*sin(alpha) + y1*cos(alpha)]])"
      ]
     },
     "metadata": {},
     "output_type": "display_data"
    }
   ],
   "source": [
    "# Rotasjon\n",
    "R = Matrix([[cos(alpha), sin(alpha)],\n",
    "            [-sin(alpha), cos(alpha)]])\n",
    "P2 = R@P1\n",
    "display(P2)"
   ]
  },
  {
   "cell_type": "code",
   "execution_count": 6,
   "id": "d98a5278-0738-43bf-8354-bfa2765d09a6",
   "metadata": {},
   "outputs": [
    {
     "data": {
      "text/latex": [
       "$\\displaystyle \\left[\\begin{matrix}t_{x} + x_{1}\\\\t_{y} + y_{1}\\\\1\\end{matrix}\\right]$"
      ],
      "text/plain": [
       "Matrix([\n",
       "[t_x + x1],\n",
       "[t_y + y1],\n",
       "[       1]])"
      ]
     },
     "metadata": {},
     "output_type": "display_data"
    }
   ],
   "source": [
    "# Homogene koordinater\n",
    "\n",
    "# Punkt\n",
    "P1 = Matrix([[x1],\n",
    "             [y1],\n",
    "             [1]])\n",
    "\n",
    "# Translasjon\n",
    "T = Matrix([[1, 0, tx],\n",
    "            [0, 1, ty],\n",
    "            [0, 0, 1]])\n",
    "P2 = T@P1\n",
    "display(P2)"
   ]
  },
  {
   "cell_type": "code",
   "execution_count": 8,
   "id": "e227b869-f0f4-465c-bc4c-3e1c68881d1e",
   "metadata": {},
   "outputs": [
    {
     "data": {
      "text/latex": [
       "$\\displaystyle \\left[\\begin{matrix}s_{x} x_{1}\\\\s_{y} y_{1}\\\\1\\end{matrix}\\right]$"
      ],
      "text/plain": [
       "Matrix([\n",
       "[s_x*x1],\n",
       "[s_y*y1],\n",
       "[     1]])"
      ]
     },
     "metadata": {},
     "output_type": "display_data"
    }
   ],
   "source": [
    "# Skalering\n",
    "S = Matrix([[sx, 0, 0],\n",
    "            [0, sy, 0],\n",
    "            [0, 0, 1]])\n",
    "P2 = S@P1\n",
    "display(P2)"
   ]
  },
  {
   "cell_type": "code",
   "execution_count": 9,
   "id": "4252d65e-71b1-4177-93c0-e3bfb087c287",
   "metadata": {},
   "outputs": [
    {
     "data": {
      "text/latex": [
       "$\\displaystyle \\left[\\begin{matrix}x_{1} \\cos{\\left(\\alpha \\right)} + y_{1} \\sin{\\left(\\alpha \\right)}\\\\- x_{1} \\sin{\\left(\\alpha \\right)} + y_{1} \\cos{\\left(\\alpha \\right)}\\\\1\\end{matrix}\\right]$"
      ],
      "text/plain": [
       "Matrix([\n",
       "[ x1*cos(alpha) + y1*sin(alpha)],\n",
       "[-x1*sin(alpha) + y1*cos(alpha)],\n",
       "[                             1]])"
      ]
     },
     "metadata": {},
     "output_type": "display_data"
    }
   ],
   "source": [
    "# Rotasjon\n",
    "R = Matrix([[cos(alpha), sin(alpha), 0],\n",
    "            [-sin(alpha), cos(alpha), 0],\n",
    "            [0, 0, 1]])\n",
    "P2 = R@P1\n",
    "display(P2)"
   ]
  }
 ],
 "metadata": {
  "kernelspec": {
   "display_name": "Python 3 (ipykernel)",
   "language": "python",
   "name": "python3"
  },
  "language_info": {
   "codemirror_mode": {
    "name": "ipython",
    "version": 3
   },
   "file_extension": ".py",
   "mimetype": "text/x-python",
   "name": "python",
   "nbconvert_exporter": "python",
   "pygments_lexer": "ipython3",
   "version": "3.11.9"
  }
 },
 "nbformat": 4,
 "nbformat_minor": 5
}
