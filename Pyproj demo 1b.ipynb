{
 "cells": [
  {
   "cell_type": "code",
   "execution_count": 1,
   "metadata": {},
   "outputs": [
    {
     "data": {
      "text/plain": [
       "<Geographic 2D CRS: EPSG:4326>\n",
       "Name: WGS 84\n",
       "Axis Info [ellipsoidal]:\n",
       "- Lat[north]: Geodetic latitude (degree)\n",
       "- Lon[east]: Geodetic longitude (degree)\n",
       "Area of Use:\n",
       "- name: World.\n",
       "- bounds: (-180.0, -90.0, 180.0, 90.0)\n",
       "Datum: World Geodetic System 1984 ensemble\n",
       "- Ellipsoid: WGS 84\n",
       "- Prime Meridian: Greenwich"
      ]
     },
     "execution_count": 1,
     "metadata": {},
     "output_type": "execute_result"
    }
   ],
   "source": [
    "# Pyproj Demo.ipynb\n",
    "\n",
    "# Import necessary libraries\n",
    "from pyproj import CRS, Transformer\n",
    "from geodesy import dms2deg, deg2dms\n",
    "\n",
    "# WGS84 geodetic\n",
    "crs_WGS84 = CRS.from_epsg(4326)\n",
    "crs_WGS84"
   ]
  },
  {
   "cell_type": "code",
   "execution_count": 2,
   "metadata": {},
   "outputs": [
    {
     "data": {
      "text/plain": [
       "<Projected CRS: EPSG:32632>\n",
       "Name: WGS 84 / UTM zone 32N\n",
       "Axis Info [cartesian]:\n",
       "- E[east]: Easting (metre)\n",
       "- N[north]: Northing (metre)\n",
       "Area of Use:\n",
       "- name: Between 6°E and 12°E, northern hemisphere between equator and 84°N, onshore and offshore. Algeria. Austria. Cameroon. Denmark. Equatorial Guinea. France. Gabon. Germany. Italy. Libya. Liechtenstein. Monaco. Netherlands. Niger. Nigeria. Norway. Sao Tome and Principe. Svalbard. Sweden. Switzerland. Tunisia. Vatican City State.\n",
       "- bounds: (6.0, 0.0, 12.0, 84.0)\n",
       "Coordinate Operation:\n",
       "- name: UTM zone 32N\n",
       "- method: Transverse Mercator\n",
       "Datum: World Geodetic System 1984 ensemble\n",
       "- Ellipsoid: WGS 84\n",
       "- Prime Meridian: Greenwich"
      ]
     },
     "execution_count": 2,
     "metadata": {},
     "output_type": "execute_result"
    }
   ],
   "source": [
    "# UTM 32N projection\n",
    "crs_UTM32N = CRS.from_epsg(32632)\n",
    "crs_UTM32N"
   ]
  },
  {
   "cell_type": "code",
   "execution_count": 3,
   "metadata": {},
   "outputs": [
    {
     "name": "stdout",
     "output_type": "stream",
     "text": [
      "lat:  59˚ 39' 37.19822\", lon:  10˚ 46' 54.18533\"\n",
      "Northing: 6614931.501m, Easting: 600389.145m\n",
      "lat:  59˚ 39' 37.19822\", lon:  10˚ 46' 54.18533\"\n"
     ]
    }
   ],
   "source": [
    "# Define a function to convert geodetic coordinates to UTM\n",
    "def geod2UTM(lat, lon, h):\n",
    "    # Create a pyproj transformer object for converting from WGS84 to UTM\n",
    "    transformer = Transformer.from_crs(crs_WGS84, crs_UTM32N, always_xy=True)\n",
    "    E, N, H = transformer.transform(lon, lat, h)\n",
    "    return N, E, H\n",
    "\n",
    "# Define a function to convert UTM coordinates to geodetic\n",
    "def UTM2geod(N, E):\n",
    "    # Create a pyproj transformer object for converting from UTM to WGS84\n",
    "    transformer = Transformer.from_crs(crs_UTM32N, crs_WGS84, always_xy=True)\n",
    "    lon, lat = transformer.transform(E, N)\n",
    "    return lat, lon\n",
    "\n",
    "# Example coordinates (GPS1)\n",
    "lat = dms2deg(59, 39, 37.19822)\n",
    "lon = dms2deg(10, 46, 54.18533)\n",
    "h = 133.420\n",
    "\n",
    "lat_d, lat_m, lat_s = deg2dms(lat)\n",
    "lon_d, lon_m, lon_s = deg2dms(lon)\n",
    "\n",
    "# Convert geodetic to UTM\n",
    "N, E, H = geod2UTM(lat, lon, h)\n",
    "print(f\"lat: {lat_d:3d}˚ {lat_m:02d}' {lat_s:08.5f}\\\", lon: {lon_d:3d}˚ {lon_m:02d}' {lon_s:08.5f}\\\"\")\n",
    "print(f\"Northing: {N:10.3f}m, Easting: {E:10.3f}m\")\n",
    "\n",
    "# Convert UTM back to geodetic\n",
    "lat, lon = UTM2geod(N, E)\n",
    "lat_d, lat_m, lat_s = deg2dms(lat)\n",
    "lon_d, lon_m, lon_s = deg2dms(lon)\n",
    "print(f\"lat: {lat_d:3d}˚ {lat_m:02d}' {lat_s:08.5f}\\\", lon: {lon_d:3d}˚ {lon_m:02d}' {lon_s:08.5f}\\\"\")"
   ]
  }
 ],
 "metadata": {
  "kernelspec": {
   "display_name": "Python 3 (ipykernel)",
   "language": "python",
   "name": "python3"
  },
  "language_info": {
   "codemirror_mode": {
    "name": "ipython",
    "version": 3
   },
   "file_extension": ".py",
   "mimetype": "text/x-python",
   "name": "python",
   "nbconvert_exporter": "python",
   "pygments_lexer": "ipython3",
   "version": "3.11.9"
  }
 },
 "nbformat": 4,
 "nbformat_minor": 4
}
