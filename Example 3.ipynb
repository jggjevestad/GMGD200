{
 "cells": [
  {
   "cell_type": "code",
   "execution_count": 1,
   "id": "79348af0-a8ac-4296-aff2-2d124a5dd724",
   "metadata": {},
   "outputs": [
    {
     "name": "stdout",
     "output_type": "stream",
     "text": [
      "Semi-minor axis (b): 6356752.314 m\n"
     ]
    }
   ],
   "source": [
    "from geodesy import dms2rad, Mrad, Nrad\n",
    "\n",
    "# Ellipsoid WGS84\n",
    "a = 6378137\n",
    "f = 1/298.257223563\n",
    "\n",
    "lat = dms2rad([59, 40, 1.10173])\n",
    "\n",
    "b = a*(1 - f)\n",
    "print(f\"Semi-minor axis (b): {b:.3f} m\")"
   ]
  },
  {
   "cell_type": "code",
   "execution_count": 2,
   "id": "4820ecd3-c903-4502-8fef-7b32e50b2328",
   "metadata": {},
   "outputs": [
    {
     "name": "stdout",
     "output_type": "stream",
     "text": [
      "0.006694379990141316\n"
     ]
    }
   ],
   "source": [
    "e2 = (a**2 - b**2)/a**2\n",
    "print(e2)"
   ]
  },
  {
   "cell_type": "code",
   "execution_count": 3,
   "id": "f26f95ab-52df-42f6-90b3-0dcf15b3b46b",
   "metadata": {},
   "outputs": [
    {
     "name": "stdout",
     "output_type": "stream",
     "text": [
      "Meridiankrumningsradius (M): 6383128.502 m\n"
     ]
    }
   ],
   "source": [
    "M = Mrad(a, b, lat)\n",
    "print(f\"Meridiankrumningsradius (M): {M:.3f} m\")"
   ]
  },
  {
   "cell_type": "code",
   "execution_count": 4,
   "id": "c0dc3615-f52f-4fb7-9366-2741e6b16027",
   "metadata": {},
   "outputs": [
    {
     "name": "stdout",
     "output_type": "stream",
     "text": [
      "Normalkrumningsradius (N): 6394100.537 m\n"
     ]
    }
   ],
   "source": [
    "N = Nrad(a, b, lat)\n",
    "print(f\"Normalkrumningsradius (N): {N:.3f} m\")"
   ]
  }
 ],
 "metadata": {
  "kernelspec": {
   "display_name": "Python 3 (ipykernel)",
   "language": "python",
   "name": "python3"
  },
  "language_info": {
   "codemirror_mode": {
    "name": "ipython",
    "version": 3
   },
   "file_extension": ".py",
   "mimetype": "text/x-python",
   "name": "python",
   "nbconvert_exporter": "python",
   "pygments_lexer": "ipython3",
   "version": "3.10.8"
  }
 },
 "nbformat": 4,
 "nbformat_minor": 5
}
