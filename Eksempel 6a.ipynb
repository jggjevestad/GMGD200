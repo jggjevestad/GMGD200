{
 "cells": [
  {
   "cell_type": "code",
   "execution_count": 1,
   "id": "31823db7-76ef-4e8d-aa1a-dbabfca555ed",
   "metadata": {},
   "outputs": [
    {
     "name": "stdout",
     "output_type": "stream",
     "text": [
      "[[1.4]\n",
      " [0.4]]\n"
     ]
    }
   ],
   "source": [
    "from numpy import array, sin, cos, set_printoptions\n",
    "from geodesy import deg2rad\n",
    "\n",
    "set_printoptions(precision=1, suppress=True)\n",
    "\n",
    "alpha = deg2rad(30)   # radianer\n",
    "\n",
    "R = array([[cos(alpha), sin(alpha)],\n",
    "           [-sin(alpha), cos(alpha)]])\n",
    "\n",
    "P11 = array([[1],\n",
    "             [1]])\n",
    "\n",
    "P12 = array([[1],\n",
    "             [2]])\n",
    "\n",
    "# Rotasjon (Rotere om origo)\n",
    "P21 = R@P11\n",
    "print(P21)"
   ]
  },
  {
   "cell_type": "code",
   "execution_count": 2,
   "id": "5f5d026b-8c6e-4c1e-b38f-1118e15fd898",
   "metadata": {},
   "outputs": [
    {
     "name": "stdout",
     "output_type": "stream",
     "text": [
      "[[1.9]\n",
      " [1.2]]\n"
     ]
    }
   ],
   "source": [
    "P22 = R@P12\n",
    "print(P22)"
   ]
  },
  {
   "cell_type": "code",
   "execution_count": 3,
   "id": "b7316e66-556e-4277-a4a2-f36c2618121a",
   "metadata": {},
   "outputs": [
    {
     "name": "stdout",
     "output_type": "stream",
     "text": [
      "[[1.]\n",
      " [1.]]\n"
     ]
    }
   ],
   "source": [
    "# Rotasjon og translasjon (rotere om P11)\n",
    "T = array([[1],\n",
    "           [1]])\n",
    "\n",
    "P21 = R@(P11 - T) + T\n",
    "print(P21)"
   ]
  },
  {
   "cell_type": "code",
   "execution_count": 4,
   "id": "530c71e0-f394-47d0-a7ed-2c5b815d3054",
   "metadata": {},
   "outputs": [
    {
     "name": "stdout",
     "output_type": "stream",
     "text": [
      "[[1.5]\n",
      " [1.9]]\n"
     ]
    }
   ],
   "source": [
    "P22 = R@(P12 - T) + T\n",
    "print(P22)"
   ]
  }
 ],
 "metadata": {
  "kernelspec": {
   "display_name": "Python 3 (ipykernel)",
   "language": "python",
   "name": "python3"
  },
  "language_info": {
   "codemirror_mode": {
    "name": "ipython",
    "version": 3
   },
   "file_extension": ".py",
   "mimetype": "text/x-python",
   "name": "python",
   "nbconvert_exporter": "python",
   "pygments_lexer": "ipython3",
   "version": "3.12.2"
  }
 },
 "nbformat": 4,
 "nbformat_minor": 5
}
