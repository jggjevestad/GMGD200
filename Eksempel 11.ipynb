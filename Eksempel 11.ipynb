{
 "cells": [
  {
   "cell_type": "code",
   "execution_count": 1,
   "id": "0ceea0e7-427d-4238-8841-a7cf53204468",
   "metadata": {},
   "outputs": [],
   "source": [
    "# Import libraries\n",
    "from numpy import pi, cos, sin, arccos, arcsin, arctan2\n",
    "from geodesy import dms2rad, rad2deg"
   ]
  },
  {
   "cell_type": "code",
   "execution_count": 2,
   "id": "ef4d0a90-efa2-43f6-927c-c5b8cd74ab7f",
   "metadata": {},
   "outputs": [],
   "source": [
    "# Parabolantenne\n",
    "latAn = dms2rad(63, 25, 0)\n",
    "lonAn = dms2rad(10, 24, 0)\n",
    "\n",
    "# Geostasjonær satellitt\n",
    "latS = 0\n",
    "lonS =dms2rad(60, 10, 0)"
   ]
  },
  {
   "cell_type": "code",
   "execution_count": 3,
   "id": "9f0466b4-e8e5-4fc0-8b9d-76712ae25cfd",
   "metadata": {},
   "outputs": [],
   "source": [
    "# Kjente verdier i den sfæriske trekanten\n",
    "a = pi/2\n",
    "b = pi/2 - latAn\n",
    "C = abs(lonS - lonAn)"
   ]
  },
  {
   "cell_type": "code",
   "execution_count": 4,
   "id": "4435875b-2e02-49ce-8158-4ff5847289fe",
   "metadata": {},
   "outputs": [
    {
     "name": "stdout",
     "output_type": "stream",
     "text": [
      "Asimut fra arcsin:  52.9°\n",
      "Asimut fra arctan: 127.1°\n"
     ]
    }
   ],
   "source": [
    "c = arccos(cos(a)*cos(b) + sin(a)*sin(b)*cos(C))\n",
    "\n",
    "A = arcsin(sin(C)*sin(a)/sin(c))\n",
    "print(f\"Asimut fra arcsin: {rad2deg(A):5.1f}°\")   # NB! Komplementærvinkel\n",
    "\n",
    "A = arctan2(sin(C)*sin(a)*sin(b), (cos(a) - cos(b)*cos(c)))\n",
    "print(f\"Asimut fra arctan: {rad2deg(A):5.1f}°\")"
   ]
  }
 ],
 "metadata": {
  "kernelspec": {
   "display_name": "Python 3 (ipykernel)",
   "language": "python",
   "name": "python3"
  },
  "language_info": {
   "codemirror_mode": {
    "name": "ipython",
    "version": 3
   },
   "file_extension": ".py",
   "mimetype": "text/x-python",
   "name": "python",
   "nbconvert_exporter": "python",
   "pygments_lexer": "ipython3",
   "version": "3.11.9"
  }
 },
 "nbformat": 4,
 "nbformat_minor": 5
}
