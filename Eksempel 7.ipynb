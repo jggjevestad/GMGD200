{
 "cells": [
  {
   "cell_type": "code",
   "execution_count": 1,
   "id": "d53e9adb-1eae-405b-8b3a-95f5d0a8c248",
   "metadata": {},
   "outputs": [
    {
     "data": {
      "text/latex": [
       "$\\displaystyle \\left[\\begin{matrix}\\cos{\\left(\\beta \\right)} \\cos{\\left(\\gamma \\right)} & \\sin{\\left(\\alpha \\right)} \\sin{\\left(\\beta \\right)} \\cos{\\left(\\gamma \\right)} + \\sin{\\left(\\gamma \\right)} \\cos{\\left(\\alpha \\right)} & \\sin{\\left(\\alpha \\right)} \\sin{\\left(\\gamma \\right)} - \\sin{\\left(\\beta \\right)} \\cos{\\left(\\alpha \\right)} \\cos{\\left(\\gamma \\right)}\\\\- \\sin{\\left(\\gamma \\right)} \\cos{\\left(\\beta \\right)} & - \\sin{\\left(\\alpha \\right)} \\sin{\\left(\\beta \\right)} \\sin{\\left(\\gamma \\right)} + \\cos{\\left(\\alpha \\right)} \\cos{\\left(\\gamma \\right)} & \\sin{\\left(\\alpha \\right)} \\cos{\\left(\\gamma \\right)} + \\sin{\\left(\\beta \\right)} \\sin{\\left(\\gamma \\right)} \\cos{\\left(\\alpha \\right)}\\\\\\sin{\\left(\\beta \\right)} & - \\sin{\\left(\\alpha \\right)} \\cos{\\left(\\beta \\right)} & \\cos{\\left(\\alpha \\right)} \\cos{\\left(\\beta \\right)}\\end{matrix}\\right]$"
      ],
      "text/plain": [
       "Matrix([\n",
       "[ cos(beta)*cos(gamma),  sin(alpha)*sin(beta)*cos(gamma) + sin(gamma)*cos(alpha), sin(alpha)*sin(gamma) - sin(beta)*cos(alpha)*cos(gamma)],\n",
       "[-sin(gamma)*cos(beta), -sin(alpha)*sin(beta)*sin(gamma) + cos(alpha)*cos(gamma), sin(alpha)*cos(gamma) + sin(beta)*sin(gamma)*cos(alpha)],\n",
       "[            sin(beta),                                    -sin(alpha)*cos(beta),                                    cos(alpha)*cos(beta)]])"
      ]
     },
     "metadata": {},
     "output_type": "display_data"
    }
   ],
   "source": [
    "from sympy import symbols, Matrix, sin, cos, pi\n",
    "\n",
    "alpha, beta, gamma, lat, lon = symbols('alpha beta gamma phi lambda')\n",
    "\n",
    "def Rx(alpha):\n",
    "    return Matrix([[1, 0, 0],\n",
    "                   [0, cos(alpha), sin(alpha)],\n",
    "                   [0, -sin(alpha), cos(alpha)]])\n",
    "\n",
    "def Ry(beta):\n",
    "    return Matrix([[cos(beta), 0, -sin(beta)],\n",
    "                   [0, 1, 0],\n",
    "                   [sin(beta), 0, cos(beta)]])\n",
    "\n",
    "def Rz(gamma):\n",
    "    return Matrix([[cos(gamma), sin(gamma), 0],\n",
    "                   [-sin(gamma), cos(gamma), 0],\n",
    "                   [0, 0, 1]])\n",
    "    \n",
    "\n",
    "# Sammansatt rotasjon\n",
    "R = Rz(gamma)@Ry(beta)@Rx(alpha)\n",
    "display(R)"
   ]
  },
  {
   "cell_type": "code",
   "execution_count": 2,
   "id": "8e4a5d86-8dcc-401e-bb57-03acf32783fb",
   "metadata": {},
   "outputs": [
    {
     "data": {
      "text/latex": [
       "$\\displaystyle \\left[\\begin{matrix}- \\sin{\\left(\\lambda \\right)} & \\cos{\\left(\\lambda \\right)} & 0\\\\- \\sin{\\left(\\phi \\right)} \\cos{\\left(\\lambda \\right)} & - \\sin{\\left(\\lambda \\right)} \\sin{\\left(\\phi \\right)} & \\cos{\\left(\\phi \\right)}\\\\\\cos{\\left(\\lambda \\right)} \\cos{\\left(\\phi \\right)} & \\sin{\\left(\\lambda \\right)} \\cos{\\left(\\phi \\right)} & \\sin{\\left(\\phi \\right)}\\end{matrix}\\right]$"
      ],
      "text/plain": [
       "Matrix([\n",
       "[         -sin(lambda),           cos(lambda),        0],\n",
       "[-sin(phi)*cos(lambda), -sin(lambda)*sin(phi), cos(phi)],\n",
       "[ cos(lambda)*cos(phi),  sin(lambda)*cos(phi), sin(phi)]])"
      ]
     },
     "metadata": {},
     "output_type": "display_data"
    }
   ],
   "source": [
    "# Rotasjon til toposentrisk system i punkt (lat, lon)\n",
    "Cg_e = Rz(-lon - pi/2)@Rx(lat - pi/2)\n",
    "display(Cg_e.T)"
   ]
  }
 ],
 "metadata": {
  "kernelspec": {
   "display_name": "Python 3 (ipykernel)",
   "language": "python",
   "name": "python3"
  },
  "language_info": {
   "codemirror_mode": {
    "name": "ipython",
    "version": 3
   },
   "file_extension": ".py",
   "mimetype": "text/x-python",
   "name": "python",
   "nbconvert_exporter": "python",
   "pygments_lexer": "ipython3",
   "version": "3.11.9"
  }
 },
 "nbformat": 4,
 "nbformat_minor": 5
}
