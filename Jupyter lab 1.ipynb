{
 "cells": [
  {
   "cell_type": "markdown",
   "id": "bbb7e270-78ee-4297-8d6c-0acbce328945",
   "metadata": {},
   "source": [
    "# Eksempel 1\n",
    "\n",
    "## Beskrivelse av metoden\n",
    "\n",
    "Hvor stor er jorden? Erathostenes (276-194 f.kr.)\n",
    "\n",
    "Målingene foregikk mellom byene Syrene og Alexandria"
   ]
  },
  {
   "cell_type": "code",
   "execution_count": 1,
   "id": "04646c5d-15a9-426c-ab32-5990fb11ea56",
   "metadata": {},
   "outputs": [
    {
     "name": "stdout",
     "output_type": "stream",
     "text": [
      "Jordradius: 6365402 m\n"
     ]
    }
   ],
   "source": [
    "from numpy import pi\n",
    "\n",
    "def deg2rad(deg):\n",
    "    rad = deg * (pi/180)\n",
    "    return  rad\n",
    "\n",
    "#alpha = 7.2 * (pi/180) # rad\n",
    "alpha = deg2rad(7.2)    # rad\n",
    "b = 4210 * 190          # meter\n",
    "\n",
    "R = b/alpha             # meter\n",
    "print(f\"Jordradius: {R:.0f} m\")"
   ]
  }
 ],
 "metadata": {
  "kernelspec": {
   "display_name": "Python 3 (ipykernel)",
   "language": "python",
   "name": "python3"
  },
  "language_info": {
   "codemirror_mode": {
    "name": "ipython",
    "version": 3
   },
   "file_extension": ".py",
   "mimetype": "text/x-python",
   "name": "python",
   "nbconvert_exporter": "python",
   "pygments_lexer": "ipython3",
   "version": "3.10.8"
  }
 },
 "nbformat": 4,
 "nbformat_minor": 5
}
