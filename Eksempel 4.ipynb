{
 "cells": [
  {
   "cell_type": "code",
   "execution_count": 1,
   "id": "9e0bbc92-994a-4705-8fb6-52e3d5966814",
   "metadata": {},
   "outputs": [
    {
     "name": "stdout",
     "output_type": "stream",
     "text": [
      "X:  3172302.746m\n",
      "Y:   603839.308m\n",
      "Z:  5481967.505m\n"
     ]
    }
   ],
   "source": [
    "# Import\n",
    "from geodesy import dms2rad, Nrad, geod2ECEF, rad2dms, ECEF2geod\n",
    "from numpy import sqrt, arctan, sin, cos\n",
    "\n",
    "\n",
    "# Ellipsoide WGS84\n",
    "a = 6378137          # meter\n",
    "f = 1/298.257223563\n",
    "b = a*(1 - f)        # meter\n",
    "\n",
    "# AK06\n",
    "lat = dms2rad(59, 40, 1.10173)   # radianer\n",
    "lon = dms2rad(10, 46, 37.81978)  # radianer\n",
    "h = 156.228                      # meter\n",
    "\n",
    "# Normalkrumningsradius\n",
    "N = Nrad(a, b, lat)\n",
    "\n",
    "# geod2ECEF\n",
    "X, Y, Z = geod2ECEF(a, b, lat, lon, h)\n",
    "print(f\"X: {X:12.3f}m\")\n",
    "print(f\"Y: {Y:12.3f}m\")\n",
    "print(f\"Z: {Z:12.3f}m\")"
   ]
  },
  {
   "cell_type": "code",
   "execution_count": 2,
   "id": "b1bf9e41-a91b-4648-94d3-9d31e92b7672",
   "metadata": {},
   "outputs": [
    {
     "name": "stdout",
     "output_type": "stream",
     "text": [
      "(59, 29, 56.2188177511308)\n",
      "6394045.457902919\n"
     ]
    }
   ],
   "source": [
    "rho = sqrt(X**2 + Y**2)\n",
    "e2 = (a**2 - b**2)/a**2\n",
    "\n",
    "# k=0\n",
    "lat0 = arctan(Z/rho)\n",
    "print(rad2dms(lat0))\n",
    "\n",
    "N0 = Nrad(a, b, lat0)\n",
    "print(N0)"
   ]
  },
  {
   "cell_type": "code",
   "execution_count": 3,
   "id": "e132321d-028f-40d8-a871-3a7734d0f0f2",
   "metadata": {},
   "outputs": [
    {
     "name": "stdout",
     "output_type": "stream",
     "text": [
      "(59, 40, 0.061204073787868296)\n",
      "6394100.44290428\n"
     ]
    }
   ],
   "source": [
    "# k=1\n",
    "lat1 = arctan(Z/rho + N0*e2*sin(lat0)/rho)\n",
    "print(rad2dms(lat1))\n",
    "\n",
    "N1 = Nrad(a, b, lat1)\n",
    "print(N1)"
   ]
  },
  {
   "cell_type": "code",
   "execution_count": 4,
   "id": "01051336-4867-42c1-942a-d4f2ec3e13e6",
   "metadata": {},
   "outputs": [
    {
     "name": "stdout",
     "output_type": "stream",
     "text": [
      "(59, 40, 1.0999445326832724)\n",
      "6394100.5373366065\n"
     ]
    }
   ],
   "source": [
    "# k=2\n",
    "lat2 = arctan(Z/rho + N1*e2*sin(lat1)/rho)\n",
    "print(rad2dms(lat2))\n",
    "\n",
    "N2 = Nrad(a, b, lat2)\n",
    "print(N2)"
   ]
  },
  {
   "cell_type": "code",
   "execution_count": 5,
   "id": "8d0c62d9-d92f-4a59-b3c8-759b0b048f85",
   "metadata": {},
   "outputs": [
    {
     "name": "stdout",
     "output_type": "stream",
     "text": [
      "(59, 40, 1.1017269362839865)\n",
      "6394100.537498645\n"
     ]
    }
   ],
   "source": [
    "# k=3\n",
    "lat3 = arctan(Z/rho + N2*e2*sin(lat2)/rho)\n",
    "print(rad2dms(lat3))\n",
    "\n",
    "N3 = Nrad(a, b, lat3)\n",
    "print(N3)\n",
    "\n",
    "# 59, 40, 1.10173"
   ]
  },
  {
   "cell_type": "code",
   "execution_count": 6,
   "id": "40b1d61d-584e-47da-98d0-8bea07807c85",
   "metadata": {},
   "outputs": [
    {
     "name": "stdout",
     "output_type": "stream",
     "text": [
      "(59, 40, 1.1017299947526649)\n",
      "6394100.537498923\n"
     ]
    }
   ],
   "source": [
    "# k=4\n",
    "lat4 = arctan(Z/rho + N3*e2*sin(lat3)/rho)\n",
    "print(rad2dms(lat4))\n",
    "\n",
    "N4 = Nrad(a, b, lat4)\n",
    "print(N4)"
   ]
  },
  {
   "cell_type": "code",
   "execution_count": 7,
   "id": "70a3150f-1143-4f09-9bb6-35198c0f8e58",
   "metadata": {
    "scrolled": true
   },
   "outputs": [
    {
     "name": "stdout",
     "output_type": "stream",
     "text": [
      "lat:  59˚ 40' 01.10173\"\n",
      "lon:  10˚ 46' 37.81978\"\n",
      "h  :   156.228m\n"
     ]
    }
   ],
   "source": [
    "lat = lat4\n",
    "N = N4\n",
    "lon = arctan(Y/X)\n",
    "h = rho*cos(lat) + Z*sin(lat) - N*(1 - e2*sin(lat)**2)\n",
    "\n",
    "\n",
    "d, m, s = rad2dms(lat)\n",
    "print(f\"lat: {d:3d}˚ {m:02d}' {s:08.5f}\\\"\")\n",
    "\n",
    "d, m, s = rad2dms(lon)\n",
    "print(f\"lon: {d:3d}˚ {m:02d}' {s:08.5f}\\\"\")\n",
    "\n",
    "print(f\"h  : {h:9.3f}m\")"
   ]
  },
  {
   "cell_type": "code",
   "execution_count": 8,
   "id": "8ee65106-c8f8-4568-b037-eaeb95ad2d68",
   "metadata": {},
   "outputs": [
    {
     "name": "stdout",
     "output_type": "stream",
     "text": [
      "lat:  59˚ 40' 01.10173\"\n",
      "lon:  10˚ 46' 37.81978\"\n",
      "h  :   156.228m\n"
     ]
    }
   ],
   "source": [
    "lat, lon, h = ECEF2geod(a, b, X, Y, Z)\n",
    "\n",
    "d, m, s = rad2dms(lat)\n",
    "print(f\"lat: {d:3d}˚ {m:02d}' {s:08.5f}\\\"\")\n",
    "\n",
    "d, m, s = rad2dms(lon)\n",
    "print(f\"lon: {d:3d}˚ {m:02d}' {s:08.5f}\\\"\")\n",
    "\n",
    "print(f\"h  : {h:9.3f}m\")"
   ]
  }
 ],
 "metadata": {
  "kernelspec": {
   "display_name": "Python 3 (ipykernel)",
   "language": "python",
   "name": "python3"
  },
  "language_info": {
   "codemirror_mode": {
    "name": "ipython",
    "version": 3
   },
   "file_extension": ".py",
   "mimetype": "text/x-python",
   "name": "python",
   "nbconvert_exporter": "python",
   "pygments_lexer": "ipython3",
   "version": "3.11.9"
  }
 },
 "nbformat": 4,
 "nbformat_minor": 5
}
