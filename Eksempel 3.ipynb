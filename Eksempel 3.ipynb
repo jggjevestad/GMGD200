{
 "cells": [
  {
   "cell_type": "code",
   "execution_count": 1,
   "id": "9338b090-de79-4ac6-be40-6e9e30567921",
   "metadata": {},
   "outputs": [
    {
     "name": "stdout",
     "output_type": "stream",
     "text": [
      "Meridiankrumningradius M= 6383128.502m\n",
      "Normalkrumningradius   N= 6394100.537m\n"
     ]
    }
   ],
   "source": [
    "from numpy import sin, cos, pi\n",
    "from geodesy import dms2rad, rad2dms\n",
    "\n",
    "# WGS84 ellipsoide\n",
    "a = 6378137                       # meter\n",
    "f = 1/298.257223563\n",
    "b = a*(1 - f)                     # meter\n",
    "\n",
    "# AK06\n",
    "lat = dms2rad(59, 40, 1.10173)    # radianer\n",
    "lon = dms2rad(10, 46, 37.81978)   # radianer\n",
    "h = 156.228                       # meter\n",
    "\n",
    "# Numerisk eksentrisitet\n",
    "e2 = (a**2 - b**2)/a**2\n",
    "\n",
    "# Meridiankrumingsradius\n",
    "M = a*(1 - e2)/(1 - e2*sin(lat)**2)**(3/2)\n",
    "print(f\"Meridiankrumningradius M= {M:.3f}m\")\n",
    "\n",
    "# Normalkrumningsradius\n",
    "N = a/(1 - e2*sin(lat)**2)**(1/2)\n",
    "print(f\"Normalkrumningradius   N= {N:.3f}m\")"
   ]
  },
  {
   "cell_type": "code",
   "execution_count": 2,
   "id": "bb37ce2b-aa16-4627-84f3-74c8d9f95250",
   "metadata": {},
   "outputs": [
    {
     "name": "stdout",
     "output_type": "stream",
     "text": [
      "X =  3172302.746m\n",
      "Y =   603839.308m\n",
      "Z =  5481967.505m\n"
     ]
    }
   ],
   "source": [
    "# Geodetiske koordinater til ECEF koordinater (ellipsoide)\n",
    "X = (N + h)*cos(lat)*cos(lon)\n",
    "Y = (N + h)*cos(lat)*sin(lon)\n",
    "Z = (b**2/a**2*N + h)*sin(lat)\n",
    "\n",
    "print(f\"X = {X:12.3f}m\")\n",
    "print(f\"Y = {Y:12.3f}m\")\n",
    "print(f\"Z = {Z:12.3f}m\")"
   ]
  },
  {
   "cell_type": "code",
   "execution_count": 3,
   "id": "0bc56f2c-02bc-4321-ac42-176ce15295da",
   "metadata": {},
   "outputs": [
    {
     "name": "stdout",
     "output_type": "stream",
     "text": [
      " 59° 40' 01.10173\"N\n",
      " 10° 46' 37.81978\"N\n"
     ]
    }
   ],
   "source": [
    "d, m, s = rad2dms(lat)\n",
    "print(f\"{d:3d}° {m:02d}' {s:08.5f}\\\"N\")\n",
    "\n",
    "d, m, s = rad2dms(lon)\n",
    "print(f\"{d:3d}° {m:02d}' {s:08.5f}\\\"N\")"
   ]
  }
 ],
 "metadata": {
  "kernelspec": {
   "display_name": "Python 3 (ipykernel)",
   "language": "python",
   "name": "python3"
  },
  "language_info": {
   "codemirror_mode": {
    "name": "ipython",
    "version": 3
   },
   "file_extension": ".py",
   "mimetype": "text/x-python",
   "name": "python",
   "nbconvert_exporter": "python",
   "pygments_lexer": "ipython3",
   "version": "3.11.9"
  }
 },
 "nbformat": 4,
 "nbformat_minor": 5
}
