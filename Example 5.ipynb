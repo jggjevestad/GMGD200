{
 "cells": [
  {
   "cell_type": "code",
   "execution_count": 1,
   "id": "4c1dcb6a-a55c-4337-ac54-2cd84afb2c83",
   "metadata": {},
   "outputs": [
    {
     "name": "stdout",
     "output_type": "stream",
     "text": [
      "[[-62.211]\n",
      " [-321.788]\n",
      " [77.994]] 336.89920628661645\n"
     ]
    }
   ],
   "source": [
    "from numpy import array, set_printoptions\n",
    "from numpy.linalg import norm\n",
    "from geodesy import dms2rad, geod2ECEF, ECEF2enu\n",
    "\n",
    "set_printoptions(formatter={'float': lambda x: \"{0:0.3f}\".format(x)})\n",
    "\n",
    "# Ellipsoide (GRS80)\n",
    "a = 6378137           # meter\n",
    "f = 1/298.257222101\n",
    "b = a*(1 - f)         # meter\n",
    "\n",
    "# SSIR\n",
    "lat1 = dms2rad([59, 39, 58.14943])  # rad\n",
    "lon1 = dms2rad([10, 46, 37.91682])  # rad\n",
    "h1 = 136.039                        # meter\n",
    "\n",
    "# PP5S\n",
    "lat2 = dms2rad([59, 40, 2.80444])   # rad\n",
    "lon2 = dms2rad([10, 46, 18.46826])  # rad\n",
    "h2 = 142.111                        # meter\n",
    "\n",
    "# geod2ECEF\n",
    "X1, Y1, Z1 = geod2ECEF(a, b, lat1, lon1, h1)\n",
    "X2, Y2, Z2 = geod2ECEF(a, b, lat2, lon2, h2)\n",
    "\n",
    "# SSIR\n",
    "P1 = array([[X1],\n",
    "            [Y1], \n",
    "            [Z1]])\n",
    "\n",
    "# PP5S\n",
    "P2 = array([[X2],\n",
    "            [Y2],\n",
    "            [Z2]])\n",
    "\n",
    "# Vector difference in ECEF\n",
    "dP_ECEF = P2 - P1\n",
    "print(dP_ECEF, norm(dP_ECEF))"
   ]
  },
  {
   "cell_type": "code",
   "execution_count": 2,
   "id": "71c35673-4293-4ba7-ba05-9dd9c768a982",
   "metadata": {},
   "outputs": [
    {
     "name": "stdout",
     "output_type": "stream",
     "text": [
      "[[-304.480]\n",
      " [144.071]\n",
      " [6.063]] 336.8992062866164\n"
     ]
    }
   ],
   "source": [
    "# ECEF2enu (topocentric system)\n",
    "dX, dY, dZ = ECEF2enu(lat1, lon1, dP_ECEF[0, 0], dP_ECEF[1, 0], dP_ECEF[2, 0])\n",
    "\n",
    "# Vector difference in enu\n",
    "dP_enu = array([[dX],\n",
    "                [dY],\n",
    "                [dZ]])\n",
    "\n",
    "print(dP_enu, norm(dP_enu))"
   ]
  }
 ],
 "metadata": {
  "kernelspec": {
   "display_name": "Python 3 (ipykernel)",
   "language": "python",
   "name": "python3"
  },
  "language_info": {
   "codemirror_mode": {
    "name": "ipython",
    "version": 3
   },
   "file_extension": ".py",
   "mimetype": "text/x-python",
   "name": "python",
   "nbconvert_exporter": "python",
   "pygments_lexer": "ipython3",
   "version": "3.10.8"
  }
 },
 "nbformat": 4,
 "nbformat_minor": 5
}
