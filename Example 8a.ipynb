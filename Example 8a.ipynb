{
 "cells": [
  {
   "cell_type": "code",
   "execution_count": 2,
   "id": "89cdb464-49d7-42db-aed4-5f7725245bb5",
   "metadata": {},
   "outputs": [
    {
     "data": {
      "text/latex": [
       "$\\displaystyle \\left[\\begin{matrix}1 & 0 & 0\\\\0 & \\cos{\\left(\\alpha \\right)} & \\sin{\\left(\\alpha \\right)}\\\\0 & - \\sin{\\left(\\alpha \\right)} & \\cos{\\left(\\alpha \\right)}\\end{matrix}\\right]$"
      ],
      "text/plain": [
       "Matrix([\n",
       "[1,           0,          0],\n",
       "[0,  cos(alpha), sin(alpha)],\n",
       "[0, -sin(alpha), cos(alpha)]])"
      ]
     },
     "metadata": {},
     "output_type": "display_data"
    }
   ],
   "source": [
    "from sympy import symbols, Matrix, sin, cos\n",
    "\n",
    "alpha, beta, gamma = symbols('alpha beta gamma')\n",
    "\n",
    "Rx = Matrix([[1, 0, 0],\n",
    "             [0, cos(alpha), sin(alpha)],\n",
    "             [0, -sin(alpha), cos(alpha)]])\n",
    "display(Rx)"
   ]
  },
  {
   "cell_type": "code",
   "execution_count": 3,
   "id": "79ef8864-12ba-4fd2-bc21-ab484bf67bcb",
   "metadata": {},
   "outputs": [
    {
     "data": {
      "text/latex": [
       "$\\displaystyle \\left[\\begin{matrix}\\cos{\\left(\\beta \\right)} & 0 & - \\sin{\\left(\\beta \\right)}\\\\0 & 1 & 0\\\\\\sin{\\left(\\beta \\right)} & 0 & \\cos{\\left(\\beta \\right)}\\end{matrix}\\right]$"
      ],
      "text/plain": [
       "Matrix([\n",
       "[cos(beta), 0, -sin(beta)],\n",
       "[        0, 1,          0],\n",
       "[sin(beta), 0,  cos(beta)]])"
      ]
     },
     "metadata": {},
     "output_type": "display_data"
    }
   ],
   "source": [
    "Ry = Matrix([[cos(beta), 0, -sin(beta)],\n",
    "             [0, 1, 0],\n",
    "             [sin(beta), 0, cos(beta)]])\n",
    "display(Ry)"
   ]
  },
  {
   "cell_type": "code",
   "execution_count": 4,
   "id": "c49e6cc1-bef9-4e0a-a4ad-d2c2375b35b6",
   "metadata": {},
   "outputs": [
    {
     "data": {
      "text/latex": [
       "$\\displaystyle \\left[\\begin{matrix}\\cos{\\left(\\gamma \\right)} & \\sin{\\left(\\gamma \\right)} & 0\\\\- \\sin{\\left(\\gamma \\right)} & \\cos{\\left(\\gamma \\right)} & 0\\\\0 & 0 & 1\\end{matrix}\\right]$"
      ],
      "text/plain": [
       "Matrix([\n",
       "[ cos(gamma), sin(gamma), 0],\n",
       "[-sin(gamma), cos(gamma), 0],\n",
       "[          0,          0, 1]])"
      ]
     },
     "metadata": {},
     "output_type": "display_data"
    }
   ],
   "source": [
    "Rz = Matrix([[cos(gamma), sin(gamma), 0],\n",
    "             [-sin(gamma), cos(gamma), 0],\n",
    "             [0, 0, 1]])\n",
    "display(Rz)"
   ]
  },
  {
   "cell_type": "code",
   "execution_count": 5,
   "id": "0a48b30d-9b09-41a8-b432-60da21792358",
   "metadata": {},
   "outputs": [
    {
     "data": {
      "text/latex": [
       "$\\displaystyle \\left[\\begin{matrix}\\cos{\\left(\\beta \\right)} \\cos{\\left(\\gamma \\right)} & \\sin{\\left(\\alpha \\right)} \\sin{\\left(\\beta \\right)} \\cos{\\left(\\gamma \\right)} + \\sin{\\left(\\gamma \\right)} \\cos{\\left(\\alpha \\right)} & \\sin{\\left(\\alpha \\right)} \\sin{\\left(\\gamma \\right)} - \\sin{\\left(\\beta \\right)} \\cos{\\left(\\alpha \\right)} \\cos{\\left(\\gamma \\right)}\\\\- \\sin{\\left(\\gamma \\right)} \\cos{\\left(\\beta \\right)} & - \\sin{\\left(\\alpha \\right)} \\sin{\\left(\\beta \\right)} \\sin{\\left(\\gamma \\right)} + \\cos{\\left(\\alpha \\right)} \\cos{\\left(\\gamma \\right)} & \\sin{\\left(\\alpha \\right)} \\cos{\\left(\\gamma \\right)} + \\sin{\\left(\\beta \\right)} \\sin{\\left(\\gamma \\right)} \\cos{\\left(\\alpha \\right)}\\\\\\sin{\\left(\\beta \\right)} & - \\sin{\\left(\\alpha \\right)} \\cos{\\left(\\beta \\right)} & \\cos{\\left(\\alpha \\right)} \\cos{\\left(\\beta \\right)}\\end{matrix}\\right]$"
      ],
      "text/plain": [
       "Matrix([\n",
       "[ cos(beta)*cos(gamma),  sin(alpha)*sin(beta)*cos(gamma) + sin(gamma)*cos(alpha), sin(alpha)*sin(gamma) - sin(beta)*cos(alpha)*cos(gamma)],\n",
       "[-sin(gamma)*cos(beta), -sin(alpha)*sin(beta)*sin(gamma) + cos(alpha)*cos(gamma), sin(alpha)*cos(gamma) + sin(beta)*sin(gamma)*cos(alpha)],\n",
       "[            sin(beta),                                    -sin(alpha)*cos(beta),                                    cos(alpha)*cos(beta)]])"
      ]
     },
     "metadata": {},
     "output_type": "display_data"
    }
   ],
   "source": [
    "R = Rz@Ry@Rx\n",
    "display(R)"
   ]
  }
 ],
 "metadata": {
  "kernelspec": {
   "display_name": "Python 3 (ipykernel)",
   "language": "python",
   "name": "python3"
  },
  "language_info": {
   "codemirror_mode": {
    "name": "ipython",
    "version": 3
   },
   "file_extension": ".py",
   "mimetype": "text/x-python",
   "name": "python",
   "nbconvert_exporter": "python",
   "pygments_lexer": "ipython3",
   "version": "3.10.8"
  }
 },
 "nbformat": 4,
 "nbformat_minor": 5
}
