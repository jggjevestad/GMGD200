{
 "cells": [
  {
   "cell_type": "code",
   "execution_count": 1,
   "id": "e456842f-1d86-42a8-93a1-b5870ec0cbe4",
   "metadata": {},
   "outputs": [
    {
     "name": "stdout",
     "output_type": "stream",
     "text": [
      "100.0 gon er lik 1.5708 radianer\n"
     ]
    }
   ],
   "source": [
    "# Importerer pi fra numpy\n",
    "from numpy import pi\n",
    "\n",
    "# Funksjon for å konvertere grader til radianer\n",
    "def deg2rad(deg):\n",
    "    rad = pi/180 * deg\n",
    "    return rad\n",
    "\n",
    "# Funksjon for å konvertere gon (gradianer) til radianer\n",
    "def grad2rad(grad):\n",
    "    rad = pi/200 * grad\n",
    "    return rad\n",
    "\n",
    "# Hovedprogram\n",
    "deg = 90    # Vinkel i grader\n",
    "grad = 100   # Vinkel i gon (gradianer)\n",
    "\n",
    "# Konverterer gon til radianer og skriver ut resultatet\n",
    "rad = grad2rad(grad)\n",
    "print(f\"{grad:.1f} gon er lik {rad:.4f} radianer\")"
   ]
  },
  {
   "cell_type": "code",
   "execution_count": 2,
   "id": "8be95c5b-bc21-4e75-81ef-f305238fd77e",
   "metadata": {},
   "outputs": [
    {
     "name": "stdout",
     "output_type": "stream",
     "text": [
      "90.0 grader er lik 1.5708 radianer\n"
     ]
    }
   ],
   "source": [
    "# Konverterer grader til radianer og skriver ut resultatet\n",
    "rad = deg2rad(deg)\n",
    "print(f\"{deg:.1f} grader er lik {rad:.4f} radianer\")"
   ]
  }
 ],
 "metadata": {
  "kernelspec": {
   "display_name": "Python 3 (ipykernel)",
   "language": "python",
   "name": "python3"
  },
  "language_info": {
   "codemirror_mode": {
    "name": "ipython",
    "version": 3
   },
   "file_extension": ".py",
   "mimetype": "text/x-python",
   "name": "python",
   "nbconvert_exporter": "python",
   "pygments_lexer": "ipython3",
   "version": "3.12.2"
  }
 },
 "nbformat": 4,
 "nbformat_minor": 5
}
