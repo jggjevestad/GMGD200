{
 "cells": [
  {
   "cell_type": "markdown",
   "id": "ddb915b1-5c01-4b9f-8c7f-0b1a5f42e3ad",
   "metadata": {},
   "source": [
    "## Satellite antenna {-}"
   ]
  },
  {
   "cell_type": "code",
   "execution_count": 1,
   "id": "b2aefa22-7e4e-499e-a3ef-0b051872a4a7",
   "metadata": {},
   "outputs": [],
   "source": [
    "from numpy import pi, sin, cos, arccos, arcsin, arctan2\n",
    "from geodesy import dms2rad, rad2deg\n",
    "\n",
    "latAn = dms2rad([63, 25, 0])\n",
    "lonAn = dms2rad([10, 24, 0])\n",
    "\n",
    "latS = 0\n",
    "lonS = dms2rad([60, 10, 0])\n",
    "\n",
    "a = pi/2\n",
    "b = pi/2 - latAn\n",
    "C = abs(lonS - lonAn)"
   ]
  },
  {
   "cell_type": "code",
   "execution_count": 2,
   "id": "455cbcea-5fb7-4b3d-8eca-32369ce50a06",
   "metadata": {},
   "outputs": [
    {
     "name": "stdout",
     "output_type": "stream",
     "text": [
      "Azimuth: 127.1 deg\n"
     ]
    }
   ],
   "source": [
    "# arcsin\n",
    "c = arccos(cos(a)*cos(b) + sin(a)*sin(b)*cos(C))\n",
    "Am = arcsin(sin(C)*sin(a)/sin(c))\n",
    "A = pi - Am\n",
    "print(f\"Azimuth: {rad2deg(A):.1f} deg\")"
   ]
  },
  {
   "cell_type": "code",
   "execution_count": 3,
   "id": "21dd054f-f673-4019-a6d5-76a2f1ca3c29",
   "metadata": {},
   "outputs": [
    {
     "name": "stdout",
     "output_type": "stream",
     "text": [
      "Azimuth: 127.1 deg\n"
     ]
    }
   ],
   "source": [
    "# arctan\n",
    "A = arctan2(sin(C)*sin(a)*sin(b), cos(a) - cos(b)*cos(c))\n",
    "print(f\"Azimuth: {rad2deg(A):.1f} deg\")"
   ]
  }
 ],
 "metadata": {
  "kernelspec": {
   "display_name": "Python 3 (ipykernel)",
   "language": "python",
   "name": "python3"
  },
  "language_info": {
   "codemirror_mode": {
    "name": "ipython",
    "version": 3
   },
   "file_extension": ".py",
   "mimetype": "text/x-python",
   "name": "python",
   "nbconvert_exporter": "python",
   "pygments_lexer": "ipython3",
   "version": "3.10.8"
  }
 },
 "nbformat": 4,
 "nbformat_minor": 5
}
