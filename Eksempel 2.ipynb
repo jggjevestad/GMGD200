{
 "cells": [
  {
   "cell_type": "code",
   "execution_count": 1,
   "id": "58f11a11-f9b1-4061-957e-a7dab6bd5331",
   "metadata": {},
   "outputs": [
    {
     "name": "stdout",
     "output_type": "stream",
     "text": [
      "X =  3231507.861 m\n",
      "Y =   569802.024 m\n",
      "Z =  5461098.590 m\n"
     ]
    }
   ],
   "source": [
    "# Import\n",
    "from numpy import sqrt\n",
    "from geodesy import geod2ECEFs, ECEF2geods, rad2deg, deg2rad\n",
    "\n",
    "# Jordradius\n",
    "R = 6371e3            # meter\n",
    "\n",
    "# Koordinater\n",
    "lat = deg2rad(59)     # radianer\n",
    "lon = deg2rad(10)     # radianer\n",
    "h = 100               # meter\n",
    "\n",
    "# Beregner ECEF koordinater\n",
    "X, Y, Z = geod2ECEFs(R, lat, lon, h)\n",
    "print(f\"X = {X:12.3f} m\")\n",
    "print(f\"Y = {Y:12.3f} m\")\n",
    "print(f\"Z = {Z:12.3f} m\")"
   ]
  },
  {
   "cell_type": "code",
   "execution_count": 2,
   "id": "9ec411ed-ab0e-4194-8966-50275129a521",
   "metadata": {},
   "outputs": [
    {
     "name": "stdout",
     "output_type": "stream",
     "text": [
      "lat =   59.0 deg\n",
      "lon =   10.0 deg\n",
      "h   =  100.0 m\n"
     ]
    }
   ],
   "source": [
    "# Beregner geodetiske koordinater\n",
    "lat, lon, h = ECEF2geods(R, X, Y, Z)\n",
    "print(f\"lat = {rad2deg(lat):6.1f} deg\")\n",
    "print(f\"lon = {rad2deg(lon):6.1f} deg\")\n",
    "print(f\"h   = {h:6.1f} m\")"
   ]
  }
 ],
 "metadata": {
  "kernelspec": {
   "display_name": "Python 3 (ipykernel)",
   "language": "python",
   "name": "python3"
  },
  "language_info": {
   "codemirror_mode": {
    "name": "ipython",
    "version": 3
   },
   "file_extension": ".py",
   "mimetype": "text/x-python",
   "name": "python",
   "nbconvert_exporter": "python",
   "pygments_lexer": "ipython3",
   "version": "3.11.9"
  }
 },
 "nbformat": 4,
 "nbformat_minor": 5
}
