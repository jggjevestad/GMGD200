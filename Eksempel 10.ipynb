{
 "cells": [
  {
   "cell_type": "code",
   "execution_count": 1,
   "id": "735850ba-c24d-4379-8917-154ffffb31c6",
   "metadata": {},
   "outputs": [],
   "source": [
    "from numpy import pi, sin, cos, arcsin, arccos\n",
    "from geodesy import dms2rad, rad2dms, deg2rad\n",
    "\n",
    "# Jordradius\n",
    "R = 6371e3                    # meter\n",
    "\n",
    "# Andøya\n",
    "latAn = dms2rad(69, 17, 46)   # radianer\n",
    "lonAn = dms2rad(16, 6, 29)    # radianer\n",
    "\n",
    "# Asimut og avstand\n",
    "Az_An = deg2rad(87.9)         # radianer\n",
    "d_An_X = 550e3                # meter"
   ]
  },
  {
   "cell_type": "code",
   "execution_count": 2,
   "id": "9aa255e2-ba14-48a2-88e2-a9a2a26777f4",
   "metadata": {},
   "outputs": [],
   "source": [
    "# Kjente størrelser i den sfæriske trekanten\n",
    "A = Az_An                     # radianer\n",
    "c = d_An_X/R                  # radianer\n",
    "b = pi/2 - latAn              # radianer"
   ]
  },
  {
   "cell_type": "code",
   "execution_count": 3,
   "id": "f43d5129-3539-44fc-8b22-e812eb51be7d",
   "metadata": {},
   "outputs": [
    {
     "name": "stdout",
     "output_type": "stream",
     "text": [
      "Breddegrad landingspunkt:  68° 54' 57\" N\n",
      "Lengdegrad landingspunkt:  29° 57' 58\" E\n"
     ]
    }
   ],
   "source": [
    "a = arccos(cos(b)*cos(c) + sin(b)*sin(c)*cos(A))\n",
    "latX = pi/2 - a\n",
    "d, m, s = rad2dms(latX)\n",
    "print(f\"Breddegrad landingspunkt: {d:3d}° {m:02d}' {s:02.0f}\\\" N\")\n",
    "\n",
    "C = arcsin(sin(A)*sin(c)/sin(a))\n",
    "lonX = lonAn + C\n",
    "d, m, s = rad2dms(lonX)\n",
    "print(f\"Lengdegrad landingspunkt: {d:3d}° {m:02d}' {s:02.0f}\\\" E\")"
   ]
  },
  {
   "cell_type": "code",
   "execution_count": 4,
   "id": "83fe1f9b-5274-4ffb-85b0-b9ed6aa12608",
   "metadata": {},
   "outputs": [
    {
     "name": "stdout",
     "output_type": "stream",
     "text": [
      "1355.589226170114\n"
     ]
    }
   ],
   "source": [
    "dlon = dms2rad(0, 2, 2)\n",
    "d_X = dlon*R*cos(latX)\n",
    "print(d_X)"
   ]
  }
 ],
 "metadata": {
  "kernelspec": {
   "display_name": "Python 3 (ipykernel)",
   "language": "python",
   "name": "python3"
  },
  "language_info": {
   "codemirror_mode": {
    "name": "ipython",
    "version": 3
   },
   "file_extension": ".py",
   "mimetype": "text/x-python",
   "name": "python",
   "nbconvert_exporter": "python",
   "pygments_lexer": "ipython3",
   "version": "3.11.9"
  }
 },
 "nbformat": 4,
 "nbformat_minor": 5
}
