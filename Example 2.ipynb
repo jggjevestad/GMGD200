{
 "cells": [
  {
   "cell_type": "code",
   "execution_count": 1,
   "id": "58f11a11-f9b1-4061-957e-a7dab6bd5331",
   "metadata": {},
   "outputs": [
    {
     "name": "stdout",
     "output_type": "stream",
     "text": [
      "X: 3231508 m\n",
      "Y: 569802 m\n",
      "Z: 5461099 m\n"
     ]
    }
   ],
   "source": [
    "from numpy import sin, cos, sqrt, arctan\n",
    "from geodesy import deg2rad, rad2deg\n",
    "\n",
    "# Earth radius\n",
    "R = 6371000           # meter\n",
    "\n",
    "lat = deg2rad(59)     # rad\n",
    "lon = deg2rad(10)     # rad\n",
    "h = 100               # meter\n",
    "\n",
    "# geod2ECEF\n",
    "X = (R + h)*cos(lat)*cos(lon)\n",
    "Y = (R + h)*cos(lat)*sin(lon)\n",
    "Z = (R + h)*sin(lat)\n",
    "\n",
    "print(f\"X: {X:.0f} m\")\n",
    "print(f\"Y: {Y:.0f} m\")\n",
    "print(f\"Z: {Z:.0f} m\")"
   ]
  },
  {
   "cell_type": "code",
   "execution_count": 2,
   "id": "91b140dc-50ae-4f37-bf56-090cc1c1a093",
   "metadata": {},
   "outputs": [
    {
     "name": "stdout",
     "output_type": "stream",
     "text": [
      "lat: 59 deg\n",
      "lon: 10 deg\n",
      "h: 100 m\n"
     ]
    }
   ],
   "source": [
    "# ECEF2geod\n",
    "lat = arctan(Z/sqrt(X**2 + Y**2))                 # rad\n",
    "lon = arctan(Y/X)                                 # rad\n",
    "h = sqrt(X**2 + Y**2)*cos(lat) + Z*sin(lat) - R   # meter\n",
    "\n",
    "print(f\"lat: {rad2deg(lat):.0f} deg\")\n",
    "print(f\"lon: {rad2deg(lon):.0f} deg\")\n",
    "print(f\"h: {h:.0f} m\")"
   ]
  }
 ],
 "metadata": {
  "kernelspec": {
   "display_name": "Python 3 (ipykernel)",
   "language": "python",
   "name": "python3"
  },
  "language_info": {
   "codemirror_mode": {
    "name": "ipython",
    "version": 3
   },
   "file_extension": ".py",
   "mimetype": "text/x-python",
   "name": "python",
   "nbconvert_exporter": "python",
   "pygments_lexer": "ipython3",
   "version": "3.10.8"
  }
 },
 "nbformat": 4,
 "nbformat_minor": 5
}
