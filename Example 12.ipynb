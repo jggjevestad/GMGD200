{
 "cells": [
  {
   "cell_type": "code",
   "execution_count": 1,
   "id": "88d93745-084a-4193-bee4-b9aa72e6f8a5",
   "metadata": {},
   "outputs": [
    {
     "name": "stdout",
     "output_type": "stream",
     "text": [
      "Azimuth Co->An: 350.6 deg\n",
      "Azimuth An->Co: 11.1 deg\n",
      "Distance Co->An: 6927.6 km\n"
     ]
    }
   ],
   "source": [
    "from geodesy import geod1, geod2, dms2rad, rad2dms, rad2deg, deg2rad, cos\n",
    "\n",
    "# SAS Arctic Route (Indirect)\n",
    "latCo = dms2rad([55, 41, 0])\n",
    "lonCo = dms2rad([12, 34, 0])\n",
    "\n",
    "latAn = dms2rad([61, 12, 0])\n",
    "lonAn = -dms2rad([149, 53, 0])\n",
    "\n",
    "R = 6371   # kilometer\n",
    "\n",
    "[az1, az2, s] = geod2(R, R, latCo, lonCo, latAn, lonAn)\n",
    "print(f\"Azimuth Co->An: {rad2deg(az1):.1f} deg\")\n",
    "print(f\"Azimuth An->Co: {rad2deg(az2):.1f} deg\")\n",
    "print(f\"Distance Co->An: {s:.1f} km\")"
   ]
  },
  {
   "cell_type": "code",
   "execution_count": 2,
   "id": "326f1b62-ae99-4bd3-82af-45c970ea7fcb",
   "metadata": {},
   "outputs": [
    {
     "name": "stdout",
     "output_type": "stream",
     "text": [
      "Latitude X: 68 54 57.3 N\n",
      "Longitude X: 29 57 58.1 E\n",
      "Azimuth X->An: 280.9 deg\n",
      "Distance to border: 1354 m\n"
     ]
    }
   ],
   "source": [
    "# Andøya Rocket Range (Direct)\n",
    "latAn = dms2rad([69, 17, 46])\n",
    "lonAn = dms2rad([16, 6, 29])\n",
    "\n",
    "az1 = deg2rad(87.9)\n",
    "d = 550\n",
    "\n",
    "[latX, lonX, azX] = geod1(R, R, latAn, lonAn, az1, d)\n",
    "\n",
    "dms = rad2dms(latX)\n",
    "print(f\"Latitude X: {dms[0]:d} {dms[1]:.0f} {dms[2]:.1f} N\")\n",
    "\n",
    "dms = rad2dms(lonX)\n",
    "print(f\"Longitude X: {dms[0]:d} {dms[1]:.0f} {dms[2]:.1f} E\")\n",
    "print(f\"Azimuth X->An: {rad2deg(azX):.1f} deg\")\n",
    "\n",
    "d = (deg2rad(30) - lonX)*R*cos(latX)\n",
    "print(f\"Distance to border: {d*1e3:.0f} m\")"
   ]
  }
 ],
 "metadata": {
  "kernelspec": {
   "display_name": "Python 3 (ipykernel)",
   "language": "python",
   "name": "python3"
  },
  "language_info": {
   "codemirror_mode": {
    "name": "ipython",
    "version": 3
   },
   "file_extension": ".py",
   "mimetype": "text/x-python",
   "name": "python",
   "nbconvert_exporter": "python",
   "pygments_lexer": "ipython3",
   "version": "3.10.8"
  }
 },
 "nbformat": 4,
 "nbformat_minor": 5
}
