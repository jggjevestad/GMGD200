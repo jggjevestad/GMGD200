{
 "cells": [
  {
   "cell_type": "code",
   "execution_count": 1,
   "metadata": {},
   "outputs": [],
   "source": [
    "# Importing libraries\n",
    "from numpy import sin, cos, sqrt\n",
    "from lib.geodesy import rad2deg, deg2rad, dms2deg, dms2rad, rad2dms, geod2ECEF, ECEF2geod, ECEF2geodb\n",
    "\n",
    "# Point P\n",
    "latP = dms2rad(59, 40, 1.10173)  # radians\n",
    "dlon = dms2rad(0, 3, 15.31987)   # radians\n",
    "hP = 156.228                     # meter\n",
    "\n",
    "# NGO1948 akse III\n",
    "lon0 = dms2rad(10, 43, 22.5)     # radians"
   ]
  },
  {
   "cell_type": "markdown",
   "metadata": {},
   "source": [
    "## Oppgave 1 {-}\n",
    "### Sfæriske koordinater {-}"
   ]
  },
  {
   "cell_type": "code",
   "execution_count": 2,
   "metadata": {},
   "outputs": [
    {
     "name": "stdout",
     "output_type": "stream",
     "text": [
      "latP_deg: 59.6669727028°, latP: 1.0413851284 rad\n",
      "lonP_deg: 10.7771721861°, lonP: 0.1880971387 rad\n"
     ]
    }
   ],
   "source": [
    "# a)\n",
    "# i) Beregn lonP\n",
    "lonP = lon0 + dlon\n",
    "\n",
    "# ii) Uttrykk latP og hP i grader og radianer\n",
    "latP_deg = dms2deg(59, 40, 1.10173)\n",
    "print(f\"latP_deg: {latP_deg:12.10f}°, latP: {latP:12.10f} rad\")\n",
    "\n",
    "lonP_deg = rad2deg(lonP)\n",
    "print(f\"lonP_deg: {lonP_deg:12.10f}°, lonP: {lonP:12.10f} rad\")"
   ]
  },
  {
   "cell_type": "code",
   "execution_count": 3,
   "metadata": {},
   "outputs": [
    {
     "name": "stdout",
     "output_type": "stream",
     "text": [
      "1 rad = 57.2957795131°\n"
     ]
    }
   ],
   "source": [
    "# iii) Hvor mange grader er 1 radian?\n",
    "print(f\"1 rad = {rad2deg(1):12.10f}°\")"
   ]
  },
  {
   "cell_type": "code",
   "execution_count": 4,
   "metadata": {},
   "outputs": [
    {
     "name": "stdout",
     "output_type": "stream",
     "text": [
      "90° = 1.5707963268 rad\n"
     ]
    }
   ],
   "source": [
    "# iv) Hvor mange radianer er 90°?\n",
    "print(f\"90° = {deg2rad(90):12.10f} rad\")"
   ]
  },
  {
   "cell_type": "code",
   "execution_count": 5,
   "metadata": {},
   "outputs": [
    {
     "name": "stdout",
     "output_type": "stream",
     "text": [
      "XP =  3164382.956 m\n",
      "YP =   602331.798 m\n",
      "ZP =  5505134.096 m\n"
     ]
    }
   ],
   "source": [
    "# v) Velg R=6378137 m og beregn ECEF koordinatene for punkt P\n",
    "R = 6378137  # meter\n",
    "\n",
    "XP, YP, ZP = geod2ECEF(R, R, latP, lonP, hP)\n",
    "print(f\"XP = {XP:12.3f} m\")\n",
    "print(f\"YP = {YP:12.3f} m\")\n",
    "print(f\"ZP = {ZP:12.3f} m\")"
   ]
  },
  {
   "cell_type": "code",
   "execution_count": 6,
   "metadata": {},
   "outputs": [],
   "source": [
    "# vi) De jordsentriske koordinatene for punkt P har enhet meter"
   ]
  },
  {
   "cell_type": "code",
   "execution_count": 7,
   "metadata": {},
   "outputs": [
    {
     "name": "stdout",
     "output_type": "stream",
     "text": [
      "lat =  59° 39' 58.35982\"N\n",
      "lon =  10° 46' 36.62254\"N\n",
      "h =      205.840 m\n"
     ]
    }
   ],
   "source": [
    "# b) Legg til 100 meter i XP\n",
    "latx, lonx, hx = ECEF2geod(R, R, XP + 100, YP, ZP)\n",
    "\n",
    "d, m, s = rad2dms(latx)\n",
    "print(f\"lat = {d:3d}° {m:02d}' {s:08.5f}\\\"N\")\n",
    "\n",
    "d, m, s = rad2dms(lonx)\n",
    "print(f\"lon = {d:3d}° {m:02d}' {s:08.5f}\\\"N\")\n",
    "\n",
    "print(f\"h = {hx:12.3f} m\")"
   ]
  },
  {
   "cell_type": "code",
   "execution_count": 8,
   "metadata": {},
   "outputs": [
    {
     "name": "stdout",
     "output_type": "stream",
     "text": [
      "lat =  59° 40' 00.57977\"N\n",
      "lon =  10° 46' 44.11024\"N\n",
      "h =      165.672 m\n",
      "lat =  59° 40' 02.73489\"N\n",
      "lon =  10° 46' 37.81987\"N\n",
      "h =      242.539 m\n"
     ]
    }
   ],
   "source": [
    "# c) Legg til 100 meter i YP\n",
    "laty, lony, hy = ECEF2geod(R, R, XP, YP + 100, ZP)\n",
    "\n",
    "d, m, s = rad2dms(laty)\n",
    "print(f\"lat = {d:3d}° {m:02d}' {s:08.5f}\\\"N\")\n",
    "\n",
    "d, m, s = rad2dms(lony)\n",
    "print(f\"lon = {d:3d}° {m:02d}' {s:08.5f}\\\"N\")\n",
    "\n",
    "print(f\"h = {hy:12.3f} m\")\n",
    "\n",
    "# Legg til 100 meter i ZP\n",
    "latz, lonz, hz = ECEF2geod(R, R, XP, YP, ZP + 100)\n",
    "\n",
    "d, m, s = rad2dms(latz)\n",
    "print(f\"lat = {d:3d}° {m:02d}' {s:08.5f}\\\"N\")\n",
    "\n",
    "d, m, s = rad2dms(lonz)\n",
    "print(f\"lon = {d:3d}° {m:02d}' {s:08.5f}\\\"N\")\n",
    "\n",
    "print(f\"h = {hz:12.3f} m\")"
   ]
  },
  {
   "cell_type": "code",
   "execution_count": 9,
   "metadata": {},
   "outputs": [
    {
     "name": "stdout",
     "output_type": "stream",
     "text": [
      "latP - latx =   0° 00' 02.74191\"N\n",
      "lonP - lonx =   0° 00' 01.19733\"N\n",
      "hP - hx =      -49.612 m\n",
      "latP - laty =   0° 00' 00.52196\"N\n",
      "lonP - lony =   0° 00' -6.29037\"N\n",
      "hP - hy =       -9.444 m\n",
      "latP - latz =   0° 00' -1.63316\"N\n",
      "lonP - lonz =   0° 00' 00.00000\"N\n",
      "hP - hz =      -86.311 m\n"
     ]
    }
   ],
   "source": [
    "# d) Hvor stor er differansen uttrykt i sfæriske koordinater?\n",
    "# X + 100 meter\n",
    "d, m, s = rad2dms(latP - latx)\n",
    "print(f\"latP - latx = {d:3d}° {m:02d}' {s:08.5f}\\\"N\")\n",
    "\n",
    "d, m, s = rad2dms(lonP - lonx)\n",
    "print(f\"lonP - lonx = {d:3d}° {m:02d}' {s:08.5f}\\\"N\")\n",
    "\n",
    "print(f\"hP - hx = {hP - hx:12.3f} m\")\n",
    "\n",
    "# Y + 100 meter\n",
    "d, m, s = rad2dms(latP - laty)\n",
    "print(f\"latP - laty = {d:3d}° {m:02d}' {s:08.5f}\\\"N\")\n",
    "\n",
    "d, m, s = rad2dms(lonP - lony)\n",
    "print(f\"lonP - lony = {d:3d}° {m:02d}' {s:08.5f}\\\"N\")\n",
    "\n",
    "print(f\"hP - hy = {hP - hy:12.3f} m\")\n",
    "\n",
    "# Z + 100 meter\n",
    "d, m, s = rad2dms(latP - latz)\n",
    "print(f\"latP - latz = {d:3d}° {m:02d}' {s:08.5f}\\\"N\")\n",
    "\n",
    "d, m, s = rad2dms(lonP - lonz)\n",
    "print(f\"lonP - lonz = {d:3d}° {m:02d}' {s:08.5f}\\\"N\")\n",
    "\n",
    "print(f\"hP - hz = {hP - hz:12.3f} m\")"
   ]
  },
  {
   "cell_type": "markdown",
   "metadata": {},
   "source": [
    "## Oppgave 2 {-}\n",
    "### Ellipsoidiske koordinater {-}"
   ]
  },
  {
   "cell_type": "code",
   "execution_count": 10,
   "metadata": {},
   "outputs": [
    {
     "name": "stdout",
     "output_type": "stream",
     "text": [
      "f = 1/298.257222101\n"
     ]
    }
   ],
   "source": [
    "# a)\n",
    "# i) Beregn flattrykning\n",
    "a = 6378137  # meter\n",
    "e2 = 6694380.02290e-9\n",
    "b = a * sqrt(1 - e2)\n",
    "\n",
    "f = (a - b)/a\n",
    "print(f\"f = 1/{1/f:12.9f}\")"
   ]
  },
  {
   "cell_type": "code",
   "execution_count": 11,
   "metadata": {},
   "outputs": [
    {
     "name": "stdout",
     "output_type": "stream",
     "text": [
      "b =  6356752.314 m\n"
     ]
    }
   ],
   "source": [
    "# ii) Beregn lille halvakse\n",
    "print(f\"b = {b:12.3f} m\")"
   ]
  },
  {
   "cell_type": "code",
   "execution_count": 12,
   "metadata": {},
   "outputs": [
    {
     "name": "stdout",
     "output_type": "stream",
     "text": [
      "e2 = 0.0067394967755\n"
     ]
    }
   ],
   "source": [
    "# iii) Beregn andre nummeriske eksentrisitet\n",
    "e2 = (a**2 - b**2) / b**2\n",
    "print(f\"e2 = {e2:15.13f}\")"
   ]
  },
  {
   "cell_type": "code",
   "execution_count": 13,
   "metadata": {},
   "outputs": [
    {
     "name": "stdout",
     "output_type": "stream",
     "text": [
      "a - b =    21384.686 m\n"
     ]
    }
   ],
   "source": [
    "# iv) Beregn differansen mellom store og lille halvakse\n",
    "print(f\"a - b = {a - b:12.3f} m\")"
   ]
  },
  {
   "cell_type": "code",
   "execution_count": 14,
   "metadata": {},
   "outputs": [],
   "source": [
    "# b) Vis at den sfæriske koordinattransformasjonen er et spesialtilfelle av ellipsoidiske koordinattransformasjonen"
   ]
  },
  {
   "cell_type": "markdown",
   "metadata": {},
   "source": [
    "$$\n",
    "N=\\frac{a}{(1-e^{2}\\sin^{2} \\phi)^{1/2}} \\qquad e^{2}=0 \\rightarrow N=a=b=R\n",
    "$$\n",
    "$$\n",
    "\\phi=\\arctan(Z/\\sqrt{X^{2}+Y^{2}})\n",
    "$$\n",
    "$$\n",
    "\\lambda=\\arctan(Y/X)\n",
    "$$\n",
    "$$\n",
    "h=\\sqrt{X^{2}+Y^{2}} \\cos \\phi + Z \\sin \\phi - R\n",
    "$$"
   ]
  },
  {
   "cell_type": "code",
   "execution_count": 15,
   "metadata": {},
   "outputs": [
    {
     "name": "stdout",
     "output_type": "stream",
     "text": [
      "XPe =  3172302.746 m\n",
      "YPe =   603839.309 m\n",
      "ZPe =  5481967.505 m\n"
     ]
    }
   ],
   "source": [
    "# c) Betrakt koordinatene til punkt P som ellipsoidiske koordinater og beregn de tilhørende jordsentriske (ECEF) koordinatene\n",
    "\n",
    "XPe, YPe, ZPe = geod2ECEF(a, b, latP, lonP, hP)\n",
    "print(f\"XPe = {XPe:12.3f} m\")\n",
    "print(f\"YPe = {YPe:12.3f} m\")\n",
    "print(f\"ZPe = {ZPe:12.3f} m\")"
   ]
  },
  {
   "cell_type": "code",
   "execution_count": 16,
   "metadata": {},
   "outputs": [
    {
     "name": "stdout",
     "output_type": "stream",
     "text": [
      "XPe - XP =     7919.791 m\n",
      "YPe - YP =     1507.511 m\n",
      "ZPe - ZP =   -23166.591 m\n"
     ]
    }
   ],
   "source": [
    "# d) Hvor stor er differansen i meter mellom de ellipsoidiske og de sfæriske koordinatene?\n",
    "print(f\"XPe - XP = {XPe - XP:12.3f} m\")\n",
    "print(f\"YPe - YP = {YPe - YP:12.3f} m\")\n",
    "print(f\"ZPe - ZP = {ZPe - ZP:12.3f} m\")"
   ]
  },
  {
   "cell_type": "code",
   "execution_count": 17,
   "metadata": {},
   "outputs": [
    {
     "name": "stdout",
     "output_type": "stream",
     "text": [
      "d =        0.006 m\n"
     ]
    }
   ],
   "source": [
    "# e) Vis at en endring i vinkel på 1e-9 radianer i latP utgjør en avstand på 0.006 m på jordoverflaten\n",
    "\n",
    "d = 6378137*1e-9\n",
    "print(f\"d = {d:12.3f} m\")"
   ]
  },
  {
   "cell_type": "code",
   "execution_count": 18,
   "metadata": {},
   "outputs": [
    {
     "name": "stdout",
     "output_type": "stream",
     "text": [
      "lat =  59° 40' 01.10173\"N\n",
      "lon =  10° 46' 37.81987\"N\n",
      "h =      156.228 m\n"
     ]
    }
   ],
   "source": [
    "# f) Beregn de ellipsoidiske koordinatene til punktet P ved iterasjon\n",
    "latPe, lonPe, hPe = ECEF2geod(a, b, XPe, YPe, ZPe)\n",
    "\n",
    "d, m, s = rad2dms(latPe)\n",
    "print(f\"lat = {d:3d}° {m:02d}' {s:08.5f}\\\"N\")\n",
    "\n",
    "d, m, s = rad2dms(lonPe)\n",
    "print(f\"lon = {d:3d}° {m:02d}' {s:08.5f}\\\"N\")\n",
    "\n",
    "print(f\"h = {hPe:12.3f} m\")"
   ]
  },
  {
   "cell_type": "code",
   "execution_count": 19,
   "metadata": {},
   "outputs": [
    {
     "name": "stdout",
     "output_type": "stream",
     "text": [
      "lat =  59° 40' 01.10173\"N\n",
      "lon =  10° 46' 37.81987\"N\n",
      "h =      156.228 m\n"
     ]
    }
   ],
   "source": [
    "# g) Beregn de ellipsoidiske koordinatene til punktet P ved bruk av Bowrings metode\n",
    "latPe, lonPe, hPe = ECEF2geodb(a, b, XPe, YPe, ZPe)\n",
    "\n",
    "d, m, s = rad2dms(latPe)\n",
    "print(f\"lat = {d:3d}° {m:02d}' {s:08.5f}\\\"N\")\n",
    "\n",
    "d, m, s = rad2dms(lonPe)\n",
    "print(f\"lon = {d:3d}° {m:02d}' {s:08.5f}\\\"N\")\n",
    "\n",
    "print(f\"h = {hPe:12.3f} m\")"
   ]
  },
  {
   "cell_type": "markdown",
   "metadata": {},
   "source": [
    "Bowrings metode er på lukket form og krever ingen iterasjon. Metoden vil gi tilnærmet likt resultat som ved iterasjon for posisjoner i nærheten av jordens overflate. Forskjellen mellom disse to metodene neglisjerbar for den aktuelle posisjonen."
   ]
  }
 ],
 "metadata": {
  "kernelspec": {
   "display_name": "Python 3 (ipykernel)",
   "language": "python",
   "name": "python3"
  },
  "language_info": {
   "codemirror_mode": {
    "name": "ipython",
    "version": 3
   },
   "file_extension": ".py",
   "mimetype": "text/x-python",
   "name": "python",
   "nbconvert_exporter": "python",
   "pygments_lexer": "ipython3",
   "version": "3.11.9"
  }
 },
 "nbformat": 4,
 "nbformat_minor": 4
}
