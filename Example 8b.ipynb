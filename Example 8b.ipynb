{
 "cells": [
  {
   "cell_type": "code",
   "execution_count": 5,
   "id": "bd77c989-9947-4041-8659-3c485c729a78",
   "metadata": {},
   "outputs": [
    {
     "data": {
      "text/latex": [
       "$\\displaystyle \\left[\\begin{matrix}\\cos{\\left(\\alpha \\right)} & \\sin{\\left(\\alpha \\right)}\\\\- \\sin{\\left(\\alpha \\right)} & \\cos{\\left(\\alpha \\right)}\\end{matrix}\\right]$"
      ],
      "text/plain": [
       "Matrix([\n",
       "[ cos(alpha), sin(alpha)],\n",
       "[-sin(alpha), cos(alpha)]])"
      ]
     },
     "metadata": {},
     "output_type": "display_data"
    }
   ],
   "source": [
    "from sympy import symbols, Matrix, sin, cos\n",
    "\n",
    "x1, y1, x2, y2, tx, ty, m, alpha = symbols('x1, y1, x2, y2, tx, ty, m, alpha')\n",
    "\n",
    "P1 = Matrix([[x1],\n",
    "             [y1]])\n",
    "\n",
    "P2 = Matrix([[x2],\n",
    "             [y2]])\n",
    "\n",
    "T = Matrix([[tx],\n",
    "            [ty]])\n",
    "\n",
    "R = Matrix([[cos(alpha), sin(alpha)],\n",
    "            [-sin(alpha), cos(alpha)]])\n",
    "display (R)"
   ]
  },
  {
   "cell_type": "code",
   "execution_count": 6,
   "id": "4b8ba624-ff81-446d-ba02-2d6bb50a0c84",
   "metadata": {},
   "outputs": [
    {
     "data": {
      "text/latex": [
       "$\\displaystyle \\left[\\begin{matrix}m x_{1} \\cos{\\left(\\alpha \\right)} + m y_{1} \\sin{\\left(\\alpha \\right)} + tx\\\\- m x_{1} \\sin{\\left(\\alpha \\right)} + m y_{1} \\cos{\\left(\\alpha \\right)} + ty\\end{matrix}\\right]$"
      ],
      "text/plain": [
       "Matrix([\n",
       "[ m*x1*cos(alpha) + m*y1*sin(alpha) + tx],\n",
       "[-m*x1*sin(alpha) + m*y1*cos(alpha) + ty]])"
      ]
     },
     "metadata": {},
     "output_type": "display_data"
    }
   ],
   "source": [
    "P2 = T + m*R@P1\n",
    "display(P2)"
   ]
  },
  {
   "cell_type": "code",
   "execution_count": 8,
   "id": "697b591d-6255-496f-886e-c048a7c1b72f",
   "metadata": {},
   "outputs": [
    {
     "data": {
      "text/latex": [
       "$\\displaystyle \\left[\\begin{matrix}a_{1} & a_{2}\\\\a_{3} & a_{4}\\end{matrix}\\right]$"
      ],
      "text/plain": [
       "Matrix([\n",
       "[a1, a2],\n",
       "[a3, a4]])"
      ]
     },
     "metadata": {},
     "output_type": "display_data"
    }
   ],
   "source": [
    "a1, a2, a3, a4, b1, b2, b3, b4 = symbols('a1, a2, a3, a4, b1, b2, b3, b4')\n",
    "\n",
    "A = Matrix([[a1, a2],\n",
    "            [a3, a4]])\n",
    "display(A)"
   ]
  },
  {
   "cell_type": "code",
   "execution_count": 9,
   "id": "327551c4-2334-4af8-8a37-85617a90a109",
   "metadata": {},
   "outputs": [
    {
     "data": {
      "text/latex": [
       "$\\displaystyle \\left[\\begin{matrix}b_{1} & b_{2}\\\\b_{3} & b_{4}\\end{matrix}\\right]$"
      ],
      "text/plain": [
       "Matrix([\n",
       "[b1, b2],\n",
       "[b3, b4]])"
      ]
     },
     "metadata": {},
     "output_type": "display_data"
    }
   ],
   "source": [
    "B = Matrix([[b1, b2],\n",
    "            [b3, b4]])\n",
    "display(B)"
   ]
  },
  {
   "cell_type": "code",
   "execution_count": 10,
   "id": "394da891-522a-4a8f-84c6-1b078801074f",
   "metadata": {},
   "outputs": [
    {
     "data": {
      "text/latex": [
       "$\\displaystyle \\left[\\begin{matrix}a_{1} b_{1} + a_{2} b_{3} & a_{1} b_{2} + a_{2} b_{4}\\\\a_{3} b_{1} + a_{4} b_{3} & a_{3} b_{2} + a_{4} b_{4}\\end{matrix}\\right]$"
      ],
      "text/plain": [
       "Matrix([\n",
       "[a1*b1 + a2*b3, a1*b2 + a2*b4],\n",
       "[a3*b1 + a4*b3, a3*b2 + a4*b4]])"
      ]
     },
     "metadata": {},
     "output_type": "display_data"
    }
   ],
   "source": [
    "display(A@B)"
   ]
  }
 ],
 "metadata": {
  "kernelspec": {
   "display_name": "Python 3 (ipykernel)",
   "language": "python",
   "name": "python3"
  },
  "language_info": {
   "codemirror_mode": {
    "name": "ipython",
    "version": 3
   },
   "file_extension": ".py",
   "mimetype": "text/x-python",
   "name": "python",
   "nbconvert_exporter": "python",
   "pygments_lexer": "ipython3",
   "version": "3.10.8"
  }
 },
 "nbformat": 4,
 "nbformat_minor": 5
}
