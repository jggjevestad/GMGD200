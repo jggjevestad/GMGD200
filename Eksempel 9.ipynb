{
 "cells": [
  {
   "cell_type": "code",
   "execution_count": 1,
   "id": "b8cbe304-c6d3-432a-8691-ebcb42257242",
   "metadata": {},
   "outputs": [],
   "source": [
    "from numpy import pi, sin, cos, arccos, arcsin\n",
    "from geodesy import dms2rad, rad2deg, rad2dms\n",
    "\n",
    "# Jordradius\n",
    "R = 6371                      # kilometer\n",
    "\n",
    "# København\n",
    "latCo = dms2rad(55, 41, 0)    # radianer\n",
    "lonCo = dms2rad(12, 34, 0)    # radianer\n",
    "\n",
    "# Anchorage\n",
    "latAn = dms2rad(61, 12, 0)    # radianer\n",
    "lonAn = -dms2rad(149, 53, 0)  # radianer"
   ]
  },
  {
   "cell_type": "code",
   "execution_count": 2,
   "id": "1c5252b7-b30c-4663-b5e9-09d84f6a8674",
   "metadata": {},
   "outputs": [],
   "source": [
    "# Kjente størrelser i den sfæriske trekanten\n",
    "a = pi/2 - latCo              # radianer\n",
    "b = pi/2 - latAn              # radianer\n",
    "C = abs(lonAn - lonCo)        # radianer"
   ]
  },
  {
   "cell_type": "code",
   "execution_count": 3,
   "id": "ec9b86d2-deb8-4d51-b18d-5aeb9527fbcf",
   "metadata": {},
   "outputs": [
    {
     "name": "stdout",
     "output_type": "stream",
     "text": [
      "Avstand direkte rute Co-An:  6928 km\n"
     ]
    }
   ],
   "source": [
    "# Beregner avstand direkte rute\n",
    "c = arccos(cos(a)*cos(b) + sin(a)*sin(b)*cos(C))\n",
    "d_Co_An = c*R\n",
    "print(f\"Avstand direkte rute Co-An: {d_Co_An:5.0f} km\")"
   ]
  },
  {
   "cell_type": "code",
   "execution_count": 4,
   "id": "f2d4bf18-2cff-47bb-960c-4eae1ef91432",
   "metadata": {},
   "outputs": [
    {
     "name": "stdout",
     "output_type": "stream",
     "text": [
      "Avstand via Nordpolen:  7018 km\n",
      "Differanse:    91 km\n"
     ]
    }
   ],
   "source": [
    "# Beregner avstand via Nordpolen\n",
    "d_Co_N_An = (a + b)*R\n",
    "print(f\"Avstand via Nordpolen: {d_Co_N_An:5.0f} km\")\n",
    "print(f\"Differanse: {d_Co_N_An - d_Co_An:5.0f} km\")"
   ]
  },
  {
   "cell_type": "code",
   "execution_count": 5,
   "id": "c3fc64c3-0d6a-47ea-a95e-44030a2ab31f",
   "metadata": {},
   "outputs": [
    {
     "name": "stdout",
     "output_type": "stream",
     "text": [
      "Asimut i Co:  350.6 grader\n"
     ]
    }
   ],
   "source": [
    "# Beregner asimut ved avgang i København\n",
    "B = arcsin(sin(C)*sin(b)/sin(c))\n",
    "az_Co = 2*pi - B\n",
    "print(f\"Asimut i Co: {rad2deg(az_Co):6.1f} grader\")"
   ]
  },
  {
   "cell_type": "code",
   "execution_count": 6,
   "id": "2049a4c2-27cc-40b8-8f2a-250accdff295",
   "metadata": {},
   "outputs": [
    {
     "name": "stdout",
     "output_type": "stream",
     "text": [
      "Asimut i An:  191.1 grader\n"
     ]
    }
   ],
   "source": [
    "# Beregner asimut ved landing i Anchorage\n",
    "A = arcsin(sin(C)*sin(a)/sin(c))\n",
    "az_An = A + pi\n",
    "print(f\"Asimut i An: {rad2deg(az_An):6.1f} grader\")"
   ]
  },
  {
   "cell_type": "code",
   "execution_count": 7,
   "id": "822148cc-8bcf-4b0a-9a97-ef1da56300d6",
   "metadata": {},
   "outputs": [
    {
     "name": "stdout",
     "output_type": "stream",
     "text": [
      "Avstand til Nordpolen:   590 km\n"
     ]
    }
   ],
   "source": [
    "# Beregn avstand til Nordpolen\n",
    "x = arcsin(sin(a)*sin(B))\n",
    "\n",
    "d_x_N = x*R\n",
    "print(f\"Avstand til Nordpolen: {d_x_N:5.0f} km\")"
   ]
  },
  {
   "cell_type": "code",
   "execution_count": 8,
   "id": "6110ce0e-56be-40a6-b1a4-ae4ef65d6126",
   "metadata": {},
   "outputs": [
    {
     "name": "stdout",
     "output_type": "stream",
     "text": [
      "Høyeste breddegrad er:  84° 41' N\n"
     ]
    }
   ],
   "source": [
    "# Beregn høyeste breddegrad\n",
    "latx = pi/2 - x\n",
    "d, m, s = rad2dms(latx)\n",
    "print(f\"Høyeste breddegrad er: {d:3d}° {m:02d}' N\")"
   ]
  }
 ],
 "metadata": {
  "kernelspec": {
   "display_name": "Python 3 (ipykernel)",
   "language": "python",
   "name": "python3"
  },
  "language_info": {
   "codemirror_mode": {
    "name": "ipython",
    "version": 3
   },
   "file_extension": ".py",
   "mimetype": "text/x-python",
   "name": "python",
   "nbconvert_exporter": "python",
   "pygments_lexer": "ipython3",
   "version": "3.11.9"
  }
 },
 "nbformat": 4,
 "nbformat_minor": 5
}
