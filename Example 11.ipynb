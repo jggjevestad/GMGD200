{
 "cells": [
  {
   "cell_type": "code",
   "execution_count": 1,
   "id": "e01c8779-7fc7-4b78-85f9-3e047a37ed7a",
   "metadata": {},
   "outputs": [
    {
     "name": "stdout",
     "output_type": "stream",
     "text": [
      "[[ 1.e+04  3.e-02]\n",
      " [-2.e-02  5.e+07]]\n"
     ]
    }
   ],
   "source": [
    "from numpy import array, set_printoptions\n",
    "\n",
    "A = array([[1e4, 3e-2],\n",
    "           [-2e-2, 5e7]])\n",
    "print(A)"
   ]
  },
  {
   "cell_type": "code",
   "execution_count": 3,
   "id": "777d394a-63b6-4041-b437-3496404b7fab",
   "metadata": {},
   "outputs": [
    {
     "name": "stdout",
     "output_type": "stream",
     "text": [
      "[[10000.000 0.030]\n",
      " [-0.020 50000000.000]]\n"
     ]
    }
   ],
   "source": [
    "set_printoptions(formatter={'float': lambda x: \"{0:0.3f}\".format(x)})\n",
    "print(A)"
   ]
  }
 ],
 "metadata": {
  "kernelspec": {
   "display_name": "Python 3 (ipykernel)",
   "language": "python",
   "name": "python3"
  },
  "language_info": {
   "codemirror_mode": {
    "name": "ipython",
    "version": 3
   },
   "file_extension": ".py",
   "mimetype": "text/x-python",
   "name": "python",
   "nbconvert_exporter": "python",
   "pygments_lexer": "ipython3",
   "version": "3.10.8"
  }
 },
 "nbformat": 4,
 "nbformat_minor": 5
}
