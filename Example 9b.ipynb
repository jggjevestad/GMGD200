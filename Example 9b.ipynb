{
 "cells": [
  {
   "cell_type": "markdown",
   "id": "89657b6f-c262-40b7-a876-e61b5ed46e1b",
   "metadata": {},
   "source": [
    "## Andøya Rocket Range {-}"
   ]
  },
  {
   "cell_type": "code",
   "execution_count": 1,
   "id": "fad97f51-f034-42c8-b00d-c9f92b069b4f",
   "metadata": {},
   "outputs": [],
   "source": [
    "from geodesy import dms2rad, deg2rad, rad2dms\n",
    "from numpy import pi, sin, cos, arcsin, arccos\n",
    "\n",
    "R = 6371e3         # meter\n",
    "\n",
    "latAn = dms2rad([69, 17, 46])\n",
    "lonAn = dms2rad([16, 6, 29])\n",
    "\n",
    "d = 550e3          # meter\n",
    "A = deg2rad(87.9)  # radian\n",
    "\n",
    "b = pi/2 - latAn\n",
    "c = d/R"
   ]
  },
  {
   "cell_type": "code",
   "execution_count": 2,
   "id": "8b533ae8-9238-41c3-8669-67742c0c2a94",
   "metadata": {},
   "outputs": [
    {
     "name": "stdout",
     "output_type": "stream",
     "text": [
      "Latitude landing: 68 54 57 deg\n"
     ]
    }
   ],
   "source": [
    "a = arccos(cos(b)*cos(c) + sin(b)*sin(c)*cos(A))\n",
    "latX = pi/2 - a\n",
    "dms = rad2dms(latX)\n",
    "print(f\"Latitude landing: {dms[0]:.0f} {dms[1]:.0f} {dms[2]:.0f} deg\")"
   ]
  },
  {
   "cell_type": "code",
   "execution_count": 3,
   "id": "c5b3ba45-02d7-4cd3-bcbc-f2cf0dc95772",
   "metadata": {},
   "outputs": [
    {
     "name": "stdout",
     "output_type": "stream",
     "text": [
      "Longitude landing: 29 57 58 deg\n"
     ]
    }
   ],
   "source": [
    "C = arcsin(sin(A)*sin(c)/sin(a))\n",
    "lonX = lonAn + C\n",
    "dms = rad2dms(lonX)\n",
    "print(f\"Longitude landing: {dms[0]:.0f} {dms[1]:.0f} {dms[2]:.0f} deg\")"
   ]
  },
  {
   "cell_type": "code",
   "execution_count": 4,
   "id": "3a1425cd-7785-442c-8ce9-4096906bcb65",
   "metadata": {},
   "outputs": [
    {
     "name": "stdout",
     "output_type": "stream",
     "text": [
      "Distance to border: 1354 km\n"
     ]
    }
   ],
   "source": [
    "d = (deg2rad(30) - lonX)*R*cos(latX)\n",
    "print(f\"Distance to border: {d:.0f} km\")"
   ]
  }
 ],
 "metadata": {
  "kernelspec": {
   "display_name": "Python 3 (ipykernel)",
   "language": "python",
   "name": "python3"
  },
  "language_info": {
   "codemirror_mode": {
    "name": "ipython",
    "version": 3
   },
   "file_extension": ".py",
   "mimetype": "text/x-python",
   "name": "python",
   "nbconvert_exporter": "python",
   "pygments_lexer": "ipython3",
   "version": "3.10.8"
  }
 },
 "nbformat": 4,
 "nbformat_minor": 5
}
